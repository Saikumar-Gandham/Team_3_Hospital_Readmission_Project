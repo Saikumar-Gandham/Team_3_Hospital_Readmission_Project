{
 "cells": [
  {
   "cell_type": "markdown",
   "id": "9823ba82-ce86-43ce-a25d-266c03a19693",
   "metadata": {},
   "source": [
    "# Best Working model testing for Prediction of Hospital Readmission and it's reason if readmission prediction occurs true"
   ]
  },
  {
   "cell_type": "markdown",
   "id": "93c41e12-7361-4ea7-9340-6dced0126cdc",
   "metadata": {},
   "source": [
    "\n",
    "## Note that, since the jupyter notebook doesn't save the inputs passed to the terminal, only the outputs are visible when we saved and uploaded this file to the github. \n",
    "## Please refer to the \"Readmissions_best_working_models_testing_RESULTS.pdf\" file uploaded on the github to see various inputs we tried to test our models.\n"
   ]
  },
  {
   "cell_type": "markdown",
   "id": "0015f2d1-db14-4764-aa1b-d2b5bf6c718c",
   "metadata": {},
   "source": [
    "\n",
    "### Used models-->\n",
    "### Objective 1 - Readmission Prediction - GRU model\n",
    "### Objective 1 - Readmission Reason pred - FCNN with Attention mechanism model tuned using keras tuner"
   ]
  },
  {
   "cell_type": "code",
   "execution_count": null,
   "id": "5dfaeaa7-e224-4b91-bc8f-0737e154f5bf",
   "metadata": {},
   "outputs": [],
   "source": [
    "import numpy as np\n",
    "from scipy.sparse import hstack, csr_matrix\n",
    "from tensorflow.keras.models import load_model\n",
    "from sklearn.feature_extraction.text import TfidfVectorizer\n",
    "from sklearn.preprocessing import MultiLabelBinarizer, StandardScaler\n",
    "import joblib\n",
    "# Load models\n",
    "gru_model_path = 'gru_model_latest.h5'  # Objective-1 GRU model\n",
    "gru_model = load_model(gru_model_path)\n",
    "fcnn_model_path = \"fcnn_attention_tuned_model.pkl\"  # Objective-2 FCNN + Attention model\n",
    "fcnn_attention_model = joblib.load(fcnn_model_path)\n",
    "# Define thresholds\n",
    "OBJECTIVE_1_THRESHOLD = 0.3689  # Updated Precision-Recall Threshold for Objective-1\n",
    "OBJECTIVE_2_THRESHOLDS = [0.57, 0.50, 0.56, 0.40, 0.48, 0.52, 0.59, 0.56, 0.50, 0.49, 0.51]  # Class-specific thresholds for Objective-2\n",
    "# Initialize preprocessors (same logic and configuration as training)\n",
    "tfidf_vectorizer = TfidfVectorizer(max_features=10000)\n",
    "scaler = StandardScaler()\n",
    "mlb_icd9 = MultiLabelBinarizer()\n",
    "mlb_proc_icd9 = MultiLabelBinarizer()\n",
    "mlb_drug_code = MultiLabelBinarizer()\n",
    "# Simulated fit of preprocessors (Ensure these match training data)\n",
    "tfidf_vectorizer.fit([\"sample text\"] * 100)  # Simulating training fit\n",
    "scaler.fit([[0]] * 100)  # Simulating training fit for numerical features\n",
    "mlb_icd9.fit([[\"ICD1\", \"ICD2\"]])  # Replace with actual training classes\n",
    "mlb_proc_icd9.fit([[\"PROC1\", \"PROC2\"]])\n",
    "mlb_drug_code.fit([[\"DRG1\", \"DRG2\"]])\n",
    "# Initialize MultiLabelBinarizer for decoding output labels (Objective-2)\n",
    "correct_classes = [\n",
    "   'Certain Conditions originating in the Perinatal Period',\n",
    "   'Diseases of the Blood and Blood-forming Organs',\n",
    "   'Diseases of the Circulatory System',\n",
    "   'Diseases of the Digestive System',\n",
    "   'Diseases of the Genitourinary System',\n",
    "   'Diseases of the Nervous System and Mental Disorders',\n",
    "   'Diseases of the Respiratory System',\n",
    "   'Endocrine, Nutritional and Metabolic Diseases',\n",
    "   'Infectious and Parasitic Diseases',\n",
    "   'Injury and Poisoning',\n",
    "   'Symptoms, Signs and Ill-defined Conditions'\n",
    "]\n",
    "mlb = MultiLabelBinarizer(classes=correct_classes)\n",
    "mlb.fit([])  # Ensure compatibility for inverse transform\n",
    "# Combined interface function\n",
    "def predict_readmission_and_reasons():\n",
    "   print(\"Welcome to the Readmission and Reasons Prediction System!\")\n",
    "   # Collect user inputs\n",
    "   cleaned_text = input(\"Enter the cleaned text data: \")\n",
    "   past_admissions = float(input(\"Enter the number of past 6-month hospital admissions: \"))\n",
    "   icd9_codes = input(\"Enter ICD9 codes (comma-separated): \").split(',')\n",
    "   proc_icd9_codes = input(\"Enter Procedure ICD9 codes (comma-separated): \").split(',')\n",
    "   drg_codes = input(\"Enter DRG codes (comma-separated): \").split(',')\n",
    "   # Preprocess inputs for both Objective-1 and Objective-2\n",
    "   try:\n",
    "       X_text = tfidf_vectorizer.transform([cleaned_text])\n",
    "       X_numerical = scaler.transform([[past_admissions]])\n",
    "       icd9_encoded = mlb_icd9.transform([list(set(icd9_codes) & set(mlb_icd9.classes_))])\n",
    "       proc_icd9_encoded = mlb_proc_icd9.transform([list(set(proc_icd9_codes) & set(mlb_proc_icd9.classes_))])\n",
    "       drug_code_encoded = mlb_drug_code.transform([list(set(drg_codes) & set(mlb_drug_code.classes_))])\n",
    "   except ValueError as e:\n",
    "       print(f\"Error in preprocessing input: {e}\")\n",
    "       return\n",
    "   # Combine all features into a single sparse matrix\n",
    "   X_combined = hstack([X_text, X_numerical, icd9_encoded, proc_icd9_encoded, drug_code_encoded])\n",
    "   # Ensure the feature count matches the model's expectation\n",
    "   EXPECTED_FEATURE_COUNT_OBJ1 = gru_model.input_shape[-1]  # Objective-1 features\n",
    "   EXPECTED_FEATURE_COUNT_OBJ2 = fcnn_attention_model.input_shape[1]  # Objective-2 features\n",
    "   # Padding or trimming for Objective-1\n",
    "   if X_combined.shape[1] < EXPECTED_FEATURE_COUNT_OBJ1:\n",
    "       padding = csr_matrix((X_combined.shape[0], EXPECTED_FEATURE_COUNT_OBJ1 - X_combined.shape[1]))\n",
    "       X_combined_obj1 = hstack([X_combined, padding])\n",
    "   else:\n",
    "       X_combined_obj1 = X_combined[:, :EXPECTED_FEATURE_COUNT_OBJ1]\n",
    "   # Padding or trimming for Objective-2\n",
    "   if X_combined.shape[1] < EXPECTED_FEATURE_COUNT_OBJ2:\n",
    "       padding = csr_matrix((X_combined.shape[0], EXPECTED_FEATURE_COUNT_OBJ2 - X_combined.shape[1]))\n",
    "       X_combined_obj2 = hstack([X_combined, padding])\n",
    "   else:\n",
    "       X_combined_obj2 = X_combined[:, :EXPECTED_FEATURE_COUNT_OBJ2]\n",
    "   # Reshape for GRU (Objective-1)\n",
    "   X_combined_obj1 = np.array(X_combined_obj1.todense()).reshape(1, 1, -1)\n",
    "   # Predict Objective-1\n",
    "   prediction_prob_obj1 = gru_model.predict(X_combined_obj1)[0][0]\n",
    "   prediction_class_obj1 = int(prediction_prob_obj1 > OBJECTIVE_1_THRESHOLD)\n",
    "   print(\"\\nObjective-1 Prediction Results:\")\n",
    "   #print(f\"Probability of Readmission: {prediction_prob_obj1:.4f}\")\n",
    "   print(f\"Will the patient be readmitted? {'Yes' if prediction_class_obj1 == 1 else 'No'}\")\n",
    "   if prediction_class_obj1 == 1:\n",
    "       print(\"\\nPatient is likely to be readmitted. Predicting reasons (Objective-2)...\")\n",
    "       # Predict Objective-2\n",
    "       X_combined_obj2 = np.array(X_combined_obj2.todense())\n",
    "       prediction_prob_obj2 = fcnn_attention_model.predict(X_combined_obj2)[0]\n",
    "       # Apply class-specific thresholds\n",
    "       prediction_class_obj2 = (prediction_prob_obj2 > OBJECTIVE_2_THRESHOLDS).astype(int)\n",
    "       # Decode predictions back to labels\n",
    "       # Decode predictions back to labels\n",
    "       predicted_labels = mlb.inverse_transform(np.array([prediction_class_obj2]))\n",
    "\n",
    "       print(\"\\nObjective-2 Prediction Results:\")\n",
    "       print(f\"Predicted Reasons for Readmission: {', '.join(predicted_labels[0]) if predicted_labels else 'None'}\")\n",
    "       #print(f\"Prediction Probabilities: {dict(zip(mlb.classes_, prediction_prob_obj2))}\")\n",
    "   else:\n",
    "       print(\"\\nPatient is not likely to be readmitted. No reasons to predict.\")"
   ]
  },
  {
   "cell_type": "markdown",
   "id": "719e926a-da86-473f-a3b8-ce2adb2aea47",
   "metadata": {},
   "source": [
    "\n",
    "### Run the function to test on various inputs \n"
   ]
  },
  {
   "cell_type": "code",
   "execution_count": 134,
   "id": "83b654c4-dd2f-42a0-8766-ca9886852ac9",
   "metadata": {},
   "outputs": [
    {
     "name": "stdout",
     "output_type": "stream",
     "text": [
      "Welcome to the Readmission and Reasons Prediction System!\n"
     ]
    },
    {
     "name": "stdin",
     "output_type": "stream",
     "text": [
      "Enter the cleaned text data:  Chief Complaint: The patient presented with mild abdominal pain and occasional nausea over the past week. History of Present Illness: Emily Carter, a 32-year-old female with no significant past medical history, reported mild intermittent abdominal discomfort accompanied by nausea. Symptoms began after consuming a large, spicy meal. No history of fever, diarrhea, or significant weight loss. On evaluation, she was hemodynamically stable, and lab results were within normal limits except for mildly elevated liver enzymes. Abdominal ultrasound revealed mild cholecystitis without gallstones. Physical Examination: General Appearance: Alert, well-nourished, and in no acute distress. Vital Signs: Temperature: 98.7°F Heart Rate: 75 bpm Blood Pressure: 120/78 mmHg Respiratory Rate: 16 breaths per minute Abdominal Exam: Mild tenderness in the right upper quadrant, no rebound or guarding. Diagnostics and Labs: Complete Blood Count (CBC): Normal. Liver Function Tests: ALT: 65 U/L (mildly elevated). AST: 70 U/L (mildly elevated). Bilirubin: Normal. Abdominal Ultrasound: Mild thickening of the gallbladder wall; no gallstones or biliary duct dilation. Medications Administered During Hospitalization: Intravenous fluids (Normal Saline): 1,000 mL over 8 hours. Antiemetic (Ondansetron 4 mg IV): Administered twice during hospitalization. Analgesic (Acetaminophen 650 mg PO): Administered as needed for pain relief. Medications Prescribed on Discharge: Acetaminophen 500 mg PO every 6 hours as needed for abdominal discomfort. Pantoprazole 40 mg PO daily for two weeks to reduce gastric acidity. Discharge Plan: The patient demonstrated significant improvement during the hospital stay, with complete resolution of abdominal pain and nausea. She was discharged in stable condition with dietary counseling to avoid high-fat and spicy foods. Follow-up with her primary care provider is recommended in four weeks for routine monitoring of liver enzymes. Prognosis: The patient is considered fully recovered and shows no risk factors for readmission. Her condition is likely attributable to dietary indiscretion, with no underlying chronic illness or structural abnormalities identified. Physician’s Note: Emily Carter is in excellent health and has been advised on lifestyle and dietary modifications to prevent recurrence of symptoms. She is unlikely to require further medical intervention for this episode.\n",
      "Enter the number of past 6-month hospital admissions:  0\n",
      "Enter ICD9 codes (comma-separated):  57510, 78906, V700\n",
      "Enter Procedure ICD9 codes (comma-separated):  8872, 9925, 9929\n",
      "Enter DRG codes (comma-separated):  493, 391\n"
     ]
    },
    {
     "name": "stdout",
     "output_type": "stream",
     "text": [
      "\u001b[1m1/1\u001b[0m \u001b[32m━━━━━━━━━━━━━━━━━━━━\u001b[0m\u001b[37m\u001b[0m \u001b[1m0s\u001b[0m 18ms/step\n",
      "\n",
      "Objective-1 Prediction Results:\n",
      "Will the patient be readmitted? No\n",
      "\n",
      "Patient is not likely to be readmitted. No reasons to predict.\n"
     ]
    }
   ],
   "source": [
    "predict_readmission_and_reasons()"
   ]
  },
  {
   "cell_type": "code",
   "execution_count": 104,
   "id": "82d943df-e890-401f-a432-7b444701287d",
   "metadata": {},
   "outputs": [
    {
     "name": "stdout",
     "output_type": "stream",
     "text": [
      "Welcome to the Readmission and Reasons Prediction System!\n"
     ]
    },
    {
     "name": "stdin",
     "output_type": "stream",
     "text": [
      "Enter the cleaned text data:  Reason for Admission: Acute exacerbation of chronic obstructive pulmonary disease (COPD) with respiratory distress.  Subjective: The patient, a 65-year-old male with a history of COPD, presented with worsening shortness of breath, productive cough with yellow sputum, and mild fever for the past three days. The patient reported increased fatigue and difficulty performing daily activities.  Objective:      Vital Signs: Slight tachycardia (HR: 104 bpm), SpO2: 88% on room air, improved to 94% on 2L nasal cannula.     Physical Examination:         Lungs: Bilateral wheezing, diminished breath sounds at the bases.         No cyanosis or accessory muscle use observed at rest.     Laboratory Tests:         Elevated WBC count (13,200/mm³).         Arterial blood gas showed pH 7.36, pCO2 56 mmHg, pO2 62 mmHg on 2L oxygen.     Chest X-ray: Hyperinflation of lungs with no new infiltrates.  Assessment: The patient was diagnosed with an acute exacerbation of COPD, likely triggered by a viral upper respiratory infection. Despite improvement with treatment, residual respiratory distress and limited exercise tolerance remain concerns for potential relapse.  Plan:      In-Hospital Treatment:         Administered bronchodilators (albuterol/ipratropium nebulization).         Initiated corticosteroid therapy (prednisone 40 mg/day).         Empiric antibiotics (azithromycin) for possible bacterial superinfection.         Supplemental oxygen therapy titrated to maintain SpO2 >92%.     Discharge Recommendations:         Continue prednisone taper for 10 days.         Maintain home oxygen therapy at 2L/min.         Follow-up with pulmonary specialist in 7 days.         Patient advised to avoid exposure to irritants and monitor for worsening symptoms.  Discharge Summary: The patient showed partial improvement with decreased wheezing and stabilized oxygen saturation. However, the persistence of productive cough, elevated WBC count, and reliance on supplemental oxygen raises concerns for potential readmission due to unresolved underlying inflammation or secondary bacterial infection.  The patient expressed concern about their condition but was reassured and discharged with close monitoring instructions.\n",
      "Enter the number of past 6-month hospital admissions:  1\n",
      "Enter ICD9 codes (comma-separated):  49121,4660\n",
      "Enter Procedure ICD9 codes (comma-separated):  9604,9396\n",
      "Enter DRG codes (comma-separated):  190\n"
     ]
    },
    {
     "name": "stdout",
     "output_type": "stream",
     "text": [
      "\u001b[1m1/1\u001b[0m \u001b[32m━━━━━━━━━━━━━━━━━━━━\u001b[0m\u001b[37m\u001b[0m \u001b[1m0s\u001b[0m 89ms/step\n",
      "\n",
      "Objective-1 Prediction Results:\n",
      "Probability of Readmission: 0.3535\n",
      "Will the patient be readmitted? Yes\n",
      "\n",
      "Patient is likely to be readmitted. Predicting reasons (Objective-2)...\n",
      "\u001b[1m1/1\u001b[0m \u001b[32m━━━━━━━━━━━━━━━━━━━━\u001b[0m\u001b[37m\u001b[0m \u001b[1m0s\u001b[0m 49ms/step\n",
      "\n",
      "Objective-2 Prediction Results:\n",
      "Predicted Reasons for Readmission: Diseases of the Respiratory System\n"
     ]
    }
   ],
   "source": [
    "predict_readmission_and_reasons()"
   ]
  },
  {
   "cell_type": "code",
   "execution_count": 114,
   "id": "54684ec6-60c3-45f4-9908-490f757b6312",
   "metadata": {},
   "outputs": [
    {
     "name": "stdout",
     "output_type": "stream",
     "text": [
      "Welcome to the Readmission and Reasons Prediction System!\n"
     ]
    },
    {
     "name": "stdin",
     "output_type": "stream",
     "text": [
      "Enter the cleaned text data:  Chief Complaint: The patient presented with chest pain, shortness of breath, and fatigue, which began two days prior to admission. History of Present Illness: The patient, a 58-year-old male with a history of hypertension and hyperlipidemia, presented with acute chest pain radiating to the left arm, accompanied by shortness of breath. Symptoms occurred at rest and were unrelieved by over-the-counter medications. The patient had experienced similar episodes over the past month but did not seek medical attention earlier. Physical Examination: General Appearance: Pale, anxious, moderate distress. Vital Signs: Blood pressure elevated at 180/98 mmHg, pulse irregular at 105 bpm. Cardiac Examination: Irregular heart rhythm, audible S3 gallop, no significant murmurs. Respiratory System: Bilateral crackles in lung bases, indicating possible pulmonary congestion. Extremities: Mild bilateral pedal edema. Diagnostics and Labs: ECG: ST-segment depression in anterior leads, irregular atrial fibrillation. Troponin Levels: Elevated, suggestive of myocardial ischemia. Echocardiogram: Reduced ejection fraction (45%), mild left ventricular hypertrophy. Chest X-Ray: Mild pulmonary edema. Medications Prescribed: Dual antiplatelet therapy (Aspirin and Clopidogrel). Beta-blocker for rate control. ACE inhibitor for heart failure management. Diuretic (Furosemide) for fluid overload. Statin for lipid management. Discharge Plan: The patient was discharged with instructions to adhere to a low-sodium, heart-healthy diet and maintain strict medication compliance. A follow-up appointment was scheduled with cardiology in one week to reassess symptoms and consider further intervention. Prognosis: Despite stabilization, the patient remains at high risk for complications due to persistent symptoms and unresolved underlying issues, including uncontrolled atrial fibrillation and heart failure. The patient was counseled on the signs and symptoms that warrant immediate medical attention, such as worsening chest pain, shortness of breath, or dizziness. Physician’s Note: While the patient was clinically stable for discharge, unresolved atrial fibrillation, reduced ejection fraction, and persistent fluid overload significantly increase the likelihood of readmission. An elective procedure to implant a cardiac defibrillator is under consideration, and close monitoring is essential.\n",
      "Enter the number of past 6-month hospital admissions:  1\n",
      "Enter ICD9 codes (comma-separated):  4109,4280,42731,4019\n",
      "Enter Procedure ICD9 codes (comma-separated):  3722,3601,8967,9671\n",
      "Enter DRG codes (comma-separated):  280,292,226\n"
     ]
    },
    {
     "name": "stdout",
     "output_type": "stream",
     "text": [
      "\u001b[1m1/1\u001b[0m \u001b[32m━━━━━━━━━━━━━━━━━━━━\u001b[0m\u001b[37m\u001b[0m \u001b[1m0s\u001b[0m 99ms/step\n",
      "\n",
      "Objective-1 Prediction Results:\n",
      "Probability of Readmission: 0.3535\n",
      "Will the patient be readmitted? Yes\n",
      "\n",
      "Patient is likely to be readmitted. Predicting reasons (Objective-2)...\n",
      "\u001b[1m1/1\u001b[0m \u001b[32m━━━━━━━━━━━━━━━━━━━━\u001b[0m\u001b[37m\u001b[0m \u001b[1m0s\u001b[0m 49ms/step\n",
      "\n",
      "Objective-2 Prediction Results:\n",
      "Predicted Reasons for Readmission: Diseases of the Circulatory System\n"
     ]
    }
   ],
   "source": [
    "predict_readmission_and_reasons()"
   ]
  },
  {
   "cell_type": "code",
   "execution_count": 130,
   "id": "c28069ac-2fd6-42ee-85c7-fa0f99fe7f9c",
   "metadata": {},
   "outputs": [
    {
     "name": "stdout",
     "output_type": "stream",
     "text": [
      "Welcome to the Readmission and Reasons Prediction System!\n"
     ]
    },
    {
     "name": "stdin",
     "output_type": "stream",
     "text": [
      "Enter the cleaned text data:  Chief Complaint: The patient was admitted with severe fatigue, persistent nausea, confusion, and significant electrolyte imbalances. History of Present Illness: Mark Johnson, a 58-year-old male with a history of poorly controlled type 2 diabetes mellitus and chronic kidney disease, presented to the emergency department with worsening lethargy and confusion. His family reported reduced oral intake and recurrent vomiting over the last 48 hours. Initial labs revealed severe hyperosmolar hyperglycemic state (HHS), hypokalemia, and metabolic acidosis. Physical Examination: General Appearance: Drowsy, mildly dehydrated, diaphoretic. Vital Signs: Temperature: 99.5°F Heart Rate: 110 bpm Blood Pressure: 88/52 mmHg Respiratory Rate: 22 breaths per minute Endocrine Exam: Dry mucous membranes; no thyroid enlargement. Neurological Exam: Reduced alertness; no focal deficits. Cardiac Exam: Regular rhythm with tachycardia. Diagnostics and Labs: Blood Glucose: 825 mg/dL. Serum Potassium: 2.8 mmol/L (severely low). Arterial Blood Gas (ABG): pH 7.28, HCO3 18 mEq/L. HbA1c: 12.8%. Serum Osmolality: 330 mOsm/kg. Renal Panel: Elevated creatinine at 2.1 mg/dL. Medications Administered During Hospitalization: Intravenous Fluids: Normal saline (0.9% NaCl): 2,000 mL over the first 6 hours. Dextrose 5% with 0.45% NaCl: 1,500 mL after glucose dropped below 300 mg/dL. Insulin Therapy: IV Regular Insulin infusion at 0.1 units/kg/hour, titrated based on blood glucose. Electrolyte Replacement: Potassium chloride: 40 mEq IV over 4 hours, repeated as needed. Bicarbonate Therapy: Sodium bicarbonate 50 mEq IV bolus for metabolic acidosis. Antihypertensive Medication: Lisinopril 10 mg PO daily (held during hospitalization due to hypotension). Medications Prescribed on Discharge: Metformin 500 mg PO twice daily for diabetes management. Potassium chloride 20 mEq PO daily for hypokalemia. Insulin glargine (Lantus) 15 units SC at bedtime. Sodium bicarbonate tablets 650 mg PO twice daily for ongoing acidosis correction. Social Determinants of Health (SDoH): The patient faces significant barriers to effective disease management, including limited health literacy and infrequent follow-up with primary care providers. Financial constraints have led to sporadic medication adherence. The patient lives alone, lacks regular transportation, and has no reliable support system, increasing the likelihood of treatment noncompliance and readmission. Discharge Plan: The patient was discharged with strict instructions to monitor blood glucose at least four times daily and adhere to the prescribed medication regimen. He was referred to a nephrologist and endocrinologist for follow-up within one week. Social services were contacted to assist with arranging transport for future appointments and exploring eligibility for financial assistance programs. Prognosis: Despite stabilization during hospitalization, the patient’s critical status, high HbA1c, and ongoing electrolyte imbalances suggest a high risk of readmission. The likelihood of complications related to nonadherence and progression of chronic kidney disease remains elevated. Physician’s Note: Close monitoring of blood glucose, renal function, and potassium levels is essential. Family or community-based interventions should be explored to ensure medication adherence and timely follow-ups. Any signs of recurring dehydration, confusion, or significant glucose fluctuations should prompt immediate medical evaluation.\n",
      "Enter the number of past 6-month hospital admissions:  1\n",
      "Enter ICD9 codes (comma-separated):  2502, 2768, 2762, 5853\n",
      "Enter Procedure ICD9 codes (comma-separated):  9921, 3995, 8946\n",
      "Enter DRG codes (comma-separated):  637, 682, 640\n"
     ]
    },
    {
     "name": "stdout",
     "output_type": "stream",
     "text": [
      "\u001b[1m1/1\u001b[0m \u001b[32m━━━━━━━━━━━━━━━━━━━━\u001b[0m\u001b[37m\u001b[0m \u001b[1m0s\u001b[0m 98ms/step\n",
      "\n",
      "Objective-1 Prediction Results:\n",
      "Will the patient be readmitted? Yes\n",
      "\n",
      "Patient is likely to be readmitted. Predicting reasons (Objective-2)...\n",
      "\u001b[1m1/1\u001b[0m \u001b[32m━━━━━━━━━━━━━━━━━━━━\u001b[0m\u001b[37m\u001b[0m \u001b[1m0s\u001b[0m 48ms/step\n",
      "\n",
      "Objective-2 Prediction Results:\n",
      "Predicted Reasons for Readmission: Endocrine, Nutritional and Metabolic Diseases\n"
     ]
    }
   ],
   "source": [
    "predict_readmission_and_reasons()"
   ]
  },
  {
   "cell_type": "code",
   "execution_count": 132,
   "id": "6c82744f-896f-46f1-a16e-77fc15cb84cf",
   "metadata": {},
   "outputs": [
    {
     "name": "stdout",
     "output_type": "stream",
     "text": [
      "Welcome to the Readmission and Reasons Prediction System!\n"
     ]
    },
    {
     "name": "stdin",
     "output_type": "stream",
     "text": [
      "Enter the cleaned text data:  Chief Complaint: The patient presented with mild abdominal pain and occasional nausea over the past week. History of Present Illness: Emily Carter, a 32-year-old female with no significant past medical history, reported mild intermittent abdominal discomfort accompanied by nausea. Symptoms began after consuming a large, spicy meal. No history of fever, diarrhea, or significant weight loss. On evaluation, she was hemodynamically stable, and lab results were within normal limits except for mildly elevated liver enzymes. Abdominal ultrasound revealed mild cholecystitis without gallstones. Physical Examination: General Appearance: Alert, well-nourished, and in no acute distress. Vital Signs: Temperature: 98.7°F Heart Rate: 75 bpm Blood Pressure: 120/78 mmHg Respiratory Rate: 16 breaths per minute Abdominal Exam: Mild tenderness in the right upper quadrant, no rebound or guarding. Diagnostics and Labs: Complete Blood Count (CBC): Normal. Liver Function Tests: ALT: 65 U/L (mildly elevated). AST: 70 U/L (mildly elevated). Bilirubin: Normal. Abdominal Ultrasound: Mild thickening of the gallbladder wall; no gallstones or biliary duct dilation. Medications Administered During Hospitalization: Intravenous fluids (Normal Saline): 1,000 mL over 8 hours. Antiemetic (Ondansetron 4 mg IV): Administered twice during hospitalization. Analgesic (Acetaminophen 650 mg PO): Administered as needed for pain relief. Medications Prescribed on Discharge: Acetaminophen 500 mg PO every 6 hours as needed for abdominal discomfort. Pantoprazole 40 mg PO daily for two weeks to reduce gastric acidity. Discharge Plan: The patient demonstrated significant improvement during the hospital stay, with complete resolution of abdominal pain and nausea. She was discharged in stable condition with dietary counseling to avoid high-fat and spicy foods. Follow-up with her primary care provider is recommended in four weeks for routine monitoring of liver enzymes. Prognosis: The patient is considered fully recovered and shows no risk factors for readmission. Her condition is likely attributable to dietary indiscretion, with no underlying chronic illness or structural abnormalities identified. Physician’s Note: Emily Carter is in excellent health and has been advised on lifestyle and dietary modifications to prevent recurrence of symptoms. She is unlikely to require further medical intervention for this episode.\n",
      "Enter the number of past 6-month hospital admissions:  0\n",
      "Enter ICD9 codes (comma-separated):  57510, 78906, V700\n",
      "Enter Procedure ICD9 codes (comma-separated):  8872, 9925, 9929\n",
      "Enter DRG codes (comma-separated):  493, 391\n"
     ]
    },
    {
     "name": "stdout",
     "output_type": "stream",
     "text": [
      "\u001b[1m1/1\u001b[0m \u001b[32m━━━━━━━━━━━━━━━━━━━━\u001b[0m\u001b[37m\u001b[0m \u001b[1m0s\u001b[0m 121ms/step\n",
      "\n",
      "Objective-1 Prediction Results:\n",
      "Will the patient be readmitted? No\n",
      "\n",
      "Patient is not likely to be readmitted. No reasons to predict.\n"
     ]
    }
   ],
   "source": [
    "predict_readmission_and_reasons()"
   ]
  },
  {
   "cell_type": "code",
   "execution_count": 133,
   "id": "d06a9da5-81ab-47d1-b03f-808a88850d33",
   "metadata": {},
   "outputs": [
    {
     "name": "stdout",
     "output_type": "stream",
     "text": [
      "Welcome to the Readmission and Reasons Prediction System!\n"
     ]
    },
    {
     "name": "stdin",
     "output_type": "stream",
     "text": [
      "Enter the cleaned text data:  Chief Complaint: The patient reported mild respiratory discomfort, intermittent cough, and nasal congestion, persisting for three days. History of Present Illness: The patient, a 32-year-old female with a history of seasonal allergies and a recent upper respiratory infection, presented with mild respiratory symptoms that developed after exposure to cold weather. The symptoms are consistent with mild upper respiratory irritation and do not indicate a more severe underlying issue. The patient denies fever, chest pain, or significant shortness of breath. Physical Examination: General Appearance: Alert and oriented, no acute distress. Vital Signs: Stable. Respiratory System: Clear breath sounds bilaterally, mild wheezing noted in upper airways. ENT: Mild nasal inflammation and congestion, throat mildly erythematous. Abdomen: Soft, non-tender, no organomegaly. Diagnostics and Labs: CBC: Normal limits. Chest X-Ray: Clear, no signs of pneumonia or fluid collection. Medications Prescribed: Nasal decongestant spray (PRN for congestion) Saline nasal irrigation (daily use) Short-term bronchodilator (for mild wheezing) Discharge Plan: The patient was discharged in stable condition with instructions to maintain hydration, rest, and avoid allergens and irritants. They were provided with nasal sprays and advised to continue short-term use of bronchodilators. A follow-up with their primary care provider was scheduled in 10 days. Prognosis: The patient is stable, and the symptoms are mild. No further hospitalization is expected, and the condition is anticipated to resolve with proper outpatient care and adherence to discharge instructions. Physician’s Note: The patient’s condition is mild and does not necessitate a hospital readmission. Outpatient management and follow-up are sufficient to ensure complete recovery.\n",
      "Enter the number of past 6-month hospital admissions:  0\n",
      "Enter ICD9 codes (comma-separated):  4739,460,5199\n",
      "Enter Procedure ICD9 codes (comma-separated):  8961,9602,9390\n",
      "Enter DRG codes (comma-separated):  202\n"
     ]
    },
    {
     "name": "stdout",
     "output_type": "stream",
     "text": [
      "\u001b[1m1/1\u001b[0m \u001b[32m━━━━━━━━━━━━━━━━━━━━\u001b[0m\u001b[37m\u001b[0m \u001b[1m0s\u001b[0m 19ms/step\n",
      "\n",
      "Objective-1 Prediction Results:\n",
      "Will the patient be readmitted? No\n",
      "\n",
      "Patient is not likely to be readmitted. No reasons to predict.\n"
     ]
    }
   ],
   "source": [
    "predict_readmission_and_reasons()"
   ]
  },
  {
   "cell_type": "code",
   "execution_count": null,
   "id": "0e0874a1-e807-4b3b-8143-a44747b11456",
   "metadata": {},
   "outputs": [],
   "source": []
  }
 ],
 "metadata": {
  "kernelspec": {
   "display_name": "Python 3 (ipykernel)",
   "language": "python",
   "name": "python3"
  },
  "language_info": {
   "codemirror_mode": {
    "name": "ipython",
    "version": 3
   },
   "file_extension": ".py",
   "mimetype": "text/x-python",
   "name": "python",
   "nbconvert_exporter": "python",
   "pygments_lexer": "ipython3",
   "version": "3.12.7"
  }
 },
 "nbformat": 4,
 "nbformat_minor": 5
}
