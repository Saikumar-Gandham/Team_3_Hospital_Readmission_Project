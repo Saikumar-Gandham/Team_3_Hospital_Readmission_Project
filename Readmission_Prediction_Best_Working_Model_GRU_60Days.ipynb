{
 "cells": [
  {
   "cell_type": "markdown",
   "id": "3ff9d758",
   "metadata": {
    "id": "3ff9d758"
   },
   "source": [
    "## Predictive Modeling on Hospital Readmission :"
   ]
  },
  {
   "cell_type": "code",
   "execution_count": null,
   "id": "67a4ace1-b3b0-411a-a2b8-e1d085022357",
   "metadata": {},
   "outputs": [],
   "source": [
    "# Required installations\n",
    "!pip install scipy\n",
    "pip install tabulate\n",
    "!pip install keras-tuner"
   ]
  },
  {
   "cell_type": "markdown",
   "id": "353a01cc",
   "metadata": {
    "id": "353a01cc"
   },
   "source": [
    "### Inport the data from the csv files to the pandas dataframe"
   ]
  },
  {
   "cell_type": "code",
   "execution_count": 1,
   "id": "b4f58c29-0dfe-4878-b859-4dbfd0a1b7ad",
   "metadata": {},
   "outputs": [],
   "source": [
    "import pandas as pd"
   ]
  },
  {
   "cell_type": "code",
   "execution_count": 2,
   "id": "4g2qfW3to_d7",
   "metadata": {
    "colab": {
     "base_uri": "https://localhost:8080/",
     "height": 343
    },
    "id": "4g2qfW3to_d7",
    "outputId": "33da0b2f-02b3-4b7d-c677-db14c193bad7"
   },
   "outputs": [
    {
     "data": {
      "text/html": [
       "<div>\n",
       "<style scoped>\n",
       "    .dataframe tbody tr th:only-of-type {\n",
       "        vertical-align: middle;\n",
       "    }\n",
       "\n",
       "    .dataframe tbody tr th {\n",
       "        vertical-align: top;\n",
       "    }\n",
       "\n",
       "    .dataframe thead th {\n",
       "        text-align: right;\n",
       "    }\n",
       "</style>\n",
       "<table border=\"1\" class=\"dataframe\">\n",
       "  <thead>\n",
       "    <tr style=\"text-align: right;\">\n",
       "      <th></th>\n",
       "      <th>ROW_ID</th>\n",
       "      <th>SUBJECT_ID</th>\n",
       "      <th>HADM_ID</th>\n",
       "      <th>ADMITTIME</th>\n",
       "      <th>DISCHTIME</th>\n",
       "      <th>DEATHTIME</th>\n",
       "      <th>ADMISSION_TYPE</th>\n",
       "      <th>ADMISSION_LOCATION</th>\n",
       "      <th>DISCHARGE_LOCATION</th>\n",
       "      <th>INSURANCE</th>\n",
       "      <th>LANGUAGE</th>\n",
       "      <th>RELIGION</th>\n",
       "      <th>MARITAL_STATUS</th>\n",
       "      <th>ETHNICITY</th>\n",
       "      <th>EDREGTIME</th>\n",
       "      <th>EDOUTTIME</th>\n",
       "      <th>DIAGNOSIS</th>\n",
       "      <th>HOSPITAL_EXPIRE_FLAG</th>\n",
       "      <th>HAS_CHARTEVENTS_DATA</th>\n",
       "    </tr>\n",
       "  </thead>\n",
       "  <tbody>\n",
       "    <tr>\n",
       "      <th>0</th>\n",
       "      <td>1</td>\n",
       "      <td>2</td>\n",
       "      <td>163353</td>\n",
       "      <td>7/17/2138 19:04</td>\n",
       "      <td>7/21/2138 15:48</td>\n",
       "      <td>NaN</td>\n",
       "      <td>NEWBORN</td>\n",
       "      <td>PHYS REFERRAL/NORMAL DELI</td>\n",
       "      <td>HOME</td>\n",
       "      <td>Private</td>\n",
       "      <td>NaN</td>\n",
       "      <td>NOT SPECIFIED</td>\n",
       "      <td>NaN</td>\n",
       "      <td>ASIAN</td>\n",
       "      <td>NaN</td>\n",
       "      <td>NaN</td>\n",
       "      <td>NEWBORN</td>\n",
       "      <td>0</td>\n",
       "      <td>1</td>\n",
       "    </tr>\n",
       "    <tr>\n",
       "      <th>1</th>\n",
       "      <td>2</td>\n",
       "      <td>3</td>\n",
       "      <td>145834</td>\n",
       "      <td>10/20/2101 19:08</td>\n",
       "      <td>10/31/2101 13:58</td>\n",
       "      <td>NaN</td>\n",
       "      <td>EMERGENCY</td>\n",
       "      <td>EMERGENCY ROOM ADMIT</td>\n",
       "      <td>SNF</td>\n",
       "      <td>Medicare</td>\n",
       "      <td>NaN</td>\n",
       "      <td>CATHOLIC</td>\n",
       "      <td>MARRIED</td>\n",
       "      <td>WHITE</td>\n",
       "      <td>10/20/2101 17:09</td>\n",
       "      <td>10/20/2101 19:24</td>\n",
       "      <td>HYPOTENSION</td>\n",
       "      <td>0</td>\n",
       "      <td>1</td>\n",
       "    </tr>\n",
       "    <tr>\n",
       "      <th>2</th>\n",
       "      <td>3</td>\n",
       "      <td>4</td>\n",
       "      <td>185777</td>\n",
       "      <td>3/16/2191 0:28</td>\n",
       "      <td>3/23/2191 18:41</td>\n",
       "      <td>NaN</td>\n",
       "      <td>EMERGENCY</td>\n",
       "      <td>EMERGENCY ROOM ADMIT</td>\n",
       "      <td>HOME WITH HOME IV PROVIDR</td>\n",
       "      <td>Private</td>\n",
       "      <td>NaN</td>\n",
       "      <td>PROTESTANT QUAKER</td>\n",
       "      <td>SINGLE</td>\n",
       "      <td>WHITE</td>\n",
       "      <td>3/15/2191 13:10</td>\n",
       "      <td>3/16/2191 1:10</td>\n",
       "      <td>FEVER,DEHYDRATION,FAILURE TO THRIVE</td>\n",
       "      <td>0</td>\n",
       "      <td>1</td>\n",
       "    </tr>\n",
       "    <tr>\n",
       "      <th>3</th>\n",
       "      <td>4</td>\n",
       "      <td>5</td>\n",
       "      <td>178980</td>\n",
       "      <td>2/2/2103 4:31</td>\n",
       "      <td>2/4/2103 12:15</td>\n",
       "      <td>NaN</td>\n",
       "      <td>NEWBORN</td>\n",
       "      <td>PHYS REFERRAL/NORMAL DELI</td>\n",
       "      <td>HOME</td>\n",
       "      <td>Private</td>\n",
       "      <td>NaN</td>\n",
       "      <td>BUDDHIST</td>\n",
       "      <td>NaN</td>\n",
       "      <td>ASIAN</td>\n",
       "      <td>NaN</td>\n",
       "      <td>NaN</td>\n",
       "      <td>NEWBORN</td>\n",
       "      <td>0</td>\n",
       "      <td>1</td>\n",
       "    </tr>\n",
       "    <tr>\n",
       "      <th>4</th>\n",
       "      <td>5</td>\n",
       "      <td>6</td>\n",
       "      <td>107064</td>\n",
       "      <td>5/30/2175 7:15</td>\n",
       "      <td>6/15/2175 16:00</td>\n",
       "      <td>NaN</td>\n",
       "      <td>ELECTIVE</td>\n",
       "      <td>PHYS REFERRAL/NORMAL DELI</td>\n",
       "      <td>HOME HEALTH CARE</td>\n",
       "      <td>Medicare</td>\n",
       "      <td>ENGL</td>\n",
       "      <td>NOT SPECIFIED</td>\n",
       "      <td>MARRIED</td>\n",
       "      <td>WHITE</td>\n",
       "      <td>NaN</td>\n",
       "      <td>NaN</td>\n",
       "      <td>CHRONIC RENAL FAILURE/SDA</td>\n",
       "      <td>0</td>\n",
       "      <td>1</td>\n",
       "    </tr>\n",
       "  </tbody>\n",
       "</table>\n",
       "</div>"
      ],
      "text/plain": [
       "   ROW_ID  SUBJECT_ID  HADM_ID         ADMITTIME         DISCHTIME DEATHTIME  \\\n",
       "0       1           2   163353   7/17/2138 19:04   7/21/2138 15:48       NaN   \n",
       "1       2           3   145834  10/20/2101 19:08  10/31/2101 13:58       NaN   \n",
       "2       3           4   185777    3/16/2191 0:28   3/23/2191 18:41       NaN   \n",
       "3       4           5   178980     2/2/2103 4:31    2/4/2103 12:15       NaN   \n",
       "4       5           6   107064    5/30/2175 7:15   6/15/2175 16:00       NaN   \n",
       "\n",
       "  ADMISSION_TYPE         ADMISSION_LOCATION         DISCHARGE_LOCATION  \\\n",
       "0        NEWBORN  PHYS REFERRAL/NORMAL DELI                       HOME   \n",
       "1      EMERGENCY       EMERGENCY ROOM ADMIT                        SNF   \n",
       "2      EMERGENCY       EMERGENCY ROOM ADMIT  HOME WITH HOME IV PROVIDR   \n",
       "3        NEWBORN  PHYS REFERRAL/NORMAL DELI                       HOME   \n",
       "4       ELECTIVE  PHYS REFERRAL/NORMAL DELI           HOME HEALTH CARE   \n",
       "\n",
       "  INSURANCE LANGUAGE           RELIGION MARITAL_STATUS ETHNICITY  \\\n",
       "0   Private      NaN      NOT SPECIFIED            NaN     ASIAN   \n",
       "1  Medicare      NaN           CATHOLIC        MARRIED     WHITE   \n",
       "2   Private      NaN  PROTESTANT QUAKER         SINGLE     WHITE   \n",
       "3   Private      NaN           BUDDHIST            NaN     ASIAN   \n",
       "4  Medicare     ENGL      NOT SPECIFIED        MARRIED     WHITE   \n",
       "\n",
       "          EDREGTIME         EDOUTTIME                            DIAGNOSIS  \\\n",
       "0               NaN               NaN                              NEWBORN   \n",
       "1  10/20/2101 17:09  10/20/2101 19:24                          HYPOTENSION   \n",
       "2   3/15/2191 13:10    3/16/2191 1:10  FEVER,DEHYDRATION,FAILURE TO THRIVE   \n",
       "3               NaN               NaN                              NEWBORN   \n",
       "4               NaN               NaN            CHRONIC RENAL FAILURE/SDA   \n",
       "\n",
       "   HOSPITAL_EXPIRE_FLAG  HAS_CHARTEVENTS_DATA  \n",
       "0                     0                     1  \n",
       "1                     0                     1  \n",
       "2                     0                     1  \n",
       "3                     0                     1  \n",
       "4                     0                     1  "
      ]
     },
     "execution_count": 2,
     "metadata": {},
     "output_type": "execute_result"
    }
   ],
   "source": [
    "admissions  = pd.read_csv('ADMISSIONS.csv', low_memory=False)\n",
    "admissions.head()"
   ]
  },
  {
   "cell_type": "code",
   "execution_count": 3,
   "id": "b82a9fb9-1262-4567-be1a-d4d61c47c7e1",
   "metadata": {},
   "outputs": [
    {
     "data": {
      "text/html": [
       "<div>\n",
       "<style scoped>\n",
       "    .dataframe tbody tr th:only-of-type {\n",
       "        vertical-align: middle;\n",
       "    }\n",
       "\n",
       "    .dataframe tbody tr th {\n",
       "        vertical-align: top;\n",
       "    }\n",
       "\n",
       "    .dataframe thead th {\n",
       "        text-align: right;\n",
       "    }\n",
       "</style>\n",
       "<table border=\"1\" class=\"dataframe\">\n",
       "  <thead>\n",
       "    <tr style=\"text-align: right;\">\n",
       "      <th></th>\n",
       "      <th>ROW_ID</th>\n",
       "      <th>SUBJECT_ID</th>\n",
       "      <th>GENDER</th>\n",
       "      <th>DOB</th>\n",
       "      <th>DOD</th>\n",
       "      <th>DOD_HOSP</th>\n",
       "      <th>DOD_SSN</th>\n",
       "      <th>EXPIRE_FLAG</th>\n",
       "    </tr>\n",
       "  </thead>\n",
       "  <tbody>\n",
       "    <tr>\n",
       "      <th>0</th>\n",
       "      <td>234</td>\n",
       "      <td>249</td>\n",
       "      <td>F</td>\n",
       "      <td>2075-03-13 00:00:00</td>\n",
       "      <td>NaN</td>\n",
       "      <td>NaN</td>\n",
       "      <td>NaN</td>\n",
       "      <td>0</td>\n",
       "    </tr>\n",
       "    <tr>\n",
       "      <th>1</th>\n",
       "      <td>235</td>\n",
       "      <td>250</td>\n",
       "      <td>F</td>\n",
       "      <td>2164-12-27 00:00:00</td>\n",
       "      <td>2188-11-22 00:00:00</td>\n",
       "      <td>2188-11-22 00:00:00</td>\n",
       "      <td>NaN</td>\n",
       "      <td>1</td>\n",
       "    </tr>\n",
       "    <tr>\n",
       "      <th>2</th>\n",
       "      <td>236</td>\n",
       "      <td>251</td>\n",
       "      <td>M</td>\n",
       "      <td>2090-03-15 00:00:00</td>\n",
       "      <td>NaN</td>\n",
       "      <td>NaN</td>\n",
       "      <td>NaN</td>\n",
       "      <td>0</td>\n",
       "    </tr>\n",
       "    <tr>\n",
       "      <th>3</th>\n",
       "      <td>237</td>\n",
       "      <td>252</td>\n",
       "      <td>M</td>\n",
       "      <td>2078-03-06 00:00:00</td>\n",
       "      <td>NaN</td>\n",
       "      <td>NaN</td>\n",
       "      <td>NaN</td>\n",
       "      <td>0</td>\n",
       "    </tr>\n",
       "    <tr>\n",
       "      <th>4</th>\n",
       "      <td>238</td>\n",
       "      <td>253</td>\n",
       "      <td>F</td>\n",
       "      <td>2089-11-26 00:00:00</td>\n",
       "      <td>NaN</td>\n",
       "      <td>NaN</td>\n",
       "      <td>NaN</td>\n",
       "      <td>0</td>\n",
       "    </tr>\n",
       "  </tbody>\n",
       "</table>\n",
       "</div>"
      ],
      "text/plain": [
       "   ROW_ID  SUBJECT_ID GENDER                  DOB                  DOD  \\\n",
       "0     234         249      F  2075-03-13 00:00:00                  NaN   \n",
       "1     235         250      F  2164-12-27 00:00:00  2188-11-22 00:00:00   \n",
       "2     236         251      M  2090-03-15 00:00:00                  NaN   \n",
       "3     237         252      M  2078-03-06 00:00:00                  NaN   \n",
       "4     238         253      F  2089-11-26 00:00:00                  NaN   \n",
       "\n",
       "              DOD_HOSP DOD_SSN  EXPIRE_FLAG  \n",
       "0                  NaN     NaN            0  \n",
       "1  2188-11-22 00:00:00     NaN            1  \n",
       "2                  NaN     NaN            0  \n",
       "3                  NaN     NaN            0  \n",
       "4                  NaN     NaN            0  "
      ]
     },
     "execution_count": 3,
     "metadata": {},
     "output_type": "execute_result"
    }
   ],
   "source": [
    "patients  = pd.read_csv('PATIENTS.csv', low_memory=False)\n",
    "patients.head()"
   ]
  },
  {
   "cell_type": "code",
   "execution_count": 4,
   "id": "681dfcc5-4569-4ab0-9c76-1a4d2edae9c1",
   "metadata": {},
   "outputs": [
    {
     "data": {
      "text/html": [
       "<div>\n",
       "<style scoped>\n",
       "    .dataframe tbody tr th:only-of-type {\n",
       "        vertical-align: middle;\n",
       "    }\n",
       "\n",
       "    .dataframe tbody tr th {\n",
       "        vertical-align: top;\n",
       "    }\n",
       "\n",
       "    .dataframe thead th {\n",
       "        text-align: right;\n",
       "    }\n",
       "</style>\n",
       "<table border=\"1\" class=\"dataframe\">\n",
       "  <thead>\n",
       "    <tr style=\"text-align: right;\">\n",
       "      <th></th>\n",
       "      <th>ROW_ID</th>\n",
       "      <th>SUBJECT_ID</th>\n",
       "      <th>HADM_ID</th>\n",
       "      <th>SEQ_NUM</th>\n",
       "      <th>ICD9_CODE</th>\n",
       "    </tr>\n",
       "  </thead>\n",
       "  <tbody>\n",
       "    <tr>\n",
       "      <th>0</th>\n",
       "      <td>1297</td>\n",
       "      <td>109</td>\n",
       "      <td>172335</td>\n",
       "      <td>1.0</td>\n",
       "      <td>40301</td>\n",
       "    </tr>\n",
       "    <tr>\n",
       "      <th>1</th>\n",
       "      <td>1298</td>\n",
       "      <td>109</td>\n",
       "      <td>172335</td>\n",
       "      <td>2.0</td>\n",
       "      <td>486</td>\n",
       "    </tr>\n",
       "    <tr>\n",
       "      <th>2</th>\n",
       "      <td>1299</td>\n",
       "      <td>109</td>\n",
       "      <td>172335</td>\n",
       "      <td>3.0</td>\n",
       "      <td>58281</td>\n",
       "    </tr>\n",
       "    <tr>\n",
       "      <th>3</th>\n",
       "      <td>1300</td>\n",
       "      <td>109</td>\n",
       "      <td>172335</td>\n",
       "      <td>4.0</td>\n",
       "      <td>5855</td>\n",
       "    </tr>\n",
       "    <tr>\n",
       "      <th>4</th>\n",
       "      <td>1301</td>\n",
       "      <td>109</td>\n",
       "      <td>172335</td>\n",
       "      <td>5.0</td>\n",
       "      <td>4254</td>\n",
       "    </tr>\n",
       "  </tbody>\n",
       "</table>\n",
       "</div>"
      ],
      "text/plain": [
       "   ROW_ID  SUBJECT_ID  HADM_ID  SEQ_NUM ICD9_CODE\n",
       "0    1297         109   172335      1.0     40301\n",
       "1    1298         109   172335      2.0       486\n",
       "2    1299         109   172335      3.0     58281\n",
       "3    1300         109   172335      4.0      5855\n",
       "4    1301         109   172335      5.0      4254"
      ]
     },
     "execution_count": 4,
     "metadata": {},
     "output_type": "execute_result"
    }
   ],
   "source": [
    "diagnosis = pd.read_csv('DIAGNOSES_ICD.csv', low_memory=False)\n",
    "diagnosis.head()"
   ]
  },
  {
   "cell_type": "code",
   "execution_count": 5,
   "id": "99bb22f9-df73-4ab8-89b8-84d162afaba9",
   "metadata": {},
   "outputs": [
    {
     "data": {
      "text/html": [
       "<div>\n",
       "<style scoped>\n",
       "    .dataframe tbody tr th:only-of-type {\n",
       "        vertical-align: middle;\n",
       "    }\n",
       "\n",
       "    .dataframe tbody tr th {\n",
       "        vertical-align: top;\n",
       "    }\n",
       "\n",
       "    .dataframe thead th {\n",
       "        text-align: right;\n",
       "    }\n",
       "</style>\n",
       "<table border=\"1\" class=\"dataframe\">\n",
       "  <thead>\n",
       "    <tr style=\"text-align: right;\">\n",
       "      <th></th>\n",
       "      <th>ROW_ID</th>\n",
       "      <th>SUBJECT_ID</th>\n",
       "      <th>HADM_ID</th>\n",
       "      <th>SEQ_NUM</th>\n",
       "      <th>ICD9_CODE</th>\n",
       "    </tr>\n",
       "  </thead>\n",
       "  <tbody>\n",
       "    <tr>\n",
       "      <th>0</th>\n",
       "      <td>944</td>\n",
       "      <td>62641</td>\n",
       "      <td>154460</td>\n",
       "      <td>3</td>\n",
       "      <td>3404</td>\n",
       "    </tr>\n",
       "    <tr>\n",
       "      <th>1</th>\n",
       "      <td>945</td>\n",
       "      <td>2592</td>\n",
       "      <td>130856</td>\n",
       "      <td>1</td>\n",
       "      <td>9671</td>\n",
       "    </tr>\n",
       "    <tr>\n",
       "      <th>2</th>\n",
       "      <td>946</td>\n",
       "      <td>2592</td>\n",
       "      <td>130856</td>\n",
       "      <td>2</td>\n",
       "      <td>3893</td>\n",
       "    </tr>\n",
       "    <tr>\n",
       "      <th>3</th>\n",
       "      <td>947</td>\n",
       "      <td>55357</td>\n",
       "      <td>119355</td>\n",
       "      <td>1</td>\n",
       "      <td>9672</td>\n",
       "    </tr>\n",
       "    <tr>\n",
       "      <th>4</th>\n",
       "      <td>948</td>\n",
       "      <td>55357</td>\n",
       "      <td>119355</td>\n",
       "      <td>2</td>\n",
       "      <td>331</td>\n",
       "    </tr>\n",
       "  </tbody>\n",
       "</table>\n",
       "</div>"
      ],
      "text/plain": [
       "   ROW_ID  SUBJECT_ID  HADM_ID  SEQ_NUM  ICD9_CODE\n",
       "0     944       62641   154460        3       3404\n",
       "1     945        2592   130856        1       9671\n",
       "2     946        2592   130856        2       3893\n",
       "3     947       55357   119355        1       9672\n",
       "4     948       55357   119355        2        331"
      ]
     },
     "execution_count": 5,
     "metadata": {},
     "output_type": "execute_result"
    }
   ],
   "source": [
    "proc = pd.read_csv('PROCEDURES_ICD.csv', low_memory=False)\n",
    "proc.head()"
   ]
  },
  {
   "cell_type": "code",
   "execution_count": 6,
   "id": "1173c54d-f9f8-4cd8-bc52-6e7e4d526b14",
   "metadata": {},
   "outputs": [
    {
     "data": {
      "text/html": [
       "<div>\n",
       "<style scoped>\n",
       "    .dataframe tbody tr th:only-of-type {\n",
       "        vertical-align: middle;\n",
       "    }\n",
       "\n",
       "    .dataframe tbody tr th {\n",
       "        vertical-align: top;\n",
       "    }\n",
       "\n",
       "    .dataframe thead th {\n",
       "        text-align: right;\n",
       "    }\n",
       "</style>\n",
       "<table border=\"1\" class=\"dataframe\">\n",
       "  <thead>\n",
       "    <tr style=\"text-align: right;\">\n",
       "      <th></th>\n",
       "      <th>ROW_ID</th>\n",
       "      <th>SUBJECT_ID</th>\n",
       "      <th>HADM_ID</th>\n",
       "      <th>DRG_TYPE</th>\n",
       "      <th>DRG_CODE</th>\n",
       "      <th>DESCRIPTION</th>\n",
       "      <th>DRG_SEVERITY</th>\n",
       "      <th>DRG_MORTALITY</th>\n",
       "    </tr>\n",
       "  </thead>\n",
       "  <tbody>\n",
       "    <tr>\n",
       "      <th>0</th>\n",
       "      <td>342</td>\n",
       "      <td>2491</td>\n",
       "      <td>144486</td>\n",
       "      <td>HCFA</td>\n",
       "      <td>28</td>\n",
       "      <td>TRAUMATIC STUPOR &amp; COMA, COMA &lt;1 HR AGE &gt;17 WI...</td>\n",
       "      <td>NaN</td>\n",
       "      <td>NaN</td>\n",
       "    </tr>\n",
       "    <tr>\n",
       "      <th>1</th>\n",
       "      <td>343</td>\n",
       "      <td>24958</td>\n",
       "      <td>162910</td>\n",
       "      <td>HCFA</td>\n",
       "      <td>110</td>\n",
       "      <td>MAJOR CARDIOVASCULAR PROCEDURES WITH COMPLICAT...</td>\n",
       "      <td>NaN</td>\n",
       "      <td>NaN</td>\n",
       "    </tr>\n",
       "    <tr>\n",
       "      <th>2</th>\n",
       "      <td>344</td>\n",
       "      <td>18325</td>\n",
       "      <td>153751</td>\n",
       "      <td>HCFA</td>\n",
       "      <td>390</td>\n",
       "      <td>NEONATE WITH OTHER SIGNIFICANT PROBLEMS</td>\n",
       "      <td>NaN</td>\n",
       "      <td>NaN</td>\n",
       "    </tr>\n",
       "    <tr>\n",
       "      <th>3</th>\n",
       "      <td>345</td>\n",
       "      <td>17887</td>\n",
       "      <td>182692</td>\n",
       "      <td>HCFA</td>\n",
       "      <td>14</td>\n",
       "      <td>SPECIFIC CEREBROVASCULAR DISORDERS EXCEPT TRAN...</td>\n",
       "      <td>NaN</td>\n",
       "      <td>NaN</td>\n",
       "    </tr>\n",
       "    <tr>\n",
       "      <th>4</th>\n",
       "      <td>346</td>\n",
       "      <td>11113</td>\n",
       "      <td>157980</td>\n",
       "      <td>HCFA</td>\n",
       "      <td>390</td>\n",
       "      <td>NEONATE WITH OTHER SIGNIFICANT PROBLEMS</td>\n",
       "      <td>NaN</td>\n",
       "      <td>NaN</td>\n",
       "    </tr>\n",
       "  </tbody>\n",
       "</table>\n",
       "</div>"
      ],
      "text/plain": [
       "   ROW_ID  SUBJECT_ID  HADM_ID DRG_TYPE  DRG_CODE  \\\n",
       "0     342        2491   144486     HCFA        28   \n",
       "1     343       24958   162910     HCFA       110   \n",
       "2     344       18325   153751     HCFA       390   \n",
       "3     345       17887   182692     HCFA        14   \n",
       "4     346       11113   157980     HCFA       390   \n",
       "\n",
       "                                         DESCRIPTION  DRG_SEVERITY  \\\n",
       "0  TRAUMATIC STUPOR & COMA, COMA <1 HR AGE >17 WI...           NaN   \n",
       "1  MAJOR CARDIOVASCULAR PROCEDURES WITH COMPLICAT...           NaN   \n",
       "2            NEONATE WITH OTHER SIGNIFICANT PROBLEMS           NaN   \n",
       "3  SPECIFIC CEREBROVASCULAR DISORDERS EXCEPT TRAN...           NaN   \n",
       "4            NEONATE WITH OTHER SIGNIFICANT PROBLEMS           NaN   \n",
       "\n",
       "   DRG_MORTALITY  \n",
       "0            NaN  \n",
       "1            NaN  \n",
       "2            NaN  \n",
       "3            NaN  \n",
       "4            NaN  "
      ]
     },
     "execution_count": 6,
     "metadata": {},
     "output_type": "execute_result"
    }
   ],
   "source": [
    "drug = pd.read_csv('DRGCODES.csv', low_memory=False)\n",
    "drug.head()"
   ]
  },
  {
   "cell_type": "code",
   "execution_count": 7,
   "id": "8469de28-3d98-4e68-a0e6-e34eeac68280",
   "metadata": {},
   "outputs": [
    {
     "data": {
      "text/html": [
       "<div>\n",
       "<style scoped>\n",
       "    .dataframe tbody tr th:only-of-type {\n",
       "        vertical-align: middle;\n",
       "    }\n",
       "\n",
       "    .dataframe tbody tr th {\n",
       "        vertical-align: top;\n",
       "    }\n",
       "\n",
       "    .dataframe thead th {\n",
       "        text-align: right;\n",
       "    }\n",
       "</style>\n",
       "<table border=\"1\" class=\"dataframe\">\n",
       "  <thead>\n",
       "    <tr style=\"text-align: right;\">\n",
       "      <th></th>\n",
       "      <th>ROW_ID</th>\n",
       "      <th>SUBJECT_ID</th>\n",
       "      <th>HADM_ID</th>\n",
       "      <th>COSTCENTER</th>\n",
       "      <th>CHARTDATE</th>\n",
       "      <th>CPT_CD</th>\n",
       "      <th>CPT_NUMBER</th>\n",
       "      <th>CPT_SUFFIX</th>\n",
       "      <th>TICKET_ID_SEQ</th>\n",
       "      <th>SECTIONHEADER</th>\n",
       "      <th>SUBSECTIONHEADER</th>\n",
       "      <th>DESCRIPTION</th>\n",
       "    </tr>\n",
       "  </thead>\n",
       "  <tbody>\n",
       "    <tr>\n",
       "      <th>0</th>\n",
       "      <td>317</td>\n",
       "      <td>11743</td>\n",
       "      <td>129545</td>\n",
       "      <td>ICU</td>\n",
       "      <td>NaN</td>\n",
       "      <td>99232</td>\n",
       "      <td>99232.0</td>\n",
       "      <td>NaN</td>\n",
       "      <td>6.0</td>\n",
       "      <td>Evaluation and management</td>\n",
       "      <td>Hospital inpatient services</td>\n",
       "      <td>NaN</td>\n",
       "    </tr>\n",
       "    <tr>\n",
       "      <th>1</th>\n",
       "      <td>318</td>\n",
       "      <td>11743</td>\n",
       "      <td>129545</td>\n",
       "      <td>ICU</td>\n",
       "      <td>NaN</td>\n",
       "      <td>99232</td>\n",
       "      <td>99232.0</td>\n",
       "      <td>NaN</td>\n",
       "      <td>7.0</td>\n",
       "      <td>Evaluation and management</td>\n",
       "      <td>Hospital inpatient services</td>\n",
       "      <td>NaN</td>\n",
       "    </tr>\n",
       "    <tr>\n",
       "      <th>2</th>\n",
       "      <td>319</td>\n",
       "      <td>11743</td>\n",
       "      <td>129545</td>\n",
       "      <td>ICU</td>\n",
       "      <td>NaN</td>\n",
       "      <td>99232</td>\n",
       "      <td>99232.0</td>\n",
       "      <td>NaN</td>\n",
       "      <td>8.0</td>\n",
       "      <td>Evaluation and management</td>\n",
       "      <td>Hospital inpatient services</td>\n",
       "      <td>NaN</td>\n",
       "    </tr>\n",
       "    <tr>\n",
       "      <th>3</th>\n",
       "      <td>320</td>\n",
       "      <td>11743</td>\n",
       "      <td>129545</td>\n",
       "      <td>ICU</td>\n",
       "      <td>NaN</td>\n",
       "      <td>99232</td>\n",
       "      <td>99232.0</td>\n",
       "      <td>NaN</td>\n",
       "      <td>9.0</td>\n",
       "      <td>Evaluation and management</td>\n",
       "      <td>Hospital inpatient services</td>\n",
       "      <td>NaN</td>\n",
       "    </tr>\n",
       "    <tr>\n",
       "      <th>4</th>\n",
       "      <td>321</td>\n",
       "      <td>6185</td>\n",
       "      <td>183725</td>\n",
       "      <td>ICU</td>\n",
       "      <td>NaN</td>\n",
       "      <td>99223</td>\n",
       "      <td>99223.0</td>\n",
       "      <td>NaN</td>\n",
       "      <td>1.0</td>\n",
       "      <td>Evaluation and management</td>\n",
       "      <td>Hospital inpatient services</td>\n",
       "      <td>NaN</td>\n",
       "    </tr>\n",
       "  </tbody>\n",
       "</table>\n",
       "</div>"
      ],
      "text/plain": [
       "   ROW_ID  SUBJECT_ID  HADM_ID COSTCENTER CHARTDATE CPT_CD  CPT_NUMBER  \\\n",
       "0     317       11743   129545        ICU       NaN  99232     99232.0   \n",
       "1     318       11743   129545        ICU       NaN  99232     99232.0   \n",
       "2     319       11743   129545        ICU       NaN  99232     99232.0   \n",
       "3     320       11743   129545        ICU       NaN  99232     99232.0   \n",
       "4     321        6185   183725        ICU       NaN  99223     99223.0   \n",
       "\n",
       "  CPT_SUFFIX  TICKET_ID_SEQ              SECTIONHEADER  \\\n",
       "0        NaN            6.0  Evaluation and management   \n",
       "1        NaN            7.0  Evaluation and management   \n",
       "2        NaN            8.0  Evaluation and management   \n",
       "3        NaN            9.0  Evaluation and management   \n",
       "4        NaN            1.0  Evaluation and management   \n",
       "\n",
       "              SUBSECTIONHEADER DESCRIPTION  \n",
       "0  Hospital inpatient services         NaN  \n",
       "1  Hospital inpatient services         NaN  \n",
       "2  Hospital inpatient services         NaN  \n",
       "3  Hospital inpatient services         NaN  \n",
       "4  Hospital inpatient services         NaN  "
      ]
     },
     "execution_count": 7,
     "metadata": {},
     "output_type": "execute_result"
    }
   ],
   "source": [
    "cptevents_df = pd.read_csv('CPTEVENTS.csv', low_memory=False)\n",
    "cptevents_df.head()"
   ]
  },
  {
   "cell_type": "code",
   "execution_count": 8,
   "id": "e8a100de-1551-44e8-8305-f0fcf9c0268a",
   "metadata": {},
   "outputs": [
    {
     "data": {
      "text/html": [
       "<div>\n",
       "<style scoped>\n",
       "    .dataframe tbody tr th:only-of-type {\n",
       "        vertical-align: middle;\n",
       "    }\n",
       "\n",
       "    .dataframe tbody tr th {\n",
       "        vertical-align: top;\n",
       "    }\n",
       "\n",
       "    .dataframe thead th {\n",
       "        text-align: right;\n",
       "    }\n",
       "</style>\n",
       "<table border=\"1\" class=\"dataframe\">\n",
       "  <thead>\n",
       "    <tr style=\"text-align: right;\">\n",
       "      <th></th>\n",
       "      <th>ROW_ID</th>\n",
       "      <th>SUBJECT_ID</th>\n",
       "      <th>HADM_ID</th>\n",
       "      <th>ICUSTAY_ID</th>\n",
       "      <th>DBSOURCE</th>\n",
       "      <th>FIRST_CAREUNIT</th>\n",
       "      <th>LAST_CAREUNIT</th>\n",
       "      <th>FIRST_WARDID</th>\n",
       "      <th>LAST_WARDID</th>\n",
       "      <th>INTIME</th>\n",
       "      <th>OUTTIME</th>\n",
       "      <th>LOS</th>\n",
       "    </tr>\n",
       "  </thead>\n",
       "  <tbody>\n",
       "    <tr>\n",
       "      <th>0</th>\n",
       "      <td>365</td>\n",
       "      <td>268</td>\n",
       "      <td>110404</td>\n",
       "      <td>280836</td>\n",
       "      <td>carevue</td>\n",
       "      <td>MICU</td>\n",
       "      <td>MICU</td>\n",
       "      <td>52</td>\n",
       "      <td>52</td>\n",
       "      <td>2198-02-14 23:27:38</td>\n",
       "      <td>2198-02-18 05:26:11</td>\n",
       "      <td>3.2490</td>\n",
       "    </tr>\n",
       "    <tr>\n",
       "      <th>1</th>\n",
       "      <td>366</td>\n",
       "      <td>269</td>\n",
       "      <td>106296</td>\n",
       "      <td>206613</td>\n",
       "      <td>carevue</td>\n",
       "      <td>MICU</td>\n",
       "      <td>MICU</td>\n",
       "      <td>52</td>\n",
       "      <td>52</td>\n",
       "      <td>2170-11-05 11:05:29</td>\n",
       "      <td>2170-11-08 17:46:57</td>\n",
       "      <td>3.2788</td>\n",
       "    </tr>\n",
       "    <tr>\n",
       "      <th>2</th>\n",
       "      <td>367</td>\n",
       "      <td>270</td>\n",
       "      <td>188028</td>\n",
       "      <td>220345</td>\n",
       "      <td>carevue</td>\n",
       "      <td>CCU</td>\n",
       "      <td>CCU</td>\n",
       "      <td>57</td>\n",
       "      <td>57</td>\n",
       "      <td>2128-06-24 15:05:20</td>\n",
       "      <td>2128-06-27 12:32:29</td>\n",
       "      <td>2.8939</td>\n",
       "    </tr>\n",
       "    <tr>\n",
       "      <th>3</th>\n",
       "      <td>368</td>\n",
       "      <td>271</td>\n",
       "      <td>173727</td>\n",
       "      <td>249196</td>\n",
       "      <td>carevue</td>\n",
       "      <td>MICU</td>\n",
       "      <td>SICU</td>\n",
       "      <td>52</td>\n",
       "      <td>23</td>\n",
       "      <td>2120-08-07 23:12:42</td>\n",
       "      <td>2120-08-10 00:39:04</td>\n",
       "      <td>2.0600</td>\n",
       "    </tr>\n",
       "    <tr>\n",
       "      <th>4</th>\n",
       "      <td>369</td>\n",
       "      <td>272</td>\n",
       "      <td>164716</td>\n",
       "      <td>210407</td>\n",
       "      <td>carevue</td>\n",
       "      <td>CCU</td>\n",
       "      <td>CCU</td>\n",
       "      <td>57</td>\n",
       "      <td>57</td>\n",
       "      <td>2186-12-25 21:08:04</td>\n",
       "      <td>2186-12-27 12:01:13</td>\n",
       "      <td>1.6202</td>\n",
       "    </tr>\n",
       "  </tbody>\n",
       "</table>\n",
       "</div>"
      ],
      "text/plain": [
       "   ROW_ID  SUBJECT_ID  HADM_ID  ICUSTAY_ID DBSOURCE FIRST_CAREUNIT  \\\n",
       "0     365         268   110404      280836  carevue           MICU   \n",
       "1     366         269   106296      206613  carevue           MICU   \n",
       "2     367         270   188028      220345  carevue            CCU   \n",
       "3     368         271   173727      249196  carevue           MICU   \n",
       "4     369         272   164716      210407  carevue            CCU   \n",
       "\n",
       "  LAST_CAREUNIT  FIRST_WARDID  LAST_WARDID               INTIME  \\\n",
       "0          MICU            52           52  2198-02-14 23:27:38   \n",
       "1          MICU            52           52  2170-11-05 11:05:29   \n",
       "2           CCU            57           57  2128-06-24 15:05:20   \n",
       "3          SICU            52           23  2120-08-07 23:12:42   \n",
       "4           CCU            57           57  2186-12-25 21:08:04   \n",
       "\n",
       "               OUTTIME     LOS  \n",
       "0  2198-02-18 05:26:11  3.2490  \n",
       "1  2170-11-08 17:46:57  3.2788  \n",
       "2  2128-06-27 12:32:29  2.8939  \n",
       "3  2120-08-10 00:39:04  2.0600  \n",
       "4  2186-12-27 12:01:13  1.6202  "
      ]
     },
     "execution_count": 8,
     "metadata": {},
     "output_type": "execute_result"
    }
   ],
   "source": [
    "icustay_df = pd.read_csv('ICUSTAYS.csv', low_memory=False)\n",
    "icustay_df .head()"
   ]
  },
  {
   "cell_type": "code",
   "execution_count": 9,
   "id": "1b005f40-4596-4fef-8f4f-e3c33cca9e05",
   "metadata": {},
   "outputs": [
    {
     "data": {
      "text/html": [
       "<div>\n",
       "<style scoped>\n",
       "    .dataframe tbody tr th:only-of-type {\n",
       "        vertical-align: middle;\n",
       "    }\n",
       "\n",
       "    .dataframe tbody tr th {\n",
       "        vertical-align: top;\n",
       "    }\n",
       "\n",
       "    .dataframe thead th {\n",
       "        text-align: right;\n",
       "    }\n",
       "</style>\n",
       "<table border=\"1\" class=\"dataframe\">\n",
       "  <thead>\n",
       "    <tr style=\"text-align: right;\">\n",
       "      <th></th>\n",
       "      <th>ROW_ID</th>\n",
       "      <th>SUBJECT_ID</th>\n",
       "      <th>HADM_ID</th>\n",
       "      <th>CHARTDATE</th>\n",
       "      <th>CHARTTIME</th>\n",
       "      <th>STORETIME</th>\n",
       "      <th>CATEGORY</th>\n",
       "      <th>DESCRIPTION</th>\n",
       "      <th>CGID</th>\n",
       "      <th>ISERROR</th>\n",
       "      <th>TEXT</th>\n",
       "    </tr>\n",
       "  </thead>\n",
       "  <tbody>\n",
       "    <tr>\n",
       "      <th>0</th>\n",
       "      <td>174</td>\n",
       "      <td>22532</td>\n",
       "      <td>167853.0</td>\n",
       "      <td>2151-08-04</td>\n",
       "      <td>NaN</td>\n",
       "      <td>NaN</td>\n",
       "      <td>Discharge summary</td>\n",
       "      <td>Report</td>\n",
       "      <td>NaN</td>\n",
       "      <td>NaN</td>\n",
       "      <td>Admission Date:  [**2151-7-16**]       Dischar...</td>\n",
       "    </tr>\n",
       "    <tr>\n",
       "      <th>1</th>\n",
       "      <td>175</td>\n",
       "      <td>13702</td>\n",
       "      <td>107527.0</td>\n",
       "      <td>2118-06-14</td>\n",
       "      <td>NaN</td>\n",
       "      <td>NaN</td>\n",
       "      <td>Discharge summary</td>\n",
       "      <td>Report</td>\n",
       "      <td>NaN</td>\n",
       "      <td>NaN</td>\n",
       "      <td>Admission Date:  [**2118-6-2**]       Discharg...</td>\n",
       "    </tr>\n",
       "    <tr>\n",
       "      <th>2</th>\n",
       "      <td>176</td>\n",
       "      <td>13702</td>\n",
       "      <td>167118.0</td>\n",
       "      <td>2119-05-25</td>\n",
       "      <td>NaN</td>\n",
       "      <td>NaN</td>\n",
       "      <td>Discharge summary</td>\n",
       "      <td>Report</td>\n",
       "      <td>NaN</td>\n",
       "      <td>NaN</td>\n",
       "      <td>Admission Date:  [**2119-5-4**]              D...</td>\n",
       "    </tr>\n",
       "    <tr>\n",
       "      <th>3</th>\n",
       "      <td>177</td>\n",
       "      <td>13702</td>\n",
       "      <td>196489.0</td>\n",
       "      <td>2124-08-18</td>\n",
       "      <td>NaN</td>\n",
       "      <td>NaN</td>\n",
       "      <td>Discharge summary</td>\n",
       "      <td>Report</td>\n",
       "      <td>NaN</td>\n",
       "      <td>NaN</td>\n",
       "      <td>Admission Date:  [**2124-7-21**]              ...</td>\n",
       "    </tr>\n",
       "    <tr>\n",
       "      <th>4</th>\n",
       "      <td>178</td>\n",
       "      <td>26880</td>\n",
       "      <td>135453.0</td>\n",
       "      <td>2162-03-25</td>\n",
       "      <td>NaN</td>\n",
       "      <td>NaN</td>\n",
       "      <td>Discharge summary</td>\n",
       "      <td>Report</td>\n",
       "      <td>NaN</td>\n",
       "      <td>NaN</td>\n",
       "      <td>Admission Date:  [**2162-3-3**]              D...</td>\n",
       "    </tr>\n",
       "  </tbody>\n",
       "</table>\n",
       "</div>"
      ],
      "text/plain": [
       "   ROW_ID  SUBJECT_ID   HADM_ID   CHARTDATE CHARTTIME STORETIME  \\\n",
       "0     174       22532  167853.0  2151-08-04       NaN       NaN   \n",
       "1     175       13702  107527.0  2118-06-14       NaN       NaN   \n",
       "2     176       13702  167118.0  2119-05-25       NaN       NaN   \n",
       "3     177       13702  196489.0  2124-08-18       NaN       NaN   \n",
       "4     178       26880  135453.0  2162-03-25       NaN       NaN   \n",
       "\n",
       "            CATEGORY DESCRIPTION  CGID  ISERROR  \\\n",
       "0  Discharge summary      Report   NaN      NaN   \n",
       "1  Discharge summary      Report   NaN      NaN   \n",
       "2  Discharge summary      Report   NaN      NaN   \n",
       "3  Discharge summary      Report   NaN      NaN   \n",
       "4  Discharge summary      Report   NaN      NaN   \n",
       "\n",
       "                                                TEXT  \n",
       "0  Admission Date:  [**2151-7-16**]       Dischar...  \n",
       "1  Admission Date:  [**2118-6-2**]       Discharg...  \n",
       "2  Admission Date:  [**2119-5-4**]              D...  \n",
       "3  Admission Date:  [**2124-7-21**]              ...  \n",
       "4  Admission Date:  [**2162-3-3**]              D...  "
      ]
     },
     "execution_count": 9,
     "metadata": {},
     "output_type": "execute_result"
    }
   ],
   "source": [
    "notes_df= pd.read_csv('NOTEEVENTS.csv', low_memory=False)\n",
    "notes_df.head()"
   ]
  },
  {
   "cell_type": "markdown",
   "id": "0949af89-13de-4665-86b5-37ffaf3f59b9",
   "metadata": {},
   "source": [
    "### Remove the unnecessary columns from each dataframe"
   ]
  },
  {
   "cell_type": "code",
   "execution_count": 10,
   "id": "4fdb8e13",
   "metadata": {
    "id": "4fdb8e13"
   },
   "outputs": [],
   "source": [
    "admissions = admissions.drop(columns=['ROW_ID','ADMISSION_LOCATION','DISCHARGE_LOCATION',\n",
    "                                                                          'LANGUAGE', 'RELIGION', 'MARITAL_STATUS',\n",
    "                                                                          'ETHNICITY','EDREGTIME','EDOUTTIME',\n",
    "                                                                          'DIAGNOSIS','HAS_CHARTEVENTS_DATA',\n",
    "                                     'DEATHTIME','INSURANCE','HOSPITAL_EXPIRE_FLAG'])"
   ]
  },
  {
   "cell_type": "code",
   "execution_count": 11,
   "id": "a8c417f7-97aa-4395-a8cf-c969d7caa420",
   "metadata": {},
   "outputs": [
    {
     "data": {
      "text/plain": [
       "ROW_ID         2083180\n",
       "SUBJECT_ID     2083180\n",
       "HADM_ID        1851344\n",
       "CATEGORY       2083180\n",
       "DESCRIPTION    2083180\n",
       "TEXT           2083180\n",
       "dtype: int64"
      ]
     },
     "execution_count": 11,
     "metadata": {},
     "output_type": "execute_result"
    }
   ],
   "source": [
    "notes_df = notes_df.drop(columns=['CHARTDATE','CHARTTIME', 'STORETIME', 'CGID', 'ISERROR'])\n",
    "notes_df.count()"
   ]
  },
  {
   "cell_type": "code",
   "execution_count": 12,
   "id": "9359c9eb",
   "metadata": {
    "colab": {
     "base_uri": "https://localhost:8080/",
     "height": 204
    },
    "id": "9359c9eb",
    "outputId": "a0d89de1-fab9-4695-99bd-2e3cce8ef40c"
   },
   "outputs": [
    {
     "data": {
      "text/html": [
       "<div>\n",
       "<style scoped>\n",
       "    .dataframe tbody tr th:only-of-type {\n",
       "        vertical-align: middle;\n",
       "    }\n",
       "\n",
       "    .dataframe tbody tr th {\n",
       "        vertical-align: top;\n",
       "    }\n",
       "\n",
       "    .dataframe thead th {\n",
       "        text-align: right;\n",
       "    }\n",
       "</style>\n",
       "<table border=\"1\" class=\"dataframe\">\n",
       "  <thead>\n",
       "    <tr style=\"text-align: right;\">\n",
       "      <th></th>\n",
       "      <th>SUBJECT_ID</th>\n",
       "      <th>HADM_ID</th>\n",
       "      <th>ADMITTIME</th>\n",
       "      <th>DISCHTIME</th>\n",
       "      <th>ADMISSION_TYPE</th>\n",
       "      <th>LEN_OF_STAY</th>\n",
       "    </tr>\n",
       "  </thead>\n",
       "  <tbody>\n",
       "    <tr>\n",
       "      <th>0</th>\n",
       "      <td>2</td>\n",
       "      <td>163353</td>\n",
       "      <td>2138-07-17 19:04:00</td>\n",
       "      <td>2138-07-21 15:48:00</td>\n",
       "      <td>NEWBORN</td>\n",
       "      <td>3</td>\n",
       "    </tr>\n",
       "    <tr>\n",
       "      <th>1</th>\n",
       "      <td>3</td>\n",
       "      <td>145834</td>\n",
       "      <td>2101-10-20 19:08:00</td>\n",
       "      <td>2101-10-31 13:58:00</td>\n",
       "      <td>EMERGENCY</td>\n",
       "      <td>10</td>\n",
       "    </tr>\n",
       "    <tr>\n",
       "      <th>2</th>\n",
       "      <td>4</td>\n",
       "      <td>185777</td>\n",
       "      <td>2191-03-16 00:28:00</td>\n",
       "      <td>2191-03-23 18:41:00</td>\n",
       "      <td>EMERGENCY</td>\n",
       "      <td>7</td>\n",
       "    </tr>\n",
       "    <tr>\n",
       "      <th>3</th>\n",
       "      <td>5</td>\n",
       "      <td>178980</td>\n",
       "      <td>2103-02-02 04:31:00</td>\n",
       "      <td>2103-02-04 12:15:00</td>\n",
       "      <td>NEWBORN</td>\n",
       "      <td>2</td>\n",
       "    </tr>\n",
       "    <tr>\n",
       "      <th>4</th>\n",
       "      <td>6</td>\n",
       "      <td>107064</td>\n",
       "      <td>2175-05-30 07:15:00</td>\n",
       "      <td>2175-06-15 16:00:00</td>\n",
       "      <td>ELECTIVE</td>\n",
       "      <td>16</td>\n",
       "    </tr>\n",
       "  </tbody>\n",
       "</table>\n",
       "</div>"
      ],
      "text/plain": [
       "   SUBJECT_ID  HADM_ID           ADMITTIME           DISCHTIME ADMISSION_TYPE  \\\n",
       "0           2   163353 2138-07-17 19:04:00 2138-07-21 15:48:00        NEWBORN   \n",
       "1           3   145834 2101-10-20 19:08:00 2101-10-31 13:58:00      EMERGENCY   \n",
       "2           4   185777 2191-03-16 00:28:00 2191-03-23 18:41:00      EMERGENCY   \n",
       "3           5   178980 2103-02-02 04:31:00 2103-02-04 12:15:00        NEWBORN   \n",
       "4           6   107064 2175-05-30 07:15:00 2175-06-15 16:00:00       ELECTIVE   \n",
       "\n",
       "   LEN_OF_STAY  \n",
       "0            3  \n",
       "1           10  \n",
       "2            7  \n",
       "3            2  \n",
       "4           16  "
      ]
     },
     "execution_count": 12,
     "metadata": {},
     "output_type": "execute_result"
    }
   ],
   "source": [
    "# First, convert the ADMITTIME and DISCHTIME columns to datetime format\n",
    "admissions['ADMITTIME'] = pd.to_datetime(admissions['ADMITTIME'], errors='coerce')\n",
    "admissions['DISCHTIME'] = pd.to_datetime(admissions['DISCHTIME'], errors='coerce')\n",
    "\n",
    "# Calculate the length of stay as the difference between 'DISCHTIME' and 'ADMITTIME'\n",
    "admissions['LEN_OF_STAY'] = (admissions['DISCHTIME'] - admissions['ADMITTIME']).dt.days\n",
    "admissions.head()\n",
    "\n",
    "# Display the relevant columns with length of stay\n",
    "#sorted_df = merge_notes_diag_proc_adm_df.sort_values(by='LEN_OF_STAY', ascending=False)\n",
    "#sorted_df.head(30)\n"
   ]
  },
  {
   "cell_type": "markdown",
   "id": "d4ac9889-bc09-4b7a-99c3-65b01f0910f0",
   "metadata": {},
   "source": [
    "# Data Cleanup to remove the patients data where the discharge date is not given or it is lesser than the admit date (may be a data entry issue). We have removed 100 such records. "
   ]
  },
  {
   "cell_type": "code",
   "execution_count": 13,
   "id": "cbdfa8d7",
   "metadata": {
    "id": "cbdfa8d7"
   },
   "outputs": [],
   "source": [
    "# Remove records where LEN_OF_STAY is less than 0\n",
    "admissions = admissions[admissions['LEN_OF_STAY'] >= 0]"
   ]
  },
  {
   "cell_type": "code",
   "execution_count": 14,
   "id": "9cb94d7d",
   "metadata": {
    "colab": {
     "base_uri": "https://localhost:8080/",
     "height": 269
    },
    "id": "9cb94d7d",
    "outputId": "7782cf5e-62a0-420c-8f7a-e00a61234c2b"
   },
   "outputs": [
    {
     "data": {
      "text/plain": [
       "SUBJECT_ID        58878\n",
       "HADM_ID           58878\n",
       "ADMITTIME         58878\n",
       "DISCHTIME         58878\n",
       "ADMISSION_TYPE    58878\n",
       "LEN_OF_STAY       58878\n",
       "dtype: int64"
      ]
     },
     "execution_count": 14,
     "metadata": {},
     "output_type": "execute_result"
    }
   ],
   "source": [
    "admissions.count()"
   ]
  },
  {
   "cell_type": "code",
   "execution_count": 15,
   "id": "6bc8e818",
   "metadata": {
    "colab": {
     "base_uri": "https://localhost:8080/",
     "height": 204
    },
    "id": "6bc8e818",
    "outputId": "5702dd45-570f-445d-8097-b32a87eb8222"
   },
   "outputs": [
    {
     "data": {
      "text/html": [
       "<div>\n",
       "<style scoped>\n",
       "    .dataframe tbody tr th:only-of-type {\n",
       "        vertical-align: middle;\n",
       "    }\n",
       "\n",
       "    .dataframe tbody tr th {\n",
       "        vertical-align: top;\n",
       "    }\n",
       "\n",
       "    .dataframe thead th {\n",
       "        text-align: right;\n",
       "    }\n",
       "</style>\n",
       "<table border=\"1\" class=\"dataframe\">\n",
       "  <thead>\n",
       "    <tr style=\"text-align: right;\">\n",
       "      <th></th>\n",
       "      <th>SUBJECT_ID</th>\n",
       "      <th>HADM_ID</th>\n",
       "      <th>ADMITTIME</th>\n",
       "      <th>DISCHTIME</th>\n",
       "      <th>ADMISSION_TYPE</th>\n",
       "      <th>LEN_OF_STAY</th>\n",
       "      <th>Previous_DISCHTIME</th>\n",
       "      <th>Readmission</th>\n",
       "    </tr>\n",
       "  </thead>\n",
       "  <tbody>\n",
       "    <tr>\n",
       "      <th>0</th>\n",
       "      <td>2</td>\n",
       "      <td>163353</td>\n",
       "      <td>2138-07-17 19:04:00</td>\n",
       "      <td>2138-07-21 15:48:00</td>\n",
       "      <td>NEWBORN</td>\n",
       "      <td>3</td>\n",
       "      <td>NaT</td>\n",
       "      <td>False</td>\n",
       "    </tr>\n",
       "    <tr>\n",
       "      <th>1</th>\n",
       "      <td>3</td>\n",
       "      <td>145834</td>\n",
       "      <td>2101-10-20 19:08:00</td>\n",
       "      <td>2101-10-31 13:58:00</td>\n",
       "      <td>EMERGENCY</td>\n",
       "      <td>10</td>\n",
       "      <td>NaT</td>\n",
       "      <td>False</td>\n",
       "    </tr>\n",
       "    <tr>\n",
       "      <th>2</th>\n",
       "      <td>4</td>\n",
       "      <td>185777</td>\n",
       "      <td>2191-03-16 00:28:00</td>\n",
       "      <td>2191-03-23 18:41:00</td>\n",
       "      <td>EMERGENCY</td>\n",
       "      <td>7</td>\n",
       "      <td>NaT</td>\n",
       "      <td>False</td>\n",
       "    </tr>\n",
       "    <tr>\n",
       "      <th>3</th>\n",
       "      <td>5</td>\n",
       "      <td>178980</td>\n",
       "      <td>2103-02-02 04:31:00</td>\n",
       "      <td>2103-02-04 12:15:00</td>\n",
       "      <td>NEWBORN</td>\n",
       "      <td>2</td>\n",
       "      <td>NaT</td>\n",
       "      <td>False</td>\n",
       "    </tr>\n",
       "    <tr>\n",
       "      <th>4</th>\n",
       "      <td>6</td>\n",
       "      <td>107064</td>\n",
       "      <td>2175-05-30 07:15:00</td>\n",
       "      <td>2175-06-15 16:00:00</td>\n",
       "      <td>ELECTIVE</td>\n",
       "      <td>16</td>\n",
       "      <td>NaT</td>\n",
       "      <td>False</td>\n",
       "    </tr>\n",
       "  </tbody>\n",
       "</table>\n",
       "</div>"
      ],
      "text/plain": [
       "   SUBJECT_ID  HADM_ID           ADMITTIME           DISCHTIME ADMISSION_TYPE  \\\n",
       "0           2   163353 2138-07-17 19:04:00 2138-07-21 15:48:00        NEWBORN   \n",
       "1           3   145834 2101-10-20 19:08:00 2101-10-31 13:58:00      EMERGENCY   \n",
       "2           4   185777 2191-03-16 00:28:00 2191-03-23 18:41:00      EMERGENCY   \n",
       "3           5   178980 2103-02-02 04:31:00 2103-02-04 12:15:00        NEWBORN   \n",
       "4           6   107064 2175-05-30 07:15:00 2175-06-15 16:00:00       ELECTIVE   \n",
       "\n",
       "   LEN_OF_STAY Previous_DISCHTIME  Readmission  \n",
       "0            3                NaT        False  \n",
       "1           10                NaT        False  \n",
       "2            7                NaT        False  \n",
       "3            2                NaT        False  \n",
       "4           16                NaT        False  "
      ]
     },
     "execution_count": 15,
     "metadata": {},
     "output_type": "execute_result"
    }
   ],
   "source": [
    "# A readmission occurs if a patient's next admission is within 30 days of their previous discharge\n",
    "admissions['Previous_DISCHTIME'] = admissions.groupby('SUBJECT_ID')['DISCHTIME'].shift(1)\n",
    "\n",
    "admissions['Readmission'] = (admissions['ADMITTIME'] - admissions['Previous_DISCHTIME']).dt.days <= 60\n",
    "admissions['Readmission'] = admissions['Readmission'].fillna(False)\n",
    "\n",
    "admissions.head()\n",
    "# Calculate the number of readmissions for each SUBJECT_ID\n",
    "#admissions['Num_Readmissions'] = admissions.groupby('SUBJECT_ID')['Readmission'].cumsum()"
   ]
  },
  {
   "cell_type": "code",
   "execution_count": 16,
   "id": "90466126",
   "metadata": {
    "colab": {
     "base_uri": "https://localhost:8080/",
     "height": 331
    },
    "id": "90466126",
    "outputId": "f56c407f-2b82-4260-d364-874cb1d03254"
   },
   "outputs": [
    {
     "data": {
      "text/plain": [
       "SUBJECT_ID            58878\n",
       "HADM_ID               58878\n",
       "ADMITTIME             58878\n",
       "DISCHTIME             58878\n",
       "ADMISSION_TYPE        58878\n",
       "LEN_OF_STAY           58878\n",
       "Previous_DISCHTIME    12433\n",
       "Readmission           58878\n",
       "dtype: int64"
      ]
     },
     "execution_count": 16,
     "metadata": {},
     "output_type": "execute_result"
    }
   ],
   "source": [
    "admissions.count()"
   ]
  },
  {
   "cell_type": "code",
   "execution_count": 17,
   "id": "00bef18f",
   "metadata": {
    "colab": {
     "base_uri": "https://localhost:8080/"
    },
    "id": "00bef18f",
    "outputId": "94837921-df58-46b3-bd78-7bcb74c221d9"
   },
   "outputs": [
    {
     "name": "stdout",
     "output_type": "stream",
     "text": [
      "ADMISSION_TYPE\n",
      "EMERGENCY    4373\n",
      "ELECTIVE      334\n",
      "URGENT        100\n",
      "NEWBORN        34\n",
      "Name: count, dtype: int64\n"
     ]
    }
   ],
   "source": [
    "readmission_true = admissions[admissions['Readmission'] == True]\n",
    "admission_type_counts = readmission_true['ADMISSION_TYPE'].value_counts()\n",
    "print(admission_type_counts)"
   ]
  },
  {
   "cell_type": "markdown",
   "id": "e66297fb",
   "metadata": {
    "id": "e66297fb"
   },
   "source": [
    "### Merge Patients dataframe to get the age -->"
   ]
  },
  {
   "cell_type": "code",
   "execution_count": 18,
   "id": "82883e02",
   "metadata": {
    "id": "82883e02"
   },
   "outputs": [],
   "source": [
    "admissions = pd.merge(admissions, patients, on=['SUBJECT_ID'], how='inner')"
   ]
  },
  {
   "cell_type": "code",
   "execution_count": 19,
   "id": "3dea8c31",
   "metadata": {
    "colab": {
     "base_uri": "https://localhost:8080/"
    },
    "id": "3dea8c31",
    "outputId": "0b2a3415-ca7d-463e-a63f-80a1555865c7"
   },
   "outputs": [
    {
     "name": "stdout",
     "output_type": "stream",
     "text": [
      "<class 'pandas.core.frame.DataFrame'>\n",
      "RangeIndex: 58878 entries, 0 to 58877\n",
      "Data columns (total 15 columns):\n",
      " #   Column              Non-Null Count  Dtype         \n",
      "---  ------              --------------  -----         \n",
      " 0   SUBJECT_ID          58878 non-null  int64         \n",
      " 1   HADM_ID             58878 non-null  int64         \n",
      " 2   ADMITTIME           58878 non-null  datetime64[ns]\n",
      " 3   DISCHTIME           58878 non-null  datetime64[ns]\n",
      " 4   ADMISSION_TYPE      58878 non-null  object        \n",
      " 5   LEN_OF_STAY         58878 non-null  int64         \n",
      " 6   Previous_DISCHTIME  12433 non-null  datetime64[ns]\n",
      " 7   Readmission         58878 non-null  bool          \n",
      " 8   ROW_ID              58878 non-null  int64         \n",
      " 9   GENDER              58878 non-null  object        \n",
      " 10  DOB                 58878 non-null  object        \n",
      " 11  DOD                 22501 non-null  object        \n",
      " 12  DOD_HOSP            14986 non-null  object        \n",
      " 13  DOD_SSN             19018 non-null  object        \n",
      " 14  EXPIRE_FLAG         58878 non-null  int64         \n",
      "dtypes: bool(1), datetime64[ns](3), int64(5), object(6)\n",
      "memory usage: 6.3+ MB\n"
     ]
    }
   ],
   "source": [
    "admissions.info()"
   ]
  },
  {
   "cell_type": "code",
   "execution_count": 20,
   "id": "69b6f761",
   "metadata": {
    "id": "69b6f761"
   },
   "outputs": [],
   "source": [
    "# Keep only the required columns in the merged dataframe\n",
    "admissions = admissions.drop(columns=['ROW_ID','DOD_HOSP','DOD_SSN'])"
   ]
  },
  {
   "cell_type": "code",
   "execution_count": 21,
   "id": "c2d705ca",
   "metadata": {
    "colab": {
     "base_uri": "https://localhost:8080/",
     "height": 289
    },
    "id": "c2d705ca",
    "outputId": "fae5c473-fe3d-45f4-9417-8b4ccaa69576"
   },
   "outputs": [
    {
     "data": {
      "text/html": [
       "<div>\n",
       "<style scoped>\n",
       "    .dataframe tbody tr th:only-of-type {\n",
       "        vertical-align: middle;\n",
       "    }\n",
       "\n",
       "    .dataframe tbody tr th {\n",
       "        vertical-align: top;\n",
       "    }\n",
       "\n",
       "    .dataframe thead th {\n",
       "        text-align: right;\n",
       "    }\n",
       "</style>\n",
       "<table border=\"1\" class=\"dataframe\">\n",
       "  <thead>\n",
       "    <tr style=\"text-align: right;\">\n",
       "      <th></th>\n",
       "      <th>SUBJECT_ID</th>\n",
       "      <th>HADM_ID</th>\n",
       "      <th>ADMITTIME</th>\n",
       "      <th>DISCHTIME</th>\n",
       "      <th>ADMISSION_TYPE</th>\n",
       "      <th>LEN_OF_STAY</th>\n",
       "      <th>Previous_DISCHTIME</th>\n",
       "      <th>Readmission</th>\n",
       "      <th>GENDER</th>\n",
       "      <th>DOB</th>\n",
       "      <th>DOD</th>\n",
       "      <th>EXPIRE_FLAG</th>\n",
       "      <th>AGE</th>\n",
       "    </tr>\n",
       "  </thead>\n",
       "  <tbody>\n",
       "    <tr>\n",
       "      <th>0</th>\n",
       "      <td>2</td>\n",
       "      <td>163353</td>\n",
       "      <td>2138-07-17 19:04:00</td>\n",
       "      <td>2138-07-21 15:48:00</td>\n",
       "      <td>NEWBORN</td>\n",
       "      <td>3</td>\n",
       "      <td>NaT</td>\n",
       "      <td>False</td>\n",
       "      <td>M</td>\n",
       "      <td>2138-07-17</td>\n",
       "      <td>NaN</td>\n",
       "      <td>0</td>\n",
       "      <td>0</td>\n",
       "    </tr>\n",
       "    <tr>\n",
       "      <th>1</th>\n",
       "      <td>3</td>\n",
       "      <td>145834</td>\n",
       "      <td>2101-10-20 19:08:00</td>\n",
       "      <td>2101-10-31 13:58:00</td>\n",
       "      <td>EMERGENCY</td>\n",
       "      <td>10</td>\n",
       "      <td>NaT</td>\n",
       "      <td>False</td>\n",
       "      <td>M</td>\n",
       "      <td>2025-04-11</td>\n",
       "      <td>2102-06-14 00:00:00</td>\n",
       "      <td>1</td>\n",
       "      <td>76</td>\n",
       "    </tr>\n",
       "    <tr>\n",
       "      <th>2</th>\n",
       "      <td>4</td>\n",
       "      <td>185777</td>\n",
       "      <td>2191-03-16 00:28:00</td>\n",
       "      <td>2191-03-23 18:41:00</td>\n",
       "      <td>EMERGENCY</td>\n",
       "      <td>7</td>\n",
       "      <td>NaT</td>\n",
       "      <td>False</td>\n",
       "      <td>F</td>\n",
       "      <td>2143-05-12</td>\n",
       "      <td>NaN</td>\n",
       "      <td>0</td>\n",
       "      <td>47</td>\n",
       "    </tr>\n",
       "    <tr>\n",
       "      <th>3</th>\n",
       "      <td>5</td>\n",
       "      <td>178980</td>\n",
       "      <td>2103-02-02 04:31:00</td>\n",
       "      <td>2103-02-04 12:15:00</td>\n",
       "      <td>NEWBORN</td>\n",
       "      <td>2</td>\n",
       "      <td>NaT</td>\n",
       "      <td>False</td>\n",
       "      <td>M</td>\n",
       "      <td>2103-02-02</td>\n",
       "      <td>NaN</td>\n",
       "      <td>0</td>\n",
       "      <td>0</td>\n",
       "    </tr>\n",
       "    <tr>\n",
       "      <th>4</th>\n",
       "      <td>6</td>\n",
       "      <td>107064</td>\n",
       "      <td>2175-05-30 07:15:00</td>\n",
       "      <td>2175-06-15 16:00:00</td>\n",
       "      <td>ELECTIVE</td>\n",
       "      <td>16</td>\n",
       "      <td>NaT</td>\n",
       "      <td>False</td>\n",
       "      <td>F</td>\n",
       "      <td>2109-06-21</td>\n",
       "      <td>NaN</td>\n",
       "      <td>0</td>\n",
       "      <td>65</td>\n",
       "    </tr>\n",
       "  </tbody>\n",
       "</table>\n",
       "</div>"
      ],
      "text/plain": [
       "   SUBJECT_ID  HADM_ID           ADMITTIME           DISCHTIME ADMISSION_TYPE  \\\n",
       "0           2   163353 2138-07-17 19:04:00 2138-07-21 15:48:00        NEWBORN   \n",
       "1           3   145834 2101-10-20 19:08:00 2101-10-31 13:58:00      EMERGENCY   \n",
       "2           4   185777 2191-03-16 00:28:00 2191-03-23 18:41:00      EMERGENCY   \n",
       "3           5   178980 2103-02-02 04:31:00 2103-02-04 12:15:00        NEWBORN   \n",
       "4           6   107064 2175-05-30 07:15:00 2175-06-15 16:00:00       ELECTIVE   \n",
       "\n",
       "   LEN_OF_STAY Previous_DISCHTIME  Readmission GENDER        DOB  \\\n",
       "0            3                NaT        False      M 2138-07-17   \n",
       "1           10                NaT        False      M 2025-04-11   \n",
       "2            7                NaT        False      F 2143-05-12   \n",
       "3            2                NaT        False      M 2103-02-02   \n",
       "4           16                NaT        False      F 2109-06-21   \n",
       "\n",
       "                   DOD  EXPIRE_FLAG  AGE  \n",
       "0                  NaN            0    0  \n",
       "1  2102-06-14 00:00:00            1   76  \n",
       "2                  NaN            0   47  \n",
       "3                  NaN            0    0  \n",
       "4                  NaN            0   65  "
      ]
     },
     "execution_count": 21,
     "metadata": {},
     "output_type": "execute_result"
    }
   ],
   "source": [
    "from datetime import datetime\n",
    "\n",
    "admissions['ADMITTIME'] = pd.to_datetime(admissions['ADMITTIME'], errors='coerce')\n",
    "admissions['DOB'] = pd.to_datetime(admissions['DOB'], errors='coerce')\n",
    "\n",
    "# Function to calculate age in years\n",
    "def calculate_age(dob, admittime):\n",
    "    # Return the difference in years accounting for whether the birthday has occurred yet this year\n",
    "    age = admittime.year - dob.year - ((admittime.month, admittime.day) < (dob.month, dob.day))\n",
    "    return age\n",
    "\n",
    "# Apply the function across the DataFrame\n",
    "admissions['AGE'] = admissions.apply(lambda x: calculate_age(x['DOB'], x['ADMITTIME']), axis=1)\n",
    "\n",
    "# Display the first few rows to confirm the age calculation\n",
    "admissions.head()"
   ]
  },
  {
   "cell_type": "code",
   "execution_count": null,
   "id": "127a6df9",
   "metadata": {
    "id": "127a6df9"
   },
   "outputs": [],
   "source": []
  },
  {
   "cell_type": "markdown",
   "id": "f13381fb",
   "metadata": {
    "id": "f13381fb"
   },
   "source": [
    "### Extract the patients records with admission_type = EMERGENCY and URGENT"
   ]
  },
  {
   "cell_type": "code",
   "execution_count": 22,
   "id": "a411f227",
   "metadata": {
    "colab": {
     "base_uri": "https://localhost:8080/",
     "height": 306
    },
    "id": "a411f227",
    "outputId": "deb420c8-9d75-45e1-d68b-3e20e9b8211d"
   },
   "outputs": [
    {
     "data": {
      "text/html": [
       "<div>\n",
       "<style scoped>\n",
       "    .dataframe tbody tr th:only-of-type {\n",
       "        vertical-align: middle;\n",
       "    }\n",
       "\n",
       "    .dataframe tbody tr th {\n",
       "        vertical-align: top;\n",
       "    }\n",
       "\n",
       "    .dataframe thead th {\n",
       "        text-align: right;\n",
       "    }\n",
       "</style>\n",
       "<table border=\"1\" class=\"dataframe\">\n",
       "  <thead>\n",
       "    <tr style=\"text-align: right;\">\n",
       "      <th></th>\n",
       "      <th>SUBJECT_ID</th>\n",
       "      <th>HADM_ID</th>\n",
       "      <th>ADMITTIME</th>\n",
       "      <th>DISCHTIME</th>\n",
       "      <th>ADMISSION_TYPE</th>\n",
       "      <th>LEN_OF_STAY</th>\n",
       "      <th>Previous_DISCHTIME</th>\n",
       "      <th>Readmission</th>\n",
       "      <th>GENDER</th>\n",
       "      <th>DOB</th>\n",
       "      <th>DOD</th>\n",
       "      <th>EXPIRE_FLAG</th>\n",
       "      <th>AGE</th>\n",
       "    </tr>\n",
       "  </thead>\n",
       "  <tbody>\n",
       "    <tr>\n",
       "      <th>0</th>\n",
       "      <td>3</td>\n",
       "      <td>145834</td>\n",
       "      <td>2101-10-20 19:08:00</td>\n",
       "      <td>2101-10-31 13:58:00</td>\n",
       "      <td>EMERGENCY</td>\n",
       "      <td>10</td>\n",
       "      <td>NaT</td>\n",
       "      <td>False</td>\n",
       "      <td>M</td>\n",
       "      <td>2025-04-11</td>\n",
       "      <td>2102-06-14 00:00:00</td>\n",
       "      <td>1</td>\n",
       "      <td>76</td>\n",
       "    </tr>\n",
       "    <tr>\n",
       "      <th>1</th>\n",
       "      <td>4</td>\n",
       "      <td>185777</td>\n",
       "      <td>2191-03-16 00:28:00</td>\n",
       "      <td>2191-03-23 18:41:00</td>\n",
       "      <td>EMERGENCY</td>\n",
       "      <td>7</td>\n",
       "      <td>NaT</td>\n",
       "      <td>False</td>\n",
       "      <td>F</td>\n",
       "      <td>2143-05-12</td>\n",
       "      <td>NaN</td>\n",
       "      <td>0</td>\n",
       "      <td>47</td>\n",
       "    </tr>\n",
       "    <tr>\n",
       "      <th>2</th>\n",
       "      <td>9</td>\n",
       "      <td>150750</td>\n",
       "      <td>2149-11-09 13:06:00</td>\n",
       "      <td>2149-11-14 10:15:00</td>\n",
       "      <td>EMERGENCY</td>\n",
       "      <td>4</td>\n",
       "      <td>NaT</td>\n",
       "      <td>False</td>\n",
       "      <td>M</td>\n",
       "      <td>2108-01-26</td>\n",
       "      <td>2149-11-14 00:00:00</td>\n",
       "      <td>1</td>\n",
       "      <td>41</td>\n",
       "    </tr>\n",
       "    <tr>\n",
       "      <th>3</th>\n",
       "      <td>11</td>\n",
       "      <td>194540</td>\n",
       "      <td>2178-04-16 06:18:00</td>\n",
       "      <td>2178-05-11 19:00:00</td>\n",
       "      <td>EMERGENCY</td>\n",
       "      <td>25</td>\n",
       "      <td>NaT</td>\n",
       "      <td>False</td>\n",
       "      <td>F</td>\n",
       "      <td>2128-02-22</td>\n",
       "      <td>2178-11-14 00:00:00</td>\n",
       "      <td>1</td>\n",
       "      <td>50</td>\n",
       "    </tr>\n",
       "    <tr>\n",
       "      <th>4</th>\n",
       "      <td>13</td>\n",
       "      <td>143045</td>\n",
       "      <td>2167-01-08 18:43:00</td>\n",
       "      <td>2167-01-15 15:15:00</td>\n",
       "      <td>EMERGENCY</td>\n",
       "      <td>6</td>\n",
       "      <td>NaT</td>\n",
       "      <td>False</td>\n",
       "      <td>F</td>\n",
       "      <td>2127-02-27</td>\n",
       "      <td>NaN</td>\n",
       "      <td>0</td>\n",
       "      <td>39</td>\n",
       "    </tr>\n",
       "  </tbody>\n",
       "</table>\n",
       "</div>"
      ],
      "text/plain": [
       "   SUBJECT_ID  HADM_ID           ADMITTIME           DISCHTIME ADMISSION_TYPE  \\\n",
       "0           3   145834 2101-10-20 19:08:00 2101-10-31 13:58:00      EMERGENCY   \n",
       "1           4   185777 2191-03-16 00:28:00 2191-03-23 18:41:00      EMERGENCY   \n",
       "2           9   150750 2149-11-09 13:06:00 2149-11-14 10:15:00      EMERGENCY   \n",
       "3          11   194540 2178-04-16 06:18:00 2178-05-11 19:00:00      EMERGENCY   \n",
       "4          13   143045 2167-01-08 18:43:00 2167-01-15 15:15:00      EMERGENCY   \n",
       "\n",
       "   LEN_OF_STAY Previous_DISCHTIME  Readmission GENDER        DOB  \\\n",
       "0           10                NaT        False      M 2025-04-11   \n",
       "1            7                NaT        False      F 2143-05-12   \n",
       "2            4                NaT        False      M 2108-01-26   \n",
       "3           25                NaT        False      F 2128-02-22   \n",
       "4            6                NaT        False      F 2127-02-27   \n",
       "\n",
       "                   DOD  EXPIRE_FLAG  AGE  \n",
       "0  2102-06-14 00:00:00            1   76  \n",
       "1                  NaN            0   47  \n",
       "2  2149-11-14 00:00:00            1   41  \n",
       "3  2178-11-14 00:00:00            1   50  \n",
       "4                  NaN            0   39  "
      ]
     },
     "execution_count": 22,
     "metadata": {},
     "output_type": "execute_result"
    }
   ],
   "source": [
    "admissions = admissions[admissions['ADMISSION_TYPE'].isin(['EMERGENCY', 'URGENT'])]\n",
    "admissions.reset_index(drop=True, inplace=True)\n",
    "admissions.head()"
   ]
  },
  {
   "cell_type": "code",
   "execution_count": 23,
   "id": "f2149bfc",
   "metadata": {
    "colab": {
     "base_uri": "https://localhost:8080/"
    },
    "id": "f2149bfc",
    "outputId": "e94d01b5-667c-414c-e28c-e9d0ac95963e"
   },
   "outputs": [
    {
     "name": "stdout",
     "output_type": "stream",
     "text": [
      "ADMISSION_TYPE\n",
      "EMERGENCY    4373\n",
      "URGENT        100\n",
      "Name: count, dtype: int64\n"
     ]
    }
   ],
   "source": [
    "readmission_true = admissions[admissions['Readmission'] == True]\n",
    "admission_type_counts = readmission_true['ADMISSION_TYPE'].value_counts()\n",
    "print(admission_type_counts)"
   ]
  },
  {
   "cell_type": "code",
   "execution_count": 24,
   "id": "c0b2f6cf",
   "metadata": {
    "colab": {
     "base_uri": "https://localhost:8080/",
     "height": 486
    },
    "id": "c0b2f6cf",
    "outputId": "4bf993e9-9b0e-42a4-f245-104d7be98143"
   },
   "outputs": [
    {
     "data": {
      "text/plain": [
       "SUBJECT_ID            4473\n",
       "HADM_ID               4473\n",
       "ADMITTIME             4473\n",
       "DISCHTIME             4473\n",
       "ADMISSION_TYPE        4473\n",
       "LEN_OF_STAY           4473\n",
       "Previous_DISCHTIME    4473\n",
       "Readmission           4473\n",
       "GENDER                4473\n",
       "DOB                   4473\n",
       "DOD                   2646\n",
       "EXPIRE_FLAG           4473\n",
       "AGE                   4473\n",
       "dtype: int64"
      ]
     },
     "execution_count": 24,
     "metadata": {},
     "output_type": "execute_result"
    }
   ],
   "source": [
    "# Filter the DataFrame to only include rows where Readmission is True\n",
    "readmission_true_records = admissions[admissions['Readmission'] == True]\n",
    "\n",
    "# Display a sample of these records\n",
    "readmission_true_records.count()\n"
   ]
  },
  {
   "cell_type": "markdown",
   "id": "aa2855c7",
   "metadata": {
    "id": "aa2855c7"
   },
   "source": [
    "### Cleanup the Diagnosis Dataframe, combine the diagnosis codes associated with each patient in single record"
   ]
  },
  {
   "cell_type": "code",
   "execution_count": 25,
   "id": "39623223",
   "metadata": {
    "colab": {
     "base_uri": "https://localhost:8080/",
     "height": 238
    },
    "id": "39623223",
    "outputId": "2b3e4253-3bf3-42b6-db4c-2dc800d45f36"
   },
   "outputs": [
    {
     "data": {
      "text/plain": [
       "ROW_ID        651047\n",
       "SUBJECT_ID    651047\n",
       "HADM_ID       651047\n",
       "SEQ_NUM       651000\n",
       "ICD9_CODE     651000\n",
       "dtype: int64"
      ]
     },
     "execution_count": 25,
     "metadata": {},
     "output_type": "execute_result"
    }
   ],
   "source": [
    "diagnosis.count()"
   ]
  },
  {
   "cell_type": "code",
   "execution_count": 26,
   "id": "f37f5774",
   "metadata": {
    "colab": {
     "base_uri": "https://localhost:8080/",
     "height": 517
    },
    "id": "f37f5774",
    "outputId": "acf82e24-7ec3-46b0-96d8-32050386dcc6"
   },
   "outputs": [
    {
     "data": {
      "text/plain": [
       "SUBJECT_ID            43322\n",
       "HADM_ID               43322\n",
       "ADMITTIME             43322\n",
       "DISCHTIME             43322\n",
       "ADMISSION_TYPE        43322\n",
       "LEN_OF_STAY           43322\n",
       "Previous_DISCHTIME    10998\n",
       "Readmission           43322\n",
       "GENDER                43322\n",
       "DOB                   43322\n",
       "DOD                   20258\n",
       "EXPIRE_FLAG           43322\n",
       "AGE                   43322\n",
       "ICD9_CODE             43322\n",
       "dtype: int64"
      ]
     },
     "execution_count": 26,
     "metadata": {},
     "output_type": "execute_result"
    }
   ],
   "source": [
    "# Step 1: Prepare the diagnosis DataFrame\n",
    "# Convert ICD9_CODE to string and replace NaNs with an empty string\n",
    "diagnosis['ICD9_CODE'] = diagnosis['ICD9_CODE'].fillna('').astype(str)\n",
    "\n",
    "# Group by SUBJECT_ID and HADM_ID, then concatenate the ICD9_CODEs\n",
    "diagnosis_aggregated = diagnosis.groupby(['SUBJECT_ID', 'HADM_ID'])['ICD9_CODE'].agg('|'.join).reset_index()\n",
    "\n",
    "# Rename columns to match the output specification\n",
    "diagnosis_aggregated.columns = ['SUBJECT_ID', 'HADM_ID', 'ICD9_CODE']\n",
    "\n",
    "# Step 2: Merge the aggregated diagnosis DataFrame with the admissions DataFrame\n",
    "# Perform an inner join on SUBJECT_ID and HADM_ID\n",
    "diagnosis_aggregated_df = pd.merge(admissions, diagnosis_aggregated, on=['SUBJECT_ID', 'HADM_ID'], how='inner')\n",
    "diagnosis_aggregated_df.count()"
   ]
  },
  {
   "cell_type": "code",
   "execution_count": 27,
   "id": "079cbac8",
   "metadata": {
    "colab": {
     "base_uri": "https://localhost:8080/",
     "height": 326
    },
    "id": "079cbac8",
    "outputId": "5d7cc3d7-660e-4a6f-e3c6-749b831465f6"
   },
   "outputs": [
    {
     "data": {
      "text/html": [
       "<div>\n",
       "<style scoped>\n",
       "    .dataframe tbody tr th:only-of-type {\n",
       "        vertical-align: middle;\n",
       "    }\n",
       "\n",
       "    .dataframe tbody tr th {\n",
       "        vertical-align: top;\n",
       "    }\n",
       "\n",
       "    .dataframe thead th {\n",
       "        text-align: right;\n",
       "    }\n",
       "</style>\n",
       "<table border=\"1\" class=\"dataframe\">\n",
       "  <thead>\n",
       "    <tr style=\"text-align: right;\">\n",
       "      <th></th>\n",
       "      <th>SUBJECT_ID</th>\n",
       "      <th>HADM_ID</th>\n",
       "      <th>ADMITTIME</th>\n",
       "      <th>DISCHTIME</th>\n",
       "      <th>ADMISSION_TYPE</th>\n",
       "      <th>LEN_OF_STAY</th>\n",
       "      <th>Previous_DISCHTIME</th>\n",
       "      <th>Readmission</th>\n",
       "      <th>GENDER</th>\n",
       "      <th>DOB</th>\n",
       "      <th>DOD</th>\n",
       "      <th>EXPIRE_FLAG</th>\n",
       "      <th>AGE</th>\n",
       "      <th>ICD9_CODE</th>\n",
       "    </tr>\n",
       "  </thead>\n",
       "  <tbody>\n",
       "    <tr>\n",
       "      <th>0</th>\n",
       "      <td>3</td>\n",
       "      <td>145834</td>\n",
       "      <td>2101-10-20 19:08:00</td>\n",
       "      <td>2101-10-31 13:58:00</td>\n",
       "      <td>EMERGENCY</td>\n",
       "      <td>10</td>\n",
       "      <td>NaT</td>\n",
       "      <td>False</td>\n",
       "      <td>M</td>\n",
       "      <td>2025-04-11</td>\n",
       "      <td>2102-06-14 00:00:00</td>\n",
       "      <td>1</td>\n",
       "      <td>76</td>\n",
       "      <td>0389|78559|5849|4275|41071|4280|6826|4254|2639</td>\n",
       "    </tr>\n",
       "    <tr>\n",
       "      <th>1</th>\n",
       "      <td>4</td>\n",
       "      <td>185777</td>\n",
       "      <td>2191-03-16 00:28:00</td>\n",
       "      <td>2191-03-23 18:41:00</td>\n",
       "      <td>EMERGENCY</td>\n",
       "      <td>7</td>\n",
       "      <td>NaT</td>\n",
       "      <td>False</td>\n",
       "      <td>F</td>\n",
       "      <td>2143-05-12</td>\n",
       "      <td>NaN</td>\n",
       "      <td>0</td>\n",
       "      <td>47</td>\n",
       "      <td>042|1363|7994|2763|7907|5715|04111|V090|E9317</td>\n",
       "    </tr>\n",
       "    <tr>\n",
       "      <th>2</th>\n",
       "      <td>9</td>\n",
       "      <td>150750</td>\n",
       "      <td>2149-11-09 13:06:00</td>\n",
       "      <td>2149-11-14 10:15:00</td>\n",
       "      <td>EMERGENCY</td>\n",
       "      <td>4</td>\n",
       "      <td>NaT</td>\n",
       "      <td>False</td>\n",
       "      <td>M</td>\n",
       "      <td>2108-01-26</td>\n",
       "      <td>2149-11-14 00:00:00</td>\n",
       "      <td>1</td>\n",
       "      <td>41</td>\n",
       "      <td>431|5070|4280|5849|2765|4019</td>\n",
       "    </tr>\n",
       "    <tr>\n",
       "      <th>3</th>\n",
       "      <td>11</td>\n",
       "      <td>194540</td>\n",
       "      <td>2178-04-16 06:18:00</td>\n",
       "      <td>2178-05-11 19:00:00</td>\n",
       "      <td>EMERGENCY</td>\n",
       "      <td>25</td>\n",
       "      <td>NaT</td>\n",
       "      <td>False</td>\n",
       "      <td>F</td>\n",
       "      <td>2128-02-22</td>\n",
       "      <td>2178-11-14 00:00:00</td>\n",
       "      <td>1</td>\n",
       "      <td>50</td>\n",
       "      <td>1913</td>\n",
       "    </tr>\n",
       "    <tr>\n",
       "      <th>4</th>\n",
       "      <td>13</td>\n",
       "      <td>143045</td>\n",
       "      <td>2167-01-08 18:43:00</td>\n",
       "      <td>2167-01-15 15:15:00</td>\n",
       "      <td>EMERGENCY</td>\n",
       "      <td>6</td>\n",
       "      <td>NaT</td>\n",
       "      <td>False</td>\n",
       "      <td>F</td>\n",
       "      <td>2127-02-27</td>\n",
       "      <td>NaN</td>\n",
       "      <td>0</td>\n",
       "      <td>39</td>\n",
       "      <td>41401|4111|25000|4019|2720</td>\n",
       "    </tr>\n",
       "  </tbody>\n",
       "</table>\n",
       "</div>"
      ],
      "text/plain": [
       "   SUBJECT_ID  HADM_ID           ADMITTIME           DISCHTIME ADMISSION_TYPE  \\\n",
       "0           3   145834 2101-10-20 19:08:00 2101-10-31 13:58:00      EMERGENCY   \n",
       "1           4   185777 2191-03-16 00:28:00 2191-03-23 18:41:00      EMERGENCY   \n",
       "2           9   150750 2149-11-09 13:06:00 2149-11-14 10:15:00      EMERGENCY   \n",
       "3          11   194540 2178-04-16 06:18:00 2178-05-11 19:00:00      EMERGENCY   \n",
       "4          13   143045 2167-01-08 18:43:00 2167-01-15 15:15:00      EMERGENCY   \n",
       "\n",
       "   LEN_OF_STAY Previous_DISCHTIME  Readmission GENDER        DOB  \\\n",
       "0           10                NaT        False      M 2025-04-11   \n",
       "1            7                NaT        False      F 2143-05-12   \n",
       "2            4                NaT        False      M 2108-01-26   \n",
       "3           25                NaT        False      F 2128-02-22   \n",
       "4            6                NaT        False      F 2127-02-27   \n",
       "\n",
       "                   DOD  EXPIRE_FLAG  AGE  \\\n",
       "0  2102-06-14 00:00:00            1   76   \n",
       "1                  NaN            0   47   \n",
       "2  2149-11-14 00:00:00            1   41   \n",
       "3  2178-11-14 00:00:00            1   50   \n",
       "4                  NaN            0   39   \n",
       "\n",
       "                                        ICD9_CODE  \n",
       "0  0389|78559|5849|4275|41071|4280|6826|4254|2639  \n",
       "1   042|1363|7994|2763|7907|5715|04111|V090|E9317  \n",
       "2                    431|5070|4280|5849|2765|4019  \n",
       "3                                            1913  \n",
       "4                      41401|4111|25000|4019|2720  "
      ]
     },
     "execution_count": 27,
     "metadata": {},
     "output_type": "execute_result"
    }
   ],
   "source": [
    "diagnosis_aggregated_df.head()"
   ]
  },
  {
   "cell_type": "markdown",
   "id": "997c3e79",
   "metadata": {
    "id": "997c3e79",
    "scrolled": false
   },
   "source": [
    "# Procedures data frame cleanup and merge the procedure codes for each patient"
   ]
  },
  {
   "cell_type": "code",
   "execution_count": 28,
   "id": "59960e28",
   "metadata": {
    "colab": {
     "base_uri": "https://localhost:8080/",
     "height": 238
    },
    "id": "59960e28",
    "outputId": "90f00c15-3466-44e4-c39d-b01a4c9cb029"
   },
   "outputs": [
    {
     "data": {
      "text/plain": [
       "ROW_ID        240095\n",
       "SUBJECT_ID    240095\n",
       "HADM_ID       240095\n",
       "SEQ_NUM       240095\n",
       "ICD9_CODE     240095\n",
       "dtype: int64"
      ]
     },
     "execution_count": 28,
     "metadata": {},
     "output_type": "execute_result"
    }
   ],
   "source": [
    "proc.count()"
   ]
  },
  {
   "cell_type": "code",
   "execution_count": 29,
   "id": "5c1f96c3",
   "metadata": {
    "id": "5c1f96c3"
   },
   "outputs": [],
   "source": [
    "proc = proc.rename(columns={'ICD9_CODE': 'PROC_ICD9_CODE'})"
   ]
  },
  {
   "cell_type": "code",
   "execution_count": 30,
   "id": "51b67868",
   "metadata": {
    "colab": {
     "base_uri": "https://localhost:8080/",
     "height": 548
    },
    "id": "51b67868",
    "outputId": "bd3c26c7-afff-46bf-bed4-049144abbc62"
   },
   "outputs": [
    {
     "data": {
      "text/plain": [
       "SUBJECT_ID            37240\n",
       "HADM_ID               37240\n",
       "ADMITTIME             37240\n",
       "DISCHTIME             37240\n",
       "ADMISSION_TYPE        37240\n",
       "LEN_OF_STAY           37240\n",
       "Previous_DISCHTIME     9213\n",
       "Readmission           37240\n",
       "GENDER                37240\n",
       "DOB                   37240\n",
       "DOD                   17883\n",
       "EXPIRE_FLAG           37240\n",
       "AGE                   37240\n",
       "ICD9_CODE             37240\n",
       "PROC_ICD9_CODE        37240\n",
       "dtype: int64"
      ]
     },
     "execution_count": 30,
     "metadata": {},
     "output_type": "execute_result"
    }
   ],
   "source": [
    "# Step 1: Prepare the diagnosis DataFrame\n",
    "# Convert ICD9_CODE to string and replace NaNs with an empty string\n",
    "proc['PROC_ICD9_CODE'] = proc['PROC_ICD9_CODE'].fillna('').astype(str)\n",
    "\n",
    "# Group by SUBJECT_ID and HADM_ID, then concatenate the ICD9_CODEs\n",
    "proc_aggregated = proc.groupby(['SUBJECT_ID', 'HADM_ID'])['PROC_ICD9_CODE'].agg('|'.join).reset_index()\n",
    "\n",
    "# Rename columns to match the output specification\n",
    "proc_aggregated.columns = ['SUBJECT_ID', 'HADM_ID', 'PROC_ICD9_CODE']\n",
    "\n",
    "# Step 2: Merge the aggregated diagnosis DataFrame with the admissions DataFrame\n",
    "# Perform an inner join on SUBJECT_ID and HADM_ID\n",
    "proc_aggregated_df = pd.merge(diagnosis_aggregated_df,proc_aggregated, on=['SUBJECT_ID', 'HADM_ID'], how='inner')\n",
    "proc_aggregated_df.count()"
   ]
  },
  {
   "cell_type": "code",
   "execution_count": 31,
   "id": "8d39c633",
   "metadata": {
    "colab": {
     "base_uri": "https://localhost:8080/",
     "height": 548
    },
    "id": "8d39c633",
    "outputId": "c8bf972a-6053-421e-d87f-0016d9a87e98"
   },
   "outputs": [
    {
     "data": {
      "text/plain": [
       "SUBJECT_ID            37240\n",
       "HADM_ID               37240\n",
       "ADMITTIME             37240\n",
       "DISCHTIME             37240\n",
       "ADMISSION_TYPE        37240\n",
       "LEN_OF_STAY           37240\n",
       "Previous_DISCHTIME     9213\n",
       "Readmission           37240\n",
       "GENDER                37240\n",
       "DOB                   37240\n",
       "DOD                   17883\n",
       "EXPIRE_FLAG           37240\n",
       "AGE                   37240\n",
       "ICD9_CODE             37240\n",
       "PROC_ICD9_CODE        37240\n",
       "dtype: int64"
      ]
     },
     "execution_count": 31,
     "metadata": {},
     "output_type": "execute_result"
    }
   ],
   "source": [
    "## proc_aggregated_df = proc_aggregated_df.rename(columns={'ICD9_CODE_x': 'ICD9_CODE'})\n",
    "## proc_aggregated_df = proc_aggregated_df.drop(columns=['ICD9_CODE_y'])\n",
    "proc_aggregated_df.count()"
   ]
  },
  {
   "cell_type": "code",
   "execution_count": 32,
   "id": "e81d0f80",
   "metadata": {
    "colab": {
     "base_uri": "https://localhost:8080/",
     "height": 326
    },
    "id": "e81d0f80",
    "outputId": "029f10ff-8bdd-4d00-a859-9a57a1697a6c"
   },
   "outputs": [
    {
     "data": {
      "text/html": [
       "<div>\n",
       "<style scoped>\n",
       "    .dataframe tbody tr th:only-of-type {\n",
       "        vertical-align: middle;\n",
       "    }\n",
       "\n",
       "    .dataframe tbody tr th {\n",
       "        vertical-align: top;\n",
       "    }\n",
       "\n",
       "    .dataframe thead th {\n",
       "        text-align: right;\n",
       "    }\n",
       "</style>\n",
       "<table border=\"1\" class=\"dataframe\">\n",
       "  <thead>\n",
       "    <tr style=\"text-align: right;\">\n",
       "      <th></th>\n",
       "      <th>SUBJECT_ID</th>\n",
       "      <th>HADM_ID</th>\n",
       "      <th>ADMITTIME</th>\n",
       "      <th>DISCHTIME</th>\n",
       "      <th>ADMISSION_TYPE</th>\n",
       "      <th>LEN_OF_STAY</th>\n",
       "      <th>Previous_DISCHTIME</th>\n",
       "      <th>Readmission</th>\n",
       "      <th>GENDER</th>\n",
       "      <th>DOB</th>\n",
       "      <th>DOD</th>\n",
       "      <th>EXPIRE_FLAG</th>\n",
       "      <th>AGE</th>\n",
       "      <th>ICD9_CODE</th>\n",
       "      <th>PROC_ICD9_CODE</th>\n",
       "    </tr>\n",
       "  </thead>\n",
       "  <tbody>\n",
       "    <tr>\n",
       "      <th>0</th>\n",
       "      <td>3</td>\n",
       "      <td>145834</td>\n",
       "      <td>2101-10-20 19:08:00</td>\n",
       "      <td>2101-10-31 13:58:00</td>\n",
       "      <td>EMERGENCY</td>\n",
       "      <td>10</td>\n",
       "      <td>NaT</td>\n",
       "      <td>False</td>\n",
       "      <td>M</td>\n",
       "      <td>2025-04-11</td>\n",
       "      <td>2102-06-14 00:00:00</td>\n",
       "      <td>1</td>\n",
       "      <td>76</td>\n",
       "      <td>0389|78559|5849|4275|41071|4280|6826|4254|2639</td>\n",
       "      <td>9604|9962|8964|9672|3893|966</td>\n",
       "    </tr>\n",
       "    <tr>\n",
       "      <th>1</th>\n",
       "      <td>4</td>\n",
       "      <td>185777</td>\n",
       "      <td>2191-03-16 00:28:00</td>\n",
       "      <td>2191-03-23 18:41:00</td>\n",
       "      <td>EMERGENCY</td>\n",
       "      <td>7</td>\n",
       "      <td>NaT</td>\n",
       "      <td>False</td>\n",
       "      <td>F</td>\n",
       "      <td>2143-05-12</td>\n",
       "      <td>NaN</td>\n",
       "      <td>0</td>\n",
       "      <td>47</td>\n",
       "      <td>042|1363|7994|2763|7907|5715|04111|V090|E9317</td>\n",
       "      <td>3893|8872|3323</td>\n",
       "    </tr>\n",
       "    <tr>\n",
       "      <th>2</th>\n",
       "      <td>9</td>\n",
       "      <td>150750</td>\n",
       "      <td>2149-11-09 13:06:00</td>\n",
       "      <td>2149-11-14 10:15:00</td>\n",
       "      <td>EMERGENCY</td>\n",
       "      <td>4</td>\n",
       "      <td>NaT</td>\n",
       "      <td>False</td>\n",
       "      <td>M</td>\n",
       "      <td>2108-01-26</td>\n",
       "      <td>2149-11-14 00:00:00</td>\n",
       "      <td>1</td>\n",
       "      <td>41</td>\n",
       "      <td>431|5070|4280|5849|2765|4019</td>\n",
       "      <td>9672|9604</td>\n",
       "    </tr>\n",
       "    <tr>\n",
       "      <th>3</th>\n",
       "      <td>11</td>\n",
       "      <td>194540</td>\n",
       "      <td>2178-04-16 06:18:00</td>\n",
       "      <td>2178-05-11 19:00:00</td>\n",
       "      <td>EMERGENCY</td>\n",
       "      <td>25</td>\n",
       "      <td>NaT</td>\n",
       "      <td>False</td>\n",
       "      <td>F</td>\n",
       "      <td>2128-02-22</td>\n",
       "      <td>2178-11-14 00:00:00</td>\n",
       "      <td>1</td>\n",
       "      <td>50</td>\n",
       "      <td>1913</td>\n",
       "      <td>159|113|113|9229|9925</td>\n",
       "    </tr>\n",
       "    <tr>\n",
       "      <th>4</th>\n",
       "      <td>13</td>\n",
       "      <td>143045</td>\n",
       "      <td>2167-01-08 18:43:00</td>\n",
       "      <td>2167-01-15 15:15:00</td>\n",
       "      <td>EMERGENCY</td>\n",
       "      <td>6</td>\n",
       "      <td>NaT</td>\n",
       "      <td>False</td>\n",
       "      <td>F</td>\n",
       "      <td>2127-02-27</td>\n",
       "      <td>NaN</td>\n",
       "      <td>0</td>\n",
       "      <td>39</td>\n",
       "      <td>41401|4111|25000|4019|2720</td>\n",
       "      <td>3612|3615|3961|3761|8872</td>\n",
       "    </tr>\n",
       "  </tbody>\n",
       "</table>\n",
       "</div>"
      ],
      "text/plain": [
       "   SUBJECT_ID  HADM_ID           ADMITTIME           DISCHTIME ADMISSION_TYPE  \\\n",
       "0           3   145834 2101-10-20 19:08:00 2101-10-31 13:58:00      EMERGENCY   \n",
       "1           4   185777 2191-03-16 00:28:00 2191-03-23 18:41:00      EMERGENCY   \n",
       "2           9   150750 2149-11-09 13:06:00 2149-11-14 10:15:00      EMERGENCY   \n",
       "3          11   194540 2178-04-16 06:18:00 2178-05-11 19:00:00      EMERGENCY   \n",
       "4          13   143045 2167-01-08 18:43:00 2167-01-15 15:15:00      EMERGENCY   \n",
       "\n",
       "   LEN_OF_STAY Previous_DISCHTIME  Readmission GENDER        DOB  \\\n",
       "0           10                NaT        False      M 2025-04-11   \n",
       "1            7                NaT        False      F 2143-05-12   \n",
       "2            4                NaT        False      M 2108-01-26   \n",
       "3           25                NaT        False      F 2128-02-22   \n",
       "4            6                NaT        False      F 2127-02-27   \n",
       "\n",
       "                   DOD  EXPIRE_FLAG  AGE  \\\n",
       "0  2102-06-14 00:00:00            1   76   \n",
       "1                  NaN            0   47   \n",
       "2  2149-11-14 00:00:00            1   41   \n",
       "3  2178-11-14 00:00:00            1   50   \n",
       "4                  NaN            0   39   \n",
       "\n",
       "                                        ICD9_CODE  \\\n",
       "0  0389|78559|5849|4275|41071|4280|6826|4254|2639   \n",
       "1   042|1363|7994|2763|7907|5715|04111|V090|E9317   \n",
       "2                    431|5070|4280|5849|2765|4019   \n",
       "3                                            1913   \n",
       "4                      41401|4111|25000|4019|2720   \n",
       "\n",
       "                 PROC_ICD9_CODE  \n",
       "0  9604|9962|8964|9672|3893|966  \n",
       "1                3893|8872|3323  \n",
       "2                     9672|9604  \n",
       "3         159|113|113|9229|9925  \n",
       "4      3612|3615|3961|3761|8872  "
      ]
     },
     "execution_count": 32,
     "metadata": {},
     "output_type": "execute_result"
    }
   ],
   "source": [
    "proc_aggregated_df.head()"
   ]
  },
  {
   "cell_type": "code",
   "execution_count": 33,
   "id": "f8457e34",
   "metadata": {
    "colab": {
     "base_uri": "https://localhost:8080/"
    },
    "id": "f8457e34",
    "outputId": "921a7a00-e39e-47e4-b9db-33b81e3bf592"
   },
   "outputs": [
    {
     "name": "stdout",
     "output_type": "stream",
     "text": [
      "<DatetimeArray>\n",
      "['2134-12-31 16:05:00', '2134-09-24 16:15:00', '2153-09-08 19:10:00',\n",
      " '2186-07-20 16:00:00', '2131-05-08 14:00:00', '2118-07-20 12:30:00',\n",
      " '2155-03-06 15:00:00', '2174-01-03 18:30:00', '2196-02-04 17:48:00',\n",
      " '2162-03-10 13:15:00',\n",
      " ...\n",
      " '2147-12-01 16:45:00', '2152-06-13 15:00:00', '2155-01-09 13:32:00',\n",
      " '2191-08-07 16:19:00', '2125-09-18 13:15:00', '2197-05-31 18:00:00',\n",
      " '2197-06-25 17:00:00', '2201-03-03 16:00:00', '2156-12-08 13:45:00',\n",
      " '2157-01-12 13:00:00']\n",
      "Length: 9207, dtype: datetime64[ns]\n"
     ]
    }
   ],
   "source": [
    "unique_values = proc_aggregated_df['Previous_DISCHTIME'].dropna().unique()\n",
    "print(unique_values)"
   ]
  },
  {
   "cell_type": "markdown",
   "id": "2e4fa912",
   "metadata": {
    "id": "2e4fa912"
   },
   "source": [
    "# DRGCODES dataframe cleanup and merging the DRG codes"
   ]
  },
  {
   "cell_type": "code",
   "execution_count": 34,
   "id": "3c477a69",
   "metadata": {
    "colab": {
     "base_uri": "https://localhost:8080/",
     "height": 331
    },
    "id": "3c477a69",
    "outputId": "2bf3dda2-3ee9-4475-a30d-00277905b3c0",
    "scrolled": true
   },
   "outputs": [
    {
     "data": {
      "text/plain": [
       "ROW_ID           125557\n",
       "SUBJECT_ID       125557\n",
       "HADM_ID          125557\n",
       "DRG_TYPE         125557\n",
       "DRG_CODE         125557\n",
       "DESCRIPTION      125494\n",
       "DRG_SEVERITY      66634\n",
       "DRG_MORTALITY     66634\n",
       "dtype: int64"
      ]
     },
     "execution_count": 34,
     "metadata": {},
     "output_type": "execute_result"
    }
   ],
   "source": [
    "drug.count()"
   ]
  },
  {
   "cell_type": "code",
   "execution_count": 35,
   "id": "146226b2",
   "metadata": {
    "id": "146226b2"
   },
   "outputs": [],
   "source": [
    "drug = drug[['SUBJECT_ID', 'HADM_ID', 'DRG_CODE']]"
   ]
  },
  {
   "cell_type": "code",
   "execution_count": 36,
   "id": "984f6895",
   "metadata": {
    "colab": {
     "base_uri": "https://localhost:8080/",
     "height": 176
    },
    "id": "984f6895",
    "outputId": "2a950e55-69bd-4cf9-a42b-6a1ef3e41eb7"
   },
   "outputs": [
    {
     "data": {
      "text/plain": [
       "SUBJECT_ID    58890\n",
       "HADM_ID       58890\n",
       "DRG_CODE      58890\n",
       "dtype: int64"
      ]
     },
     "execution_count": 36,
     "metadata": {},
     "output_type": "execute_result"
    }
   ],
   "source": [
    "# Step 1: Prepare the diagnosis DataFrame\n",
    "# Convert ICD9_CODE to string and replace NaNs with an empty string\n",
    "drug['DRG_CODE'] = drug['DRG_CODE'].fillna('').astype(str)\n",
    "\n",
    "# Group by SUBJECT_ID and HADM_ID, then concatenate the ICD9_CODEs\n",
    "drug_aggregated = drug.groupby(['SUBJECT_ID', 'HADM_ID'])['DRG_CODE'].agg('|'.join).reset_index()\n",
    "drug_aggregated.count()"
   ]
  },
  {
   "cell_type": "code",
   "execution_count": 37,
   "id": "24f2f942",
   "metadata": {
    "colab": {
     "base_uri": "https://localhost:8080/",
     "height": 579
    },
    "id": "24f2f942",
    "outputId": "f681f666-aabb-4231-f22c-1d0729740c57"
   },
   "outputs": [
    {
     "data": {
      "text/plain": [
       "SUBJECT_ID            37228\n",
       "HADM_ID               37228\n",
       "ADMITTIME             37228\n",
       "DISCHTIME             37228\n",
       "ADMISSION_TYPE        37228\n",
       "LEN_OF_STAY           37228\n",
       "Previous_DISCHTIME     9210\n",
       "Readmission           37228\n",
       "GENDER                37228\n",
       "DOB                   37228\n",
       "DOD                   17876\n",
       "EXPIRE_FLAG           37228\n",
       "AGE                   37228\n",
       "ICD9_CODE             37228\n",
       "PROC_ICD9_CODE        37228\n",
       "DRG_CODE              37228\n",
       "dtype: int64"
      ]
     },
     "execution_count": 37,
     "metadata": {},
     "output_type": "execute_result"
    }
   ],
   "source": [
    "# Step 2: Merge the aggregated diagnosis DataFrame with the admissions DataFrame\n",
    "# Perform an inner join on SUBJECT_ID and HADM_ID\n",
    "drug_aggregated_df = pd.merge(proc_aggregated_df,drug_aggregated, on=['SUBJECT_ID', 'HADM_ID'], how='inner')\n",
    "drug_aggregated_df.count()"
   ]
  },
  {
   "cell_type": "code",
   "execution_count": 38,
   "id": "eefb6748",
   "metadata": {
    "colab": {
     "base_uri": "https://localhost:8080/",
     "height": 326
    },
    "id": "eefb6748",
    "outputId": "0c3548e8-7966-4370-a57d-362ea5475529"
   },
   "outputs": [
    {
     "data": {
      "text/html": [
       "<div>\n",
       "<style scoped>\n",
       "    .dataframe tbody tr th:only-of-type {\n",
       "        vertical-align: middle;\n",
       "    }\n",
       "\n",
       "    .dataframe tbody tr th {\n",
       "        vertical-align: top;\n",
       "    }\n",
       "\n",
       "    .dataframe thead th {\n",
       "        text-align: right;\n",
       "    }\n",
       "</style>\n",
       "<table border=\"1\" class=\"dataframe\">\n",
       "  <thead>\n",
       "    <tr style=\"text-align: right;\">\n",
       "      <th></th>\n",
       "      <th>SUBJECT_ID</th>\n",
       "      <th>HADM_ID</th>\n",
       "      <th>ADMITTIME</th>\n",
       "      <th>DISCHTIME</th>\n",
       "      <th>ADMISSION_TYPE</th>\n",
       "      <th>LEN_OF_STAY</th>\n",
       "      <th>Previous_DISCHTIME</th>\n",
       "      <th>Readmission</th>\n",
       "      <th>GENDER</th>\n",
       "      <th>DOB</th>\n",
       "      <th>DOD</th>\n",
       "      <th>EXPIRE_FLAG</th>\n",
       "      <th>AGE</th>\n",
       "      <th>ICD9_CODE</th>\n",
       "      <th>PROC_ICD9_CODE</th>\n",
       "      <th>DRG_CODE</th>\n",
       "    </tr>\n",
       "  </thead>\n",
       "  <tbody>\n",
       "    <tr>\n",
       "      <th>0</th>\n",
       "      <td>3</td>\n",
       "      <td>145834</td>\n",
       "      <td>2101-10-20 19:08:00</td>\n",
       "      <td>2101-10-31 13:58:00</td>\n",
       "      <td>EMERGENCY</td>\n",
       "      <td>10</td>\n",
       "      <td>NaT</td>\n",
       "      <td>False</td>\n",
       "      <td>M</td>\n",
       "      <td>2025-04-11</td>\n",
       "      <td>2102-06-14 00:00:00</td>\n",
       "      <td>1</td>\n",
       "      <td>76</td>\n",
       "      <td>0389|78559|5849|4275|41071|4280|6826|4254|2639</td>\n",
       "      <td>9604|9962|8964|9672|3893|966</td>\n",
       "      <td>416</td>\n",
       "    </tr>\n",
       "    <tr>\n",
       "      <th>1</th>\n",
       "      <td>4</td>\n",
       "      <td>185777</td>\n",
       "      <td>2191-03-16 00:28:00</td>\n",
       "      <td>2191-03-23 18:41:00</td>\n",
       "      <td>EMERGENCY</td>\n",
       "      <td>7</td>\n",
       "      <td>NaT</td>\n",
       "      <td>False</td>\n",
       "      <td>F</td>\n",
       "      <td>2143-05-12</td>\n",
       "      <td>NaN</td>\n",
       "      <td>0</td>\n",
       "      <td>47</td>\n",
       "      <td>042|1363|7994|2763|7907|5715|04111|V090|E9317</td>\n",
       "      <td>3893|8872|3323</td>\n",
       "      <td>489</td>\n",
       "    </tr>\n",
       "    <tr>\n",
       "      <th>2</th>\n",
       "      <td>9</td>\n",
       "      <td>150750</td>\n",
       "      <td>2149-11-09 13:06:00</td>\n",
       "      <td>2149-11-14 10:15:00</td>\n",
       "      <td>EMERGENCY</td>\n",
       "      <td>4</td>\n",
       "      <td>NaT</td>\n",
       "      <td>False</td>\n",
       "      <td>M</td>\n",
       "      <td>2108-01-26</td>\n",
       "      <td>2149-11-14 00:00:00</td>\n",
       "      <td>1</td>\n",
       "      <td>41</td>\n",
       "      <td>431|5070|4280|5849|2765|4019</td>\n",
       "      <td>9672|9604</td>\n",
       "      <td>14</td>\n",
       "    </tr>\n",
       "    <tr>\n",
       "      <th>3</th>\n",
       "      <td>11</td>\n",
       "      <td>194540</td>\n",
       "      <td>2178-04-16 06:18:00</td>\n",
       "      <td>2178-05-11 19:00:00</td>\n",
       "      <td>EMERGENCY</td>\n",
       "      <td>25</td>\n",
       "      <td>NaT</td>\n",
       "      <td>False</td>\n",
       "      <td>F</td>\n",
       "      <td>2128-02-22</td>\n",
       "      <td>2178-11-14 00:00:00</td>\n",
       "      <td>1</td>\n",
       "      <td>50</td>\n",
       "      <td>1913</td>\n",
       "      <td>159|113|113|9229|9925</td>\n",
       "      <td>211|2</td>\n",
       "    </tr>\n",
       "    <tr>\n",
       "      <th>4</th>\n",
       "      <td>13</td>\n",
       "      <td>143045</td>\n",
       "      <td>2167-01-08 18:43:00</td>\n",
       "      <td>2167-01-15 15:15:00</td>\n",
       "      <td>EMERGENCY</td>\n",
       "      <td>6</td>\n",
       "      <td>NaT</td>\n",
       "      <td>False</td>\n",
       "      <td>F</td>\n",
       "      <td>2127-02-27</td>\n",
       "      <td>NaN</td>\n",
       "      <td>0</td>\n",
       "      <td>39</td>\n",
       "      <td>41401|4111|25000|4019|2720</td>\n",
       "      <td>3612|3615|3961|3761|8872</td>\n",
       "      <td>109</td>\n",
       "    </tr>\n",
       "  </tbody>\n",
       "</table>\n",
       "</div>"
      ],
      "text/plain": [
       "   SUBJECT_ID  HADM_ID           ADMITTIME           DISCHTIME ADMISSION_TYPE  \\\n",
       "0           3   145834 2101-10-20 19:08:00 2101-10-31 13:58:00      EMERGENCY   \n",
       "1           4   185777 2191-03-16 00:28:00 2191-03-23 18:41:00      EMERGENCY   \n",
       "2           9   150750 2149-11-09 13:06:00 2149-11-14 10:15:00      EMERGENCY   \n",
       "3          11   194540 2178-04-16 06:18:00 2178-05-11 19:00:00      EMERGENCY   \n",
       "4          13   143045 2167-01-08 18:43:00 2167-01-15 15:15:00      EMERGENCY   \n",
       "\n",
       "   LEN_OF_STAY Previous_DISCHTIME  Readmission GENDER        DOB  \\\n",
       "0           10                NaT        False      M 2025-04-11   \n",
       "1            7                NaT        False      F 2143-05-12   \n",
       "2            4                NaT        False      M 2108-01-26   \n",
       "3           25                NaT        False      F 2128-02-22   \n",
       "4            6                NaT        False      F 2127-02-27   \n",
       "\n",
       "                   DOD  EXPIRE_FLAG  AGE  \\\n",
       "0  2102-06-14 00:00:00            1   76   \n",
       "1                  NaN            0   47   \n",
       "2  2149-11-14 00:00:00            1   41   \n",
       "3  2178-11-14 00:00:00            1   50   \n",
       "4                  NaN            0   39   \n",
       "\n",
       "                                        ICD9_CODE  \\\n",
       "0  0389|78559|5849|4275|41071|4280|6826|4254|2639   \n",
       "1   042|1363|7994|2763|7907|5715|04111|V090|E9317   \n",
       "2                    431|5070|4280|5849|2765|4019   \n",
       "3                                            1913   \n",
       "4                      41401|4111|25000|4019|2720   \n",
       "\n",
       "                 PROC_ICD9_CODE DRG_CODE  \n",
       "0  9604|9962|8964|9672|3893|966      416  \n",
       "1                3893|8872|3323      489  \n",
       "2                     9672|9604       14  \n",
       "3         159|113|113|9229|9925    211|2  \n",
       "4      3612|3615|3961|3761|8872      109  "
      ]
     },
     "execution_count": 38,
     "metadata": {},
     "output_type": "execute_result"
    }
   ],
   "source": [
    "drug_aggregated_df.head()"
   ]
  },
  {
   "cell_type": "code",
   "execution_count": 39,
   "id": "3be873d7",
   "metadata": {
    "colab": {
     "base_uri": "https://localhost:8080/",
     "height": 455
    },
    "id": "3be873d7",
    "outputId": "b78bdfc3-ff8d-40b5-93d1-194db9592a51"
   },
   "outputs": [
    {
     "data": {
      "text/plain": [
       "ROW_ID              573146\n",
       "SUBJECT_ID          573146\n",
       "HADM_ID             573146\n",
       "COSTCENTER          573146\n",
       "CHARTDATE           101545\n",
       "CPT_CD              573146\n",
       "CPT_NUMBER          573128\n",
       "CPT_SUFFIX              22\n",
       "TICKET_ID_SEQ       471601\n",
       "SECTIONHEADER       573125\n",
       "SUBSECTIONHEADER    573125\n",
       "DESCRIPTION         101545\n",
       "dtype: int64"
      ]
     },
     "execution_count": 39,
     "metadata": {},
     "output_type": "execute_result"
    }
   ],
   "source": [
    "cptevents_df.count()"
   ]
  },
  {
   "cell_type": "code",
   "execution_count": 40,
   "id": "4fbbfee6",
   "metadata": {
    "colab": {
     "base_uri": "https://localhost:8080/",
     "height": 610
    },
    "id": "4fbbfee6",
    "outputId": "6ce40c9e-db2a-475c-d6a3-b80d95b65709"
   },
   "outputs": [
    {
     "data": {
      "text/plain": [
       "SUBJECT_ID            32983\n",
       "HADM_ID               32983\n",
       "ADMITTIME             32983\n",
       "DISCHTIME             32983\n",
       "ADMISSION_TYPE        32983\n",
       "LEN_OF_STAY           32983\n",
       "Previous_DISCHTIME     8492\n",
       "Readmission           32983\n",
       "GENDER                32983\n",
       "DOB                   32983\n",
       "DOD                   15852\n",
       "EXPIRE_FLAG           32983\n",
       "AGE                   32983\n",
       "ICD9_CODE             32983\n",
       "PROC_ICD9_CODE        32983\n",
       "DRG_CODE              32983\n",
       "CPT_CD                32983\n",
       "dtype: int64"
      ]
     },
     "execution_count": 40,
     "metadata": {},
     "output_type": "execute_result"
    }
   ],
   "source": [
    "# Step 1: Prepare the diagnosis DataFrame\n",
    "# Convert ICD9_CODE to string and replace NaNs with an empty string\n",
    "cptevents_df['CPT_CD'] = cptevents_df['CPT_CD'].fillna('').astype(str)\n",
    "\n",
    "# Group by SUBJECT_ID and HADM_ID, then concatenate the ICD9_CODEs\n",
    "cptevents_df_aggregated = cptevents_df.groupby(['SUBJECT_ID', 'HADM_ID'])['CPT_CD'].agg('|'.join).reset_index()\n",
    "\n",
    "# Rename columns to match the output specification\n",
    "cptevents_df_aggregated.columns = ['SUBJECT_ID', 'HADM_ID', 'CPT_CD']\n",
    "\n",
    "# Step 2: Merge the aggregated diagnosis DataFrame with the admissions DataFrame\n",
    "# Perform an inner join on SUBJECT_ID and HADM_ID\n",
    "cptevents_df_aggregated_df = pd.merge(drug_aggregated_df,cptevents_df_aggregated, on=['SUBJECT_ID', 'HADM_ID'], how='inner')\n",
    "cptevents_df_aggregated_df.count()"
   ]
  },
  {
   "cell_type": "code",
   "execution_count": 41,
   "id": "72ec3eae",
   "metadata": {
    "colab": {
     "base_uri": "https://localhost:8080/",
     "height": 455
    },
    "id": "72ec3eae",
    "outputId": "00cb0c7a-9020-472e-bfd3-49b4ed0cf6ba"
   },
   "outputs": [
    {
     "data": {
      "text/plain": [
       "ROW_ID            61532\n",
       "SUBJECT_ID        61532\n",
       "HADM_ID           61532\n",
       "ICUSTAY_ID        61532\n",
       "DBSOURCE          61532\n",
       "FIRST_CAREUNIT    61532\n",
       "LAST_CAREUNIT     61532\n",
       "FIRST_WARDID      61532\n",
       "LAST_WARDID       61532\n",
       "INTIME            61532\n",
       "OUTTIME           61522\n",
       "LOS               61522\n",
       "dtype: int64"
      ]
     },
     "execution_count": 41,
     "metadata": {},
     "output_type": "execute_result"
    }
   ],
   "source": [
    "icustay_df.count()"
   ]
  },
  {
   "cell_type": "markdown",
   "id": "86ec158a",
   "metadata": {
    "id": "86ec158a"
   },
   "source": [
    "# \"Past 6 Months Hospital Admission\" and \"Past 6 Months ED Admission\""
   ]
  },
  {
   "cell_type": "code",
   "execution_count": 42,
   "id": "c7cb7acb",
   "metadata": {
    "colab": {
     "base_uri": "https://localhost:8080/"
    },
    "id": "c7cb7acb",
    "outputId": "f1e9ccf8-2583-48dd-814f-36a650d59762"
   },
   "outputs": [
    {
     "name": "stderr",
     "output_type": "stream",
     "text": [
      "C:\\Users\\SnehalChoudhari-I\\AppData\\Local\\Temp\\ipykernel_45280\\37202884.py:18: DeprecationWarning: DataFrameGroupBy.apply operated on the grouping columns. This behavior is deprecated, and in a future version of pandas the grouping columns will be excluded from the operation. Either pass `include_groups=False` to exclude the groupings or explicitly select the grouping columns after groupby to silence this warning.\n",
      "  admissions_data['Past_6_Months_Hospital_Admission'] = admissions_data.groupby('SUBJECT_ID').apply(\n"
     ]
    },
    {
     "name": "stdout",
     "output_type": "stream",
     "text": [
      "   ROW_ID  SUBJECT_ID  HADM_ID           ADMITTIME           DISCHTIME  \\\n",
      "0       1           2   163353 2138-07-17 19:04:00 2138-07-21 15:48:00   \n",
      "1       2           3   145834 2101-10-20 19:08:00 2101-10-31 13:58:00   \n",
      "2       3           4   185777 2191-03-16 00:28:00 2191-03-23 18:41:00   \n",
      "3       4           5   178980 2103-02-02 04:31:00 2103-02-04 12:15:00   \n",
      "4       5           6   107064 2175-05-30 07:15:00 2175-06-15 16:00:00   \n",
      "\n",
      "  DEATHTIME ADMISSION_TYPE         ADMISSION_LOCATION  \\\n",
      "0       NaN        NEWBORN  PHYS REFERRAL/NORMAL DELI   \n",
      "1       NaN      EMERGENCY       EMERGENCY ROOM ADMIT   \n",
      "2       NaN      EMERGENCY       EMERGENCY ROOM ADMIT   \n",
      "3       NaN        NEWBORN  PHYS REFERRAL/NORMAL DELI   \n",
      "4       NaN       ELECTIVE  PHYS REFERRAL/NORMAL DELI   \n",
      "\n",
      "          DISCHARGE_LOCATION INSURANCE  ...           RELIGION MARITAL_STATUS  \\\n",
      "0                       HOME   Private  ...      NOT SPECIFIED            NaN   \n",
      "1                        SNF  Medicare  ...           CATHOLIC        MARRIED   \n",
      "2  HOME WITH HOME IV PROVIDR   Private  ...  PROTESTANT QUAKER         SINGLE   \n",
      "3                       HOME   Private  ...           BUDDHIST            NaN   \n",
      "4           HOME HEALTH CARE  Medicare  ...      NOT SPECIFIED        MARRIED   \n",
      "\n",
      "  ETHNICITY         EDREGTIME         EDOUTTIME  \\\n",
      "0     ASIAN               NaN               NaN   \n",
      "1     WHITE  10/20/2101 17:09  10/20/2101 19:24   \n",
      "2     WHITE   3/15/2191 13:10    3/16/2191 1:10   \n",
      "3     ASIAN               NaN               NaN   \n",
      "4     WHITE               NaN               NaN   \n",
      "\n",
      "                             DIAGNOSIS HOSPITAL_EXPIRE_FLAG  \\\n",
      "0                              NEWBORN                    0   \n",
      "1                          HYPOTENSION                    0   \n",
      "2  FEVER,DEHYDRATION,FAILURE TO THRIVE                    0   \n",
      "3                              NEWBORN                    0   \n",
      "4            CHRONIC RENAL FAILURE/SDA                    0   \n",
      "\n",
      "   HAS_CHARTEVENTS_DATA  Past_6_Months_Hospital_Admission  \\\n",
      "0                     1                                 0   \n",
      "1                     1                                 0   \n",
      "2                     1                                 0   \n",
      "3                     1                                 0   \n",
      "4                     1                                 0   \n",
      "\n",
      "   Past_6_Months_ED_Admission  \n",
      "0                           0  \n",
      "1                           0  \n",
      "2                           0  \n",
      "3                           0  \n",
      "4                           0  \n",
      "\n",
      "[5 rows x 21 columns]\n"
     ]
    },
    {
     "name": "stderr",
     "output_type": "stream",
     "text": [
      "C:\\Users\\SnehalChoudhari-I\\AppData\\Local\\Temp\\ipykernel_45280\\37202884.py:26: DeprecationWarning: DataFrameGroupBy.apply operated on the grouping columns. This behavior is deprecated, and in a future version of pandas the grouping columns will be excluded from the operation. Either pass `include_groups=False` to exclude the groupings or explicitly select the grouping columns after groupby to silence this warning.\n",
      "  admissions_data['Past_6_Months_ED_Admission'] = admissions_data.groupby('SUBJECT_ID').apply(\n"
     ]
    }
   ],
   "source": [
    "import pandas as pd\n",
    "\n",
    "# Path to your ADMISSIONS.csv file\n",
    "file_path = 'ADMISSIONS.csv'\n",
    "\n",
    "# Load the dataset\n",
    "admissions_data = pd.read_csv(file_path)\n",
    "\n",
    "\n",
    "# Convert ADMITTIME and DISCHTIME to datetime if not already done\n",
    "admissions_data['ADMITTIME'] = pd.to_datetime(admissions_data['ADMITTIME'], errors='coerce')\n",
    "admissions_data['DISCHTIME'] = pd.to_datetime(admissions_data['DISCHTIME'], errors='coerce')\n",
    "\n",
    "# Sort data by patient ID and admission time to ensure sequential ordering\n",
    "admissions_data = admissions_data.sort_values(by=['SUBJECT_ID', 'ADMITTIME'])\n",
    "\n",
    "# Calculate \"Past 6 Months Hospital Admission\" variable\n",
    "admissions_data['Past_6_Months_Hospital_Admission'] = admissions_data.groupby('SUBJECT_ID').apply(\n",
    "    lambda group: group['ADMITTIME'].apply(\n",
    "        lambda x: ((group['DISCHTIME'] < x) &\n",
    "                   (group['DISCHTIME'] >= x - pd.Timedelta(days=180))).sum()\n",
    "    )\n",
    ").reset_index(level=0, drop=True)\n",
    "\n",
    "# Calculate \"Past 6 Months ED Admission\" variable\n",
    "admissions_data['Past_6_Months_ED_Admission'] = admissions_data.groupby('SUBJECT_ID').apply(\n",
    "    lambda group: group['ADMITTIME'].apply(\n",
    "        lambda x: ((group['ADMISSION_TYPE'] == 'EMERGENCY') &\n",
    "                   (group['DISCHTIME'] < x) &\n",
    "                   (group['DISCHTIME'] >= x - pd.Timedelta(days=180))).sum()\n",
    "    )\n",
    ").reset_index(level=0, drop=True)\n",
    "\n",
    "# Display the first few rows to confirm\n",
    "print(admissions_data.head())\n"
   ]
  },
  {
   "cell_type": "code",
   "execution_count": 43,
   "id": "7ed46e16",
   "metadata": {
    "colab": {
     "base_uri": "https://localhost:8080/",
     "height": 389
    },
    "id": "7ed46e16",
    "outputId": "95edd385-e31f-4bb8-a9d1-0b55dadb7fe6"
   },
   "outputs": [
    {
     "data": {
      "text/html": [
       "<div>\n",
       "<style scoped>\n",
       "    .dataframe tbody tr th:only-of-type {\n",
       "        vertical-align: middle;\n",
       "    }\n",
       "\n",
       "    .dataframe tbody tr th {\n",
       "        vertical-align: top;\n",
       "    }\n",
       "\n",
       "    .dataframe thead th {\n",
       "        text-align: right;\n",
       "    }\n",
       "</style>\n",
       "<table border=\"1\" class=\"dataframe\">\n",
       "  <thead>\n",
       "    <tr style=\"text-align: right;\">\n",
       "      <th></th>\n",
       "      <th>ROW_ID</th>\n",
       "      <th>SUBJECT_ID</th>\n",
       "      <th>HADM_ID</th>\n",
       "      <th>ADMITTIME</th>\n",
       "      <th>DISCHTIME</th>\n",
       "      <th>DEATHTIME</th>\n",
       "      <th>ADMISSION_TYPE</th>\n",
       "      <th>ADMISSION_LOCATION</th>\n",
       "      <th>DISCHARGE_LOCATION</th>\n",
       "      <th>INSURANCE</th>\n",
       "      <th>...</th>\n",
       "      <th>RELIGION</th>\n",
       "      <th>MARITAL_STATUS</th>\n",
       "      <th>ETHNICITY</th>\n",
       "      <th>EDREGTIME</th>\n",
       "      <th>EDOUTTIME</th>\n",
       "      <th>DIAGNOSIS</th>\n",
       "      <th>HOSPITAL_EXPIRE_FLAG</th>\n",
       "      <th>HAS_CHARTEVENTS_DATA</th>\n",
       "      <th>Past_6_Months_Hospital_Admission</th>\n",
       "      <th>Past_6_Months_ED_Admission</th>\n",
       "    </tr>\n",
       "  </thead>\n",
       "  <tbody>\n",
       "    <tr>\n",
       "      <th>0</th>\n",
       "      <td>1</td>\n",
       "      <td>2</td>\n",
       "      <td>163353</td>\n",
       "      <td>2138-07-17 19:04:00</td>\n",
       "      <td>2138-07-21 15:48:00</td>\n",
       "      <td>NaN</td>\n",
       "      <td>NEWBORN</td>\n",
       "      <td>PHYS REFERRAL/NORMAL DELI</td>\n",
       "      <td>HOME</td>\n",
       "      <td>Private</td>\n",
       "      <td>...</td>\n",
       "      <td>NOT SPECIFIED</td>\n",
       "      <td>NaN</td>\n",
       "      <td>ASIAN</td>\n",
       "      <td>NaN</td>\n",
       "      <td>NaN</td>\n",
       "      <td>NEWBORN</td>\n",
       "      <td>0</td>\n",
       "      <td>1</td>\n",
       "      <td>0</td>\n",
       "      <td>0</td>\n",
       "    </tr>\n",
       "    <tr>\n",
       "      <th>1</th>\n",
       "      <td>2</td>\n",
       "      <td>3</td>\n",
       "      <td>145834</td>\n",
       "      <td>2101-10-20 19:08:00</td>\n",
       "      <td>2101-10-31 13:58:00</td>\n",
       "      <td>NaN</td>\n",
       "      <td>EMERGENCY</td>\n",
       "      <td>EMERGENCY ROOM ADMIT</td>\n",
       "      <td>SNF</td>\n",
       "      <td>Medicare</td>\n",
       "      <td>...</td>\n",
       "      <td>CATHOLIC</td>\n",
       "      <td>MARRIED</td>\n",
       "      <td>WHITE</td>\n",
       "      <td>10/20/2101 17:09</td>\n",
       "      <td>10/20/2101 19:24</td>\n",
       "      <td>HYPOTENSION</td>\n",
       "      <td>0</td>\n",
       "      <td>1</td>\n",
       "      <td>0</td>\n",
       "      <td>0</td>\n",
       "    </tr>\n",
       "    <tr>\n",
       "      <th>2</th>\n",
       "      <td>3</td>\n",
       "      <td>4</td>\n",
       "      <td>185777</td>\n",
       "      <td>2191-03-16 00:28:00</td>\n",
       "      <td>2191-03-23 18:41:00</td>\n",
       "      <td>NaN</td>\n",
       "      <td>EMERGENCY</td>\n",
       "      <td>EMERGENCY ROOM ADMIT</td>\n",
       "      <td>HOME WITH HOME IV PROVIDR</td>\n",
       "      <td>Private</td>\n",
       "      <td>...</td>\n",
       "      <td>PROTESTANT QUAKER</td>\n",
       "      <td>SINGLE</td>\n",
       "      <td>WHITE</td>\n",
       "      <td>3/15/2191 13:10</td>\n",
       "      <td>3/16/2191 1:10</td>\n",
       "      <td>FEVER,DEHYDRATION,FAILURE TO THRIVE</td>\n",
       "      <td>0</td>\n",
       "      <td>1</td>\n",
       "      <td>0</td>\n",
       "      <td>0</td>\n",
       "    </tr>\n",
       "    <tr>\n",
       "      <th>3</th>\n",
       "      <td>4</td>\n",
       "      <td>5</td>\n",
       "      <td>178980</td>\n",
       "      <td>2103-02-02 04:31:00</td>\n",
       "      <td>2103-02-04 12:15:00</td>\n",
       "      <td>NaN</td>\n",
       "      <td>NEWBORN</td>\n",
       "      <td>PHYS REFERRAL/NORMAL DELI</td>\n",
       "      <td>HOME</td>\n",
       "      <td>Private</td>\n",
       "      <td>...</td>\n",
       "      <td>BUDDHIST</td>\n",
       "      <td>NaN</td>\n",
       "      <td>ASIAN</td>\n",
       "      <td>NaN</td>\n",
       "      <td>NaN</td>\n",
       "      <td>NEWBORN</td>\n",
       "      <td>0</td>\n",
       "      <td>1</td>\n",
       "      <td>0</td>\n",
       "      <td>0</td>\n",
       "    </tr>\n",
       "    <tr>\n",
       "      <th>4</th>\n",
       "      <td>5</td>\n",
       "      <td>6</td>\n",
       "      <td>107064</td>\n",
       "      <td>2175-05-30 07:15:00</td>\n",
       "      <td>2175-06-15 16:00:00</td>\n",
       "      <td>NaN</td>\n",
       "      <td>ELECTIVE</td>\n",
       "      <td>PHYS REFERRAL/NORMAL DELI</td>\n",
       "      <td>HOME HEALTH CARE</td>\n",
       "      <td>Medicare</td>\n",
       "      <td>...</td>\n",
       "      <td>NOT SPECIFIED</td>\n",
       "      <td>MARRIED</td>\n",
       "      <td>WHITE</td>\n",
       "      <td>NaN</td>\n",
       "      <td>NaN</td>\n",
       "      <td>CHRONIC RENAL FAILURE/SDA</td>\n",
       "      <td>0</td>\n",
       "      <td>1</td>\n",
       "      <td>0</td>\n",
       "      <td>0</td>\n",
       "    </tr>\n",
       "  </tbody>\n",
       "</table>\n",
       "<p>5 rows × 21 columns</p>\n",
       "</div>"
      ],
      "text/plain": [
       "   ROW_ID  SUBJECT_ID  HADM_ID           ADMITTIME           DISCHTIME  \\\n",
       "0       1           2   163353 2138-07-17 19:04:00 2138-07-21 15:48:00   \n",
       "1       2           3   145834 2101-10-20 19:08:00 2101-10-31 13:58:00   \n",
       "2       3           4   185777 2191-03-16 00:28:00 2191-03-23 18:41:00   \n",
       "3       4           5   178980 2103-02-02 04:31:00 2103-02-04 12:15:00   \n",
       "4       5           6   107064 2175-05-30 07:15:00 2175-06-15 16:00:00   \n",
       "\n",
       "  DEATHTIME ADMISSION_TYPE         ADMISSION_LOCATION  \\\n",
       "0       NaN        NEWBORN  PHYS REFERRAL/NORMAL DELI   \n",
       "1       NaN      EMERGENCY       EMERGENCY ROOM ADMIT   \n",
       "2       NaN      EMERGENCY       EMERGENCY ROOM ADMIT   \n",
       "3       NaN        NEWBORN  PHYS REFERRAL/NORMAL DELI   \n",
       "4       NaN       ELECTIVE  PHYS REFERRAL/NORMAL DELI   \n",
       "\n",
       "          DISCHARGE_LOCATION INSURANCE  ...           RELIGION MARITAL_STATUS  \\\n",
       "0                       HOME   Private  ...      NOT SPECIFIED            NaN   \n",
       "1                        SNF  Medicare  ...           CATHOLIC        MARRIED   \n",
       "2  HOME WITH HOME IV PROVIDR   Private  ...  PROTESTANT QUAKER         SINGLE   \n",
       "3                       HOME   Private  ...           BUDDHIST            NaN   \n",
       "4           HOME HEALTH CARE  Medicare  ...      NOT SPECIFIED        MARRIED   \n",
       "\n",
       "  ETHNICITY         EDREGTIME         EDOUTTIME  \\\n",
       "0     ASIAN               NaN               NaN   \n",
       "1     WHITE  10/20/2101 17:09  10/20/2101 19:24   \n",
       "2     WHITE   3/15/2191 13:10    3/16/2191 1:10   \n",
       "3     ASIAN               NaN               NaN   \n",
       "4     WHITE               NaN               NaN   \n",
       "\n",
       "                             DIAGNOSIS HOSPITAL_EXPIRE_FLAG  \\\n",
       "0                              NEWBORN                    0   \n",
       "1                          HYPOTENSION                    0   \n",
       "2  FEVER,DEHYDRATION,FAILURE TO THRIVE                    0   \n",
       "3                              NEWBORN                    0   \n",
       "4            CHRONIC RENAL FAILURE/SDA                    0   \n",
       "\n",
       "   HAS_CHARTEVENTS_DATA  Past_6_Months_Hospital_Admission  \\\n",
       "0                     1                                 0   \n",
       "1                     1                                 0   \n",
       "2                     1                                 0   \n",
       "3                     1                                 0   \n",
       "4                     1                                 0   \n",
       "\n",
       "   Past_6_Months_ED_Admission  \n",
       "0                           0  \n",
       "1                           0  \n",
       "2                           0  \n",
       "3                           0  \n",
       "4                           0  \n",
       "\n",
       "[5 rows x 21 columns]"
      ]
     },
     "execution_count": 43,
     "metadata": {},
     "output_type": "execute_result"
    }
   ],
   "source": [
    "admissions_data.head()"
   ]
  },
  {
   "cell_type": "code",
   "execution_count": 44,
   "id": "3921ce2a",
   "metadata": {
    "colab": {
     "base_uri": "https://localhost:8080/"
    },
    "id": "3921ce2a",
    "outputId": "8c61e95a-cb76-41f7-d455-1b68cfcb410f"
   },
   "outputs": [
    {
     "data": {
      "text/plain": [
       "Index(['ROW_ID', 'SUBJECT_ID', 'HADM_ID', 'ADMITTIME', 'DISCHTIME',\n",
       "       'DEATHTIME', 'ADMISSION_TYPE', 'ADMISSION_LOCATION',\n",
       "       'DISCHARGE_LOCATION', 'INSURANCE', 'LANGUAGE', 'RELIGION',\n",
       "       'MARITAL_STATUS', 'ETHNICITY', 'EDREGTIME', 'EDOUTTIME', 'DIAGNOSIS',\n",
       "       'HOSPITAL_EXPIRE_FLAG', 'HAS_CHARTEVENTS_DATA',\n",
       "       'Past_6_Months_Hospital_Admission', 'Past_6_Months_ED_Admission'],\n",
       "      dtype='object')"
      ]
     },
     "execution_count": 44,
     "metadata": {},
     "output_type": "execute_result"
    }
   ],
   "source": [
    "admissions_data.columns"
   ]
  },
  {
   "cell_type": "code",
   "execution_count": 45,
   "id": "9eacbca3",
   "metadata": {
    "colab": {
     "base_uri": "https://localhost:8080/",
     "height": 548
    },
    "id": "9eacbca3",
    "outputId": "09612a5e-70a3-4d06-a8ba-5f2ba74b800e"
   },
   "outputs": [
    {
     "data": {
      "text/plain": [
       "Past_6_Months_Hospital_Admission\n",
       "0     51824\n",
       "1      5492\n",
       "2      1143\n",
       "3       329\n",
       "4       105\n",
       "5        39\n",
       "6        15\n",
       "7        12\n",
       "11        6\n",
       "12        4\n",
       "8         2\n",
       "10        2\n",
       "13        2\n",
       "9         1\n",
       "Name: count, dtype: int64"
      ]
     },
     "execution_count": 45,
     "metadata": {},
     "output_type": "execute_result"
    }
   ],
   "source": [
    "admissions_data['Past_6_Months_Hospital_Admission'].value_counts()"
   ]
  },
  {
   "cell_type": "code",
   "execution_count": 46,
   "id": "fa0e5980",
   "metadata": {
    "colab": {
     "base_uri": "https://localhost:8080/",
     "height": 548
    },
    "id": "fa0e5980",
    "outputId": "3ecaf66b-1f41-4a41-8baa-0ee92b024849"
   },
   "outputs": [
    {
     "data": {
      "text/plain": [
       "Past_6_Months_ED_Admission\n",
       "0     52887\n",
       "1      4631\n",
       "2       988\n",
       "3       287\n",
       "4       100\n",
       "5        40\n",
       "6        15\n",
       "7        11\n",
       "11        6\n",
       "12        4\n",
       "8         2\n",
       "10        2\n",
       "13        2\n",
       "9         1\n",
       "Name: count, dtype: int64"
      ]
     },
     "execution_count": 46,
     "metadata": {},
     "output_type": "execute_result"
    }
   ],
   "source": [
    "admissions_data['Past_6_Months_ED_Admission'].value_counts()"
   ]
  },
  {
   "cell_type": "code",
   "execution_count": 47,
   "id": "db38e823",
   "metadata": {
    "colab": {
     "base_uri": "https://localhost:8080/",
     "height": 703
    },
    "id": "db38e823",
    "outputId": "02f52fea-4853-4dc2-ec0e-e0db60dc53f6"
   },
   "outputs": [
    {
     "data": {
      "text/plain": [
       "SUBJECT_ID                          35767\n",
       "HADM_ID                             35767\n",
       "ADMITTIME                           35767\n",
       "DISCHTIME                           35767\n",
       "ADMISSION_TYPE                      35767\n",
       "LEN_OF_STAY                         35767\n",
       "Previous_DISCHTIME                   9272\n",
       "Readmission                         35767\n",
       "GENDER                              35767\n",
       "DOB                                 35767\n",
       "DOD                                 17493\n",
       "EXPIRE_FLAG                         35767\n",
       "AGE                                 35767\n",
       "ICD9_CODE                           35767\n",
       "PROC_ICD9_CODE                      35767\n",
       "DRG_CODE                            35767\n",
       "CPT_CD                              35767\n",
       "Past_6_Months_Hospital_Admission    35767\n",
       "Past_6_Months_ED_Admission          35767\n",
       "ICU_LOS                             35767\n",
       "dtype: int64"
      ]
     },
     "execution_count": 47,
     "metadata": {},
     "output_type": "execute_result"
    }
   ],
   "source": [
    "# Now, merge the newly created 6-month columns into combined_df\n",
    "# Assuming cptevents_df_aggregated_df and icustay_df are already defined\n",
    "combined_df = pd.merge(cptevents_df_aggregated_df, admissions_data[['SUBJECT_ID', 'HADM_ID',\n",
    "                                                                     'Past_6_Months_Hospital_Admission',\n",
    "                                                                     'Past_6_Months_ED_Admission']],\n",
    "                       on=['SUBJECT_ID', 'HADM_ID'], how='inner')\n",
    "\n",
    "# Integrate ICU LOS data\n",
    "combined_df = pd.merge(combined_df, icustay_df[['SUBJECT_ID', 'HADM_ID', 'LOS']], on=['SUBJECT_ID', 'HADM_ID'], how='inner')\n",
    "combined_df = combined_df.rename(columns={'LOS': 'ICU_LOS'})\n",
    "combined_df['ICU_LOS'] = combined_df['ICU_LOS'].apply(lambda x: int(x) + 1 if x < 1 else int(x))\n",
    "\n",
    "# Check the result\n",
    "combined_df.count()"
   ]
  },
  {
   "cell_type": "code",
   "execution_count": 48,
   "id": "50ec0821",
   "metadata": {
    "colab": {
     "base_uri": "https://localhost:8080/",
     "height": 343
    },
    "id": "50ec0821",
    "outputId": "f3c91149-f458-4697-af0e-8c250973e032"
   },
   "outputs": [
    {
     "data": {
      "text/html": [
       "<div>\n",
       "<style scoped>\n",
       "    .dataframe tbody tr th:only-of-type {\n",
       "        vertical-align: middle;\n",
       "    }\n",
       "\n",
       "    .dataframe tbody tr th {\n",
       "        vertical-align: top;\n",
       "    }\n",
       "\n",
       "    .dataframe thead th {\n",
       "        text-align: right;\n",
       "    }\n",
       "</style>\n",
       "<table border=\"1\" class=\"dataframe\">\n",
       "  <thead>\n",
       "    <tr style=\"text-align: right;\">\n",
       "      <th></th>\n",
       "      <th>SUBJECT_ID</th>\n",
       "      <th>HADM_ID</th>\n",
       "      <th>ADMITTIME</th>\n",
       "      <th>DISCHTIME</th>\n",
       "      <th>ADMISSION_TYPE</th>\n",
       "      <th>LEN_OF_STAY</th>\n",
       "      <th>Previous_DISCHTIME</th>\n",
       "      <th>Readmission</th>\n",
       "      <th>GENDER</th>\n",
       "      <th>DOB</th>\n",
       "      <th>DOD</th>\n",
       "      <th>EXPIRE_FLAG</th>\n",
       "      <th>AGE</th>\n",
       "      <th>ICD9_CODE</th>\n",
       "      <th>PROC_ICD9_CODE</th>\n",
       "      <th>DRG_CODE</th>\n",
       "      <th>CPT_CD</th>\n",
       "      <th>Past_6_Months_Hospital_Admission</th>\n",
       "      <th>Past_6_Months_ED_Admission</th>\n",
       "      <th>ICU_LOS</th>\n",
       "    </tr>\n",
       "  </thead>\n",
       "  <tbody>\n",
       "    <tr>\n",
       "      <th>0</th>\n",
       "      <td>3</td>\n",
       "      <td>145834</td>\n",
       "      <td>2101-10-20 19:08:00</td>\n",
       "      <td>2101-10-31 13:58:00</td>\n",
       "      <td>EMERGENCY</td>\n",
       "      <td>10</td>\n",
       "      <td>NaT</td>\n",
       "      <td>False</td>\n",
       "      <td>M</td>\n",
       "      <td>2025-04-11</td>\n",
       "      <td>2102-06-14 00:00:00</td>\n",
       "      <td>1</td>\n",
       "      <td>76</td>\n",
       "      <td>0389|78559|5849|4275|41071|4280|6826|4254|2639</td>\n",
       "      <td>9604|9962|8964|9672|3893|966</td>\n",
       "      <td>416</td>\n",
       "      <td>94002|94003|94003|94003</td>\n",
       "      <td>0</td>\n",
       "      <td>0</td>\n",
       "      <td>6</td>\n",
       "    </tr>\n",
       "    <tr>\n",
       "      <th>1</th>\n",
       "      <td>4</td>\n",
       "      <td>185777</td>\n",
       "      <td>2191-03-16 00:28:00</td>\n",
       "      <td>2191-03-23 18:41:00</td>\n",
       "      <td>EMERGENCY</td>\n",
       "      <td>7</td>\n",
       "      <td>NaT</td>\n",
       "      <td>False</td>\n",
       "      <td>F</td>\n",
       "      <td>2143-05-12</td>\n",
       "      <td>NaN</td>\n",
       "      <td>0</td>\n",
       "      <td>47</td>\n",
       "      <td>042|1363|7994|2763|7907|5715|04111|V090|E9317</td>\n",
       "      <td>3893|8872|3323</td>\n",
       "      <td>489</td>\n",
       "      <td>99223|99233|99233|99232|99231|99232|99232|99238</td>\n",
       "      <td>0</td>\n",
       "      <td>0</td>\n",
       "      <td>1</td>\n",
       "    </tr>\n",
       "    <tr>\n",
       "      <th>2</th>\n",
       "      <td>9</td>\n",
       "      <td>150750</td>\n",
       "      <td>2149-11-09 13:06:00</td>\n",
       "      <td>2149-11-14 10:15:00</td>\n",
       "      <td>EMERGENCY</td>\n",
       "      <td>4</td>\n",
       "      <td>NaT</td>\n",
       "      <td>False</td>\n",
       "      <td>M</td>\n",
       "      <td>2108-01-26</td>\n",
       "      <td>2149-11-14 00:00:00</td>\n",
       "      <td>1</td>\n",
       "      <td>41</td>\n",
       "      <td>431|5070|4280|5849|2765|4019</td>\n",
       "      <td>9672|9604</td>\n",
       "      <td>14</td>\n",
       "      <td>94003|94003|94003|94003|94003</td>\n",
       "      <td>0</td>\n",
       "      <td>0</td>\n",
       "      <td>5</td>\n",
       "    </tr>\n",
       "    <tr>\n",
       "      <th>3</th>\n",
       "      <td>11</td>\n",
       "      <td>194540</td>\n",
       "      <td>2178-04-16 06:18:00</td>\n",
       "      <td>2178-05-11 19:00:00</td>\n",
       "      <td>EMERGENCY</td>\n",
       "      <td>25</td>\n",
       "      <td>NaT</td>\n",
       "      <td>False</td>\n",
       "      <td>F</td>\n",
       "      <td>2128-02-22</td>\n",
       "      <td>2178-11-14 00:00:00</td>\n",
       "      <td>1</td>\n",
       "      <td>50</td>\n",
       "      <td>1913</td>\n",
       "      <td>159|113|113|9229|9925</td>\n",
       "      <td>211|2</td>\n",
       "      <td>99233|99233|99233|99239</td>\n",
       "      <td>0</td>\n",
       "      <td>0</td>\n",
       "      <td>1</td>\n",
       "    </tr>\n",
       "    <tr>\n",
       "      <th>4</th>\n",
       "      <td>13</td>\n",
       "      <td>143045</td>\n",
       "      <td>2167-01-08 18:43:00</td>\n",
       "      <td>2167-01-15 15:15:00</td>\n",
       "      <td>EMERGENCY</td>\n",
       "      <td>6</td>\n",
       "      <td>NaT</td>\n",
       "      <td>False</td>\n",
       "      <td>F</td>\n",
       "      <td>2127-02-27</td>\n",
       "      <td>NaN</td>\n",
       "      <td>0</td>\n",
       "      <td>39</td>\n",
       "      <td>41401|4111|25000|4019|2720</td>\n",
       "      <td>3612|3615|3961|3761|8872</td>\n",
       "      <td>109</td>\n",
       "      <td>94003|94002</td>\n",
       "      <td>0</td>\n",
       "      <td>0</td>\n",
       "      <td>3</td>\n",
       "    </tr>\n",
       "  </tbody>\n",
       "</table>\n",
       "</div>"
      ],
      "text/plain": [
       "   SUBJECT_ID  HADM_ID           ADMITTIME           DISCHTIME ADMISSION_TYPE  \\\n",
       "0           3   145834 2101-10-20 19:08:00 2101-10-31 13:58:00      EMERGENCY   \n",
       "1           4   185777 2191-03-16 00:28:00 2191-03-23 18:41:00      EMERGENCY   \n",
       "2           9   150750 2149-11-09 13:06:00 2149-11-14 10:15:00      EMERGENCY   \n",
       "3          11   194540 2178-04-16 06:18:00 2178-05-11 19:00:00      EMERGENCY   \n",
       "4          13   143045 2167-01-08 18:43:00 2167-01-15 15:15:00      EMERGENCY   \n",
       "\n",
       "   LEN_OF_STAY Previous_DISCHTIME  Readmission GENDER        DOB  \\\n",
       "0           10                NaT        False      M 2025-04-11   \n",
       "1            7                NaT        False      F 2143-05-12   \n",
       "2            4                NaT        False      M 2108-01-26   \n",
       "3           25                NaT        False      F 2128-02-22   \n",
       "4            6                NaT        False      F 2127-02-27   \n",
       "\n",
       "                   DOD  EXPIRE_FLAG  AGE  \\\n",
       "0  2102-06-14 00:00:00            1   76   \n",
       "1                  NaN            0   47   \n",
       "2  2149-11-14 00:00:00            1   41   \n",
       "3  2178-11-14 00:00:00            1   50   \n",
       "4                  NaN            0   39   \n",
       "\n",
       "                                        ICD9_CODE  \\\n",
       "0  0389|78559|5849|4275|41071|4280|6826|4254|2639   \n",
       "1   042|1363|7994|2763|7907|5715|04111|V090|E9317   \n",
       "2                    431|5070|4280|5849|2765|4019   \n",
       "3                                            1913   \n",
       "4                      41401|4111|25000|4019|2720   \n",
       "\n",
       "                 PROC_ICD9_CODE DRG_CODE  \\\n",
       "0  9604|9962|8964|9672|3893|966      416   \n",
       "1                3893|8872|3323      489   \n",
       "2                     9672|9604       14   \n",
       "3         159|113|113|9229|9925    211|2   \n",
       "4      3612|3615|3961|3761|8872      109   \n",
       "\n",
       "                                            CPT_CD  \\\n",
       "0                          94002|94003|94003|94003   \n",
       "1  99223|99233|99233|99232|99231|99232|99232|99238   \n",
       "2                    94003|94003|94003|94003|94003   \n",
       "3                          99233|99233|99233|99239   \n",
       "4                                      94003|94002   \n",
       "\n",
       "   Past_6_Months_Hospital_Admission  Past_6_Months_ED_Admission  ICU_LOS  \n",
       "0                                 0                           0        6  \n",
       "1                                 0                           0        1  \n",
       "2                                 0                           0        5  \n",
       "3                                 0                           0        1  \n",
       "4                                 0                           0        3  "
      ]
     },
     "execution_count": 48,
     "metadata": {},
     "output_type": "execute_result"
    }
   ],
   "source": [
    "combined_df.head()"
   ]
  },
  {
   "cell_type": "code",
   "execution_count": null,
   "id": "c6ee1989",
   "metadata": {
    "id": "c6ee1989"
   },
   "outputs": [],
   "source": []
  },
  {
   "cell_type": "markdown",
   "id": "91f110b9",
   "metadata": {
    "id": "91f110b9"
   },
   "source": [
    "### notes_df dataframe cleanup and sort the dataframe based on patient and hospital admission ID"
   ]
  },
  {
   "cell_type": "code",
   "execution_count": 49,
   "id": "d7997d43",
   "metadata": {
    "colab": {
     "base_uri": "https://localhost:8080/",
     "height": 359
    },
    "id": "d7997d43",
    "outputId": "599b0925-55e3-4c8c-ea38-9ca8b65d0228"
   },
   "outputs": [
    {
     "data": {
      "text/html": [
       "<div>\n",
       "<style scoped>\n",
       "    .dataframe tbody tr th:only-of-type {\n",
       "        vertical-align: middle;\n",
       "    }\n",
       "\n",
       "    .dataframe tbody tr th {\n",
       "        vertical-align: top;\n",
       "    }\n",
       "\n",
       "    .dataframe thead th {\n",
       "        text-align: right;\n",
       "    }\n",
       "</style>\n",
       "<table border=\"1\" class=\"dataframe\">\n",
       "  <thead>\n",
       "    <tr style=\"text-align: right;\">\n",
       "      <th></th>\n",
       "      <th>ROW_ID</th>\n",
       "      <th>SUBJECT_ID</th>\n",
       "      <th>HADM_ID</th>\n",
       "      <th>CATEGORY</th>\n",
       "      <th>DESCRIPTION</th>\n",
       "      <th>TEXT</th>\n",
       "    </tr>\n",
       "  </thead>\n",
       "  <tbody>\n",
       "    <tr>\n",
       "      <th>0</th>\n",
       "      <td>174</td>\n",
       "      <td>22532</td>\n",
       "      <td>167853.0</td>\n",
       "      <td>Discharge summary</td>\n",
       "      <td>Report</td>\n",
       "      <td>Admission Date:  [**2151-7-16**]       Dischar...</td>\n",
       "    </tr>\n",
       "    <tr>\n",
       "      <th>1</th>\n",
       "      <td>175</td>\n",
       "      <td>13702</td>\n",
       "      <td>107527.0</td>\n",
       "      <td>Discharge summary</td>\n",
       "      <td>Report</td>\n",
       "      <td>Admission Date:  [**2118-6-2**]       Discharg...</td>\n",
       "    </tr>\n",
       "    <tr>\n",
       "      <th>2</th>\n",
       "      <td>176</td>\n",
       "      <td>13702</td>\n",
       "      <td>167118.0</td>\n",
       "      <td>Discharge summary</td>\n",
       "      <td>Report</td>\n",
       "      <td>Admission Date:  [**2119-5-4**]              D...</td>\n",
       "    </tr>\n",
       "    <tr>\n",
       "      <th>3</th>\n",
       "      <td>177</td>\n",
       "      <td>13702</td>\n",
       "      <td>196489.0</td>\n",
       "      <td>Discharge summary</td>\n",
       "      <td>Report</td>\n",
       "      <td>Admission Date:  [**2124-7-21**]              ...</td>\n",
       "    </tr>\n",
       "    <tr>\n",
       "      <th>4</th>\n",
       "      <td>178</td>\n",
       "      <td>26880</td>\n",
       "      <td>135453.0</td>\n",
       "      <td>Discharge summary</td>\n",
       "      <td>Report</td>\n",
       "      <td>Admission Date:  [**2162-3-3**]              D...</td>\n",
       "    </tr>\n",
       "    <tr>\n",
       "      <th>5</th>\n",
       "      <td>179</td>\n",
       "      <td>53181</td>\n",
       "      <td>170490.0</td>\n",
       "      <td>Discharge summary</td>\n",
       "      <td>Report</td>\n",
       "      <td>Admission Date:  [**2172-3-5**]              D...</td>\n",
       "    </tr>\n",
       "    <tr>\n",
       "      <th>6</th>\n",
       "      <td>180</td>\n",
       "      <td>20646</td>\n",
       "      <td>134727.0</td>\n",
       "      <td>Discharge summary</td>\n",
       "      <td>Report</td>\n",
       "      <td>Admission Date:  [**2112-12-8**]              ...</td>\n",
       "    </tr>\n",
       "    <tr>\n",
       "      <th>7</th>\n",
       "      <td>181</td>\n",
       "      <td>42130</td>\n",
       "      <td>114236.0</td>\n",
       "      <td>Discharge summary</td>\n",
       "      <td>Report</td>\n",
       "      <td>Admission Date:  [**2150-2-25**]              ...</td>\n",
       "    </tr>\n",
       "    <tr>\n",
       "      <th>8</th>\n",
       "      <td>182</td>\n",
       "      <td>56174</td>\n",
       "      <td>163469.0</td>\n",
       "      <td>Discharge summary</td>\n",
       "      <td>Report</td>\n",
       "      <td>Admission Date:  [**2118-8-10**]              ...</td>\n",
       "    </tr>\n",
       "    <tr>\n",
       "      <th>9</th>\n",
       "      <td>183</td>\n",
       "      <td>56174</td>\n",
       "      <td>189681.0</td>\n",
       "      <td>Discharge summary</td>\n",
       "      <td>Report</td>\n",
       "      <td>Admission Date:  [**2118-12-7**]              ...</td>\n",
       "    </tr>\n",
       "  </tbody>\n",
       "</table>\n",
       "</div>"
      ],
      "text/plain": [
       "   ROW_ID  SUBJECT_ID   HADM_ID           CATEGORY DESCRIPTION  \\\n",
       "0     174       22532  167853.0  Discharge summary      Report   \n",
       "1     175       13702  107527.0  Discharge summary      Report   \n",
       "2     176       13702  167118.0  Discharge summary      Report   \n",
       "3     177       13702  196489.0  Discharge summary      Report   \n",
       "4     178       26880  135453.0  Discharge summary      Report   \n",
       "5     179       53181  170490.0  Discharge summary      Report   \n",
       "6     180       20646  134727.0  Discharge summary      Report   \n",
       "7     181       42130  114236.0  Discharge summary      Report   \n",
       "8     182       56174  163469.0  Discharge summary      Report   \n",
       "9     183       56174  189681.0  Discharge summary      Report   \n",
       "\n",
       "                                                TEXT  \n",
       "0  Admission Date:  [**2151-7-16**]       Dischar...  \n",
       "1  Admission Date:  [**2118-6-2**]       Discharg...  \n",
       "2  Admission Date:  [**2119-5-4**]              D...  \n",
       "3  Admission Date:  [**2124-7-21**]              ...  \n",
       "4  Admission Date:  [**2162-3-3**]              D...  \n",
       "5  Admission Date:  [**2172-3-5**]              D...  \n",
       "6  Admission Date:  [**2112-12-8**]              ...  \n",
       "7  Admission Date:  [**2150-2-25**]              ...  \n",
       "8  Admission Date:  [**2118-8-10**]              ...  \n",
       "9  Admission Date:  [**2118-12-7**]              ...  "
      ]
     },
     "execution_count": 49,
     "metadata": {},
     "output_type": "execute_result"
    }
   ],
   "source": [
    "notes_df.head(10)"
   ]
  },
  {
   "cell_type": "code",
   "execution_count": 50,
   "id": "131b4246",
   "metadata": {
    "colab": {
     "base_uri": "https://localhost:8080/"
    },
    "id": "131b4246",
    "outputId": "3d419c88-b68a-4c83-e349-8e9d7afef514"
   },
   "outputs": [
    {
     "name": "stdout",
     "output_type": "stream",
     "text": [
      "CATEGORY\n",
      "Nursing/other        822497\n",
      "Radiology            522279\n",
      "Nursing              223556\n",
      "ECG                  209051\n",
      "Physician            141624\n",
      "Discharge summary     59652\n",
      "Echo                  45794\n",
      "Respiratory           31739\n",
      "Nutrition              9418\n",
      "General                8301\n",
      "Rehab Services         5431\n",
      "Social Work            2670\n",
      "Case Management         967\n",
      "Pharmacy                103\n",
      "Consult                  98\n",
      "Name: count, dtype: int64\n"
     ]
    }
   ],
   "source": [
    "# Count the occurrences of each category\n",
    "category_counts = notes_df['CATEGORY'].value_counts()\n",
    "\n",
    "# Display the results\n",
    "print(category_counts)"
   ]
  },
  {
   "cell_type": "code",
   "execution_count": 51,
   "id": "21113edb",
   "metadata": {
    "id": "21113edb"
   },
   "outputs": [],
   "source": [
    "notes_df = notes_df.sort_values(by=['SUBJECT_ID', 'HADM_ID'], ascending=True)"
   ]
  },
  {
   "cell_type": "code",
   "execution_count": 52,
   "id": "0429c3f8",
   "metadata": {
    "id": "0429c3f8"
   },
   "outputs": [
    {
     "name": "stdout",
     "output_type": "stream",
     "text": [
      "CATEGORY\n",
      "Nursing/other        822497\n",
      "Radiology            522279\n",
      "Nursing              223556\n",
      "ECG                  209051\n",
      "Physician            141624\n",
      "Discharge summary     59652\n",
      "Echo                  45794\n",
      "Respiratory           31739\n",
      "Nutrition              9418\n",
      "General                8301\n",
      "Rehab Services         5431\n",
      "Social Work            2670\n",
      "Case Management         967\n",
      "Pharmacy                103\n",
      "Consult                  98\n",
      "Name: count, dtype: int64\n"
     ]
    }
   ],
   "source": [
    "category_counts = notes_df['CATEGORY'].value_counts()\n",
    "print(category_counts)"
   ]
  },
  {
   "cell_type": "markdown",
   "id": "4abfeab7",
   "metadata": {
    "id": "4abfeab7"
   },
   "source": [
    "### Extract the clinical notes having the Discharge summary of each patient"
   ]
  },
  {
   "cell_type": "code",
   "execution_count": 53,
   "id": "388cebb0",
   "metadata": {
    "colab": {
     "base_uri": "https://localhost:8080/",
     "height": 204
    },
    "id": "388cebb0",
    "outputId": "44811063-5c72-4bad-85d4-959a69147cdc"
   },
   "outputs": [
    {
     "data": {
      "text/html": [
       "<div>\n",
       "<style scoped>\n",
       "    .dataframe tbody tr th:only-of-type {\n",
       "        vertical-align: middle;\n",
       "    }\n",
       "\n",
       "    .dataframe tbody tr th {\n",
       "        vertical-align: top;\n",
       "    }\n",
       "\n",
       "    .dataframe thead th {\n",
       "        text-align: right;\n",
       "    }\n",
       "</style>\n",
       "<table border=\"1\" class=\"dataframe\">\n",
       "  <thead>\n",
       "    <tr style=\"text-align: right;\">\n",
       "      <th></th>\n",
       "      <th>ROW_ID</th>\n",
       "      <th>SUBJECT_ID</th>\n",
       "      <th>HADM_ID</th>\n",
       "      <th>CATEGORY</th>\n",
       "      <th>DESCRIPTION</th>\n",
       "      <th>TEXT</th>\n",
       "    </tr>\n",
       "  </thead>\n",
       "  <tbody>\n",
       "    <tr>\n",
       "      <th>48470</th>\n",
       "      <td>44005</td>\n",
       "      <td>3</td>\n",
       "      <td>145834.0</td>\n",
       "      <td>Discharge summary</td>\n",
       "      <td>Report</td>\n",
       "      <td>Admission Date:  [**2101-10-20**]     Discharg...</td>\n",
       "    </tr>\n",
       "    <tr>\n",
       "      <th>4782</th>\n",
       "      <td>4788</td>\n",
       "      <td>4</td>\n",
       "      <td>185777.0</td>\n",
       "      <td>Discharge summary</td>\n",
       "      <td>Report</td>\n",
       "      <td>Admission Date:  [**2191-3-16**]     Discharge...</td>\n",
       "    </tr>\n",
       "    <tr>\n",
       "      <th>24476</th>\n",
       "      <td>20825</td>\n",
       "      <td>6</td>\n",
       "      <td>107064.0</td>\n",
       "      <td>Discharge summary</td>\n",
       "      <td>Report</td>\n",
       "      <td>Admission Date: [**2175-5-30**]        Dischar...</td>\n",
       "    </tr>\n",
       "    <tr>\n",
       "      <th>22764</th>\n",
       "      <td>20070</td>\n",
       "      <td>9</td>\n",
       "      <td>150750.0</td>\n",
       "      <td>Discharge summary</td>\n",
       "      <td>Report</td>\n",
       "      <td>Admission Date:  [**2149-11-9**]       Dischar...</td>\n",
       "    </tr>\n",
       "    <tr>\n",
       "      <th>57341</th>\n",
       "      <td>57115</td>\n",
       "      <td>9</td>\n",
       "      <td>150750.0</td>\n",
       "      <td>Discharge summary</td>\n",
       "      <td>Addendum</td>\n",
       "      <td>Name:  [**Known lastname 10050**], [**Known fi...</td>\n",
       "    </tr>\n",
       "  </tbody>\n",
       "</table>\n",
       "</div>"
      ],
      "text/plain": [
       "       ROW_ID  SUBJECT_ID   HADM_ID           CATEGORY DESCRIPTION  \\\n",
       "48470   44005           3  145834.0  Discharge summary      Report   \n",
       "4782     4788           4  185777.0  Discharge summary      Report   \n",
       "24476   20825           6  107064.0  Discharge summary      Report   \n",
       "22764   20070           9  150750.0  Discharge summary      Report   \n",
       "57341   57115           9  150750.0  Discharge summary    Addendum   \n",
       "\n",
       "                                                    TEXT  \n",
       "48470  Admission Date:  [**2101-10-20**]     Discharg...  \n",
       "4782   Admission Date:  [**2191-3-16**]     Discharge...  \n",
       "24476  Admission Date: [**2175-5-30**]        Dischar...  \n",
       "22764  Admission Date:  [**2149-11-9**]       Dischar...  \n",
       "57341  Name:  [**Known lastname 10050**], [**Known fi...  "
      ]
     },
     "execution_count": 53,
     "metadata": {},
     "output_type": "execute_result"
    }
   ],
   "source": [
    "discharge_summary_df = notes_df.loc[notes_df['CATEGORY'] == 'Discharge summary']\n",
    "discharge_summary_df.head()"
   ]
  },
  {
   "cell_type": "code",
   "execution_count": 54,
   "id": "42a297d8",
   "metadata": {
    "id": "42a297d8"
   },
   "outputs": [],
   "source": [
    "#discharge_summary_df.to_csv('discharge_summary_df.csv', index=False)"
   ]
  },
  {
   "cell_type": "code",
   "execution_count": 55,
   "id": "33dc0a0a",
   "metadata": {
    "colab": {
     "base_uri": "https://localhost:8080/",
     "height": 204
    },
    "id": "33dc0a0a",
    "outputId": "7b1b2f94-2c4e-40b6-da3c-e702fc365b26"
   },
   "outputs": [
    {
     "data": {
      "text/html": [
       "<div>\n",
       "<style scoped>\n",
       "    .dataframe tbody tr th:only-of-type {\n",
       "        vertical-align: middle;\n",
       "    }\n",
       "\n",
       "    .dataframe tbody tr th {\n",
       "        vertical-align: top;\n",
       "    }\n",
       "\n",
       "    .dataframe thead th {\n",
       "        text-align: right;\n",
       "    }\n",
       "</style>\n",
       "<table border=\"1\" class=\"dataframe\">\n",
       "  <thead>\n",
       "    <tr style=\"text-align: right;\">\n",
       "      <th></th>\n",
       "      <th>ROW_ID</th>\n",
       "      <th>SUBJECT_ID</th>\n",
       "      <th>HADM_ID</th>\n",
       "      <th>CATEGORY</th>\n",
       "      <th>DESCRIPTION</th>\n",
       "      <th>TEXT</th>\n",
       "    </tr>\n",
       "  </thead>\n",
       "  <tbody>\n",
       "    <tr>\n",
       "      <th>48470</th>\n",
       "      <td>44005</td>\n",
       "      <td>3</td>\n",
       "      <td>145834.0</td>\n",
       "      <td>Discharge summary</td>\n",
       "      <td>Report</td>\n",
       "      <td>Admission Date:  [**2101-10-20**]     Discharg...</td>\n",
       "    </tr>\n",
       "    <tr>\n",
       "      <th>4782</th>\n",
       "      <td>4788</td>\n",
       "      <td>4</td>\n",
       "      <td>185777.0</td>\n",
       "      <td>Discharge summary</td>\n",
       "      <td>Report</td>\n",
       "      <td>Admission Date:  [**2191-3-16**]     Discharge...</td>\n",
       "    </tr>\n",
       "    <tr>\n",
       "      <th>24476</th>\n",
       "      <td>20825</td>\n",
       "      <td>6</td>\n",
       "      <td>107064.0</td>\n",
       "      <td>Discharge summary</td>\n",
       "      <td>Report</td>\n",
       "      <td>Admission Date: [**2175-5-30**]        Dischar...</td>\n",
       "    </tr>\n",
       "    <tr>\n",
       "      <th>22764</th>\n",
       "      <td>20070</td>\n",
       "      <td>9</td>\n",
       "      <td>150750.0</td>\n",
       "      <td>Discharge summary</td>\n",
       "      <td>Report</td>\n",
       "      <td>Admission Date:  [**2149-11-9**]       Dischar...</td>\n",
       "    </tr>\n",
       "    <tr>\n",
       "      <th>57341</th>\n",
       "      <td>57115</td>\n",
       "      <td>9</td>\n",
       "      <td>150750.0</td>\n",
       "      <td>Discharge summary</td>\n",
       "      <td>Addendum</td>\n",
       "      <td>Name:  [**Known lastname 10050**], [**Known fi...</td>\n",
       "    </tr>\n",
       "  </tbody>\n",
       "</table>\n",
       "</div>"
      ],
      "text/plain": [
       "       ROW_ID  SUBJECT_ID   HADM_ID           CATEGORY DESCRIPTION  \\\n",
       "48470   44005           3  145834.0  Discharge summary      Report   \n",
       "4782     4788           4  185777.0  Discharge summary      Report   \n",
       "24476   20825           6  107064.0  Discharge summary      Report   \n",
       "22764   20070           9  150750.0  Discharge summary      Report   \n",
       "57341   57115           9  150750.0  Discharge summary    Addendum   \n",
       "\n",
       "                                                    TEXT  \n",
       "48470  Admission Date:  [**2101-10-20**]     Discharg...  \n",
       "4782   Admission Date:  [**2191-3-16**]     Discharge...  \n",
       "24476  Admission Date: [**2175-5-30**]        Dischar...  \n",
       "22764  Admission Date:  [**2149-11-9**]       Dischar...  \n",
       "57341  Name:  [**Known lastname 10050**], [**Known fi...  "
      ]
     },
     "execution_count": 55,
     "metadata": {},
     "output_type": "execute_result"
    }
   ],
   "source": [
    "discharge_summary_df.head()"
   ]
  },
  {
   "cell_type": "code",
   "execution_count": 100,
   "id": "290cd4f3",
   "metadata": {
    "colab": {
     "base_uri": "https://localhost:8080/",
     "height": 593
    },
    "id": "290cd4f3",
    "outputId": "0ac5647a-7a3a-4428-b374-d663ead5854a"
   },
   "outputs": [
    {
     "data": {
      "text/html": [
       "<div>\n",
       "<style scoped>\n",
       "    .dataframe tbody tr th:only-of-type {\n",
       "        vertical-align: middle;\n",
       "    }\n",
       "\n",
       "    .dataframe tbody tr th {\n",
       "        vertical-align: top;\n",
       "    }\n",
       "\n",
       "    .dataframe thead th {\n",
       "        text-align: right;\n",
       "    }\n",
       "</style>\n",
       "<table border=\"1\" class=\"dataframe\">\n",
       "  <thead>\n",
       "    <tr style=\"text-align: right;\">\n",
       "      <th></th>\n",
       "      <th>ROW_ID</th>\n",
       "      <th>SUBJECT_ID</th>\n",
       "      <th>HADM_ID</th>\n",
       "      <th>CATEGORY</th>\n",
       "      <th>DESCRIPTION</th>\n",
       "      <th>TEXT</th>\n",
       "      <th>ADMITTIME</th>\n",
       "      <th>DISCHTIME</th>\n",
       "      <th>ADMISSION_TYPE</th>\n",
       "      <th>LEN_OF_STAY</th>\n",
       "      <th>...</th>\n",
       "      <th>DOD</th>\n",
       "      <th>EXPIRE_FLAG</th>\n",
       "      <th>AGE</th>\n",
       "      <th>ICD9_CODE</th>\n",
       "      <th>PROC_ICD9_CODE</th>\n",
       "      <th>DRG_CODE</th>\n",
       "      <th>CPT_CD</th>\n",
       "      <th>Past_6_Months_Hospital_Admission</th>\n",
       "      <th>Past_6_Months_ED_Admission</th>\n",
       "      <th>ICU_LOS</th>\n",
       "    </tr>\n",
       "  </thead>\n",
       "  <tbody>\n",
       "    <tr>\n",
       "      <th>0</th>\n",
       "      <td>44005</td>\n",
       "      <td>3</td>\n",
       "      <td>145834.0</td>\n",
       "      <td>Discharge summary</td>\n",
       "      <td>Report</td>\n",
       "      <td>Admission Date:  [**2101-10-20**]     Discharg...</td>\n",
       "      <td>2101-10-20 19:08:00</td>\n",
       "      <td>2101-10-31 13:58:00</td>\n",
       "      <td>EMERGENCY</td>\n",
       "      <td>10</td>\n",
       "      <td>...</td>\n",
       "      <td>2102-06-14 00:00:00</td>\n",
       "      <td>1</td>\n",
       "      <td>76</td>\n",
       "      <td>0389|78559|5849|4275|41071|4280|6826|4254|2639</td>\n",
       "      <td>9604|9962|8964|9672|3893|966</td>\n",
       "      <td>416</td>\n",
       "      <td>94002|94003|94003|94003</td>\n",
       "      <td>0</td>\n",
       "      <td>0</td>\n",
       "      <td>6</td>\n",
       "    </tr>\n",
       "    <tr>\n",
       "      <th>1</th>\n",
       "      <td>4788</td>\n",
       "      <td>4</td>\n",
       "      <td>185777.0</td>\n",
       "      <td>Discharge summary</td>\n",
       "      <td>Report</td>\n",
       "      <td>Admission Date:  [**2191-3-16**]     Discharge...</td>\n",
       "      <td>2191-03-16 00:28:00</td>\n",
       "      <td>2191-03-23 18:41:00</td>\n",
       "      <td>EMERGENCY</td>\n",
       "      <td>7</td>\n",
       "      <td>...</td>\n",
       "      <td>NaN</td>\n",
       "      <td>0</td>\n",
       "      <td>47</td>\n",
       "      <td>042|1363|7994|2763|7907|5715|04111|V090|E9317</td>\n",
       "      <td>3893|8872|3323</td>\n",
       "      <td>489</td>\n",
       "      <td>99223|99233|99233|99232|99231|99232|99232|99238</td>\n",
       "      <td>0</td>\n",
       "      <td>0</td>\n",
       "      <td>1</td>\n",
       "    </tr>\n",
       "    <tr>\n",
       "      <th>2</th>\n",
       "      <td>20070</td>\n",
       "      <td>9</td>\n",
       "      <td>150750.0</td>\n",
       "      <td>Discharge summary</td>\n",
       "      <td>Report</td>\n",
       "      <td>Admission Date:  [**2149-11-9**]       Dischar...</td>\n",
       "      <td>2149-11-09 13:06:00</td>\n",
       "      <td>2149-11-14 10:15:00</td>\n",
       "      <td>EMERGENCY</td>\n",
       "      <td>4</td>\n",
       "      <td>...</td>\n",
       "      <td>2149-11-14 00:00:00</td>\n",
       "      <td>1</td>\n",
       "      <td>41</td>\n",
       "      <td>431|5070|4280|5849|2765|4019</td>\n",
       "      <td>9672|9604</td>\n",
       "      <td>14</td>\n",
       "      <td>94003|94003|94003|94003|94003</td>\n",
       "      <td>0</td>\n",
       "      <td>0</td>\n",
       "      <td>5</td>\n",
       "    </tr>\n",
       "    <tr>\n",
       "      <th>3</th>\n",
       "      <td>57115</td>\n",
       "      <td>9</td>\n",
       "      <td>150750.0</td>\n",
       "      <td>Discharge summary</td>\n",
       "      <td>Addendum</td>\n",
       "      <td>Name:  [**Known lastname 10050**], [**Known fi...</td>\n",
       "      <td>2149-11-09 13:06:00</td>\n",
       "      <td>2149-11-14 10:15:00</td>\n",
       "      <td>EMERGENCY</td>\n",
       "      <td>4</td>\n",
       "      <td>...</td>\n",
       "      <td>2149-11-14 00:00:00</td>\n",
       "      <td>1</td>\n",
       "      <td>41</td>\n",
       "      <td>431|5070|4280|5849|2765|4019</td>\n",
       "      <td>9672|9604</td>\n",
       "      <td>14</td>\n",
       "      <td>94003|94003|94003|94003|94003</td>\n",
       "      <td>0</td>\n",
       "      <td>0</td>\n",
       "      <td>5</td>\n",
       "    </tr>\n",
       "    <tr>\n",
       "      <th>4</th>\n",
       "      <td>30120</td>\n",
       "      <td>11</td>\n",
       "      <td>194540.0</td>\n",
       "      <td>Discharge summary</td>\n",
       "      <td>Report</td>\n",
       "      <td>Admission Date:  [**2178-4-16**]              ...</td>\n",
       "      <td>2178-04-16 06:18:00</td>\n",
       "      <td>2178-05-11 19:00:00</td>\n",
       "      <td>EMERGENCY</td>\n",
       "      <td>25</td>\n",
       "      <td>...</td>\n",
       "      <td>2178-11-14 00:00:00</td>\n",
       "      <td>1</td>\n",
       "      <td>50</td>\n",
       "      <td>1913</td>\n",
       "      <td>159|113|113|9229|9925</td>\n",
       "      <td>211|2</td>\n",
       "      <td>99233|99233|99233|99239</td>\n",
       "      <td>0</td>\n",
       "      <td>0</td>\n",
       "      <td>1</td>\n",
       "    </tr>\n",
       "  </tbody>\n",
       "</table>\n",
       "<p>5 rows × 24 columns</p>\n",
       "</div>"
      ],
      "text/plain": [
       "   ROW_ID  SUBJECT_ID   HADM_ID           CATEGORY DESCRIPTION  \\\n",
       "0   44005           3  145834.0  Discharge summary      Report   \n",
       "1    4788           4  185777.0  Discharge summary      Report   \n",
       "2   20070           9  150750.0  Discharge summary      Report   \n",
       "3   57115           9  150750.0  Discharge summary    Addendum   \n",
       "4   30120          11  194540.0  Discharge summary      Report   \n",
       "\n",
       "                                                TEXT           ADMITTIME  \\\n",
       "0  Admission Date:  [**2101-10-20**]     Discharg... 2101-10-20 19:08:00   \n",
       "1  Admission Date:  [**2191-3-16**]     Discharge... 2191-03-16 00:28:00   \n",
       "2  Admission Date:  [**2149-11-9**]       Dischar... 2149-11-09 13:06:00   \n",
       "3  Name:  [**Known lastname 10050**], [**Known fi... 2149-11-09 13:06:00   \n",
       "4  Admission Date:  [**2178-4-16**]              ... 2178-04-16 06:18:00   \n",
       "\n",
       "            DISCHTIME ADMISSION_TYPE  LEN_OF_STAY  ...                  DOD  \\\n",
       "0 2101-10-31 13:58:00      EMERGENCY           10  ...  2102-06-14 00:00:00   \n",
       "1 2191-03-23 18:41:00      EMERGENCY            7  ...                  NaN   \n",
       "2 2149-11-14 10:15:00      EMERGENCY            4  ...  2149-11-14 00:00:00   \n",
       "3 2149-11-14 10:15:00      EMERGENCY            4  ...  2149-11-14 00:00:00   \n",
       "4 2178-05-11 19:00:00      EMERGENCY           25  ...  2178-11-14 00:00:00   \n",
       "\n",
       "   EXPIRE_FLAG AGE                                       ICD9_CODE  \\\n",
       "0            1  76  0389|78559|5849|4275|41071|4280|6826|4254|2639   \n",
       "1            0  47   042|1363|7994|2763|7907|5715|04111|V090|E9317   \n",
       "2            1  41                    431|5070|4280|5849|2765|4019   \n",
       "3            1  41                    431|5070|4280|5849|2765|4019   \n",
       "4            1  50                                            1913   \n",
       "\n",
       "                 PROC_ICD9_CODE  DRG_CODE  \\\n",
       "0  9604|9962|8964|9672|3893|966       416   \n",
       "1                3893|8872|3323       489   \n",
       "2                     9672|9604        14   \n",
       "3                     9672|9604        14   \n",
       "4         159|113|113|9229|9925     211|2   \n",
       "\n",
       "                                            CPT_CD  \\\n",
       "0                          94002|94003|94003|94003   \n",
       "1  99223|99233|99233|99232|99231|99232|99232|99238   \n",
       "2                    94003|94003|94003|94003|94003   \n",
       "3                    94003|94003|94003|94003|94003   \n",
       "4                          99233|99233|99233|99239   \n",
       "\n",
       "  Past_6_Months_Hospital_Admission Past_6_Months_ED_Admission ICU_LOS  \n",
       "0                                0                          0       6  \n",
       "1                                0                          0       1  \n",
       "2                                0                          0       5  \n",
       "3                                0                          0       5  \n",
       "4                                0                          0       1  \n",
       "\n",
       "[5 rows x 24 columns]"
      ]
     },
     "execution_count": 100,
     "metadata": {},
     "output_type": "execute_result"
    }
   ],
   "source": [
    "import pandas as pd\n",
    "\n",
    "notes_diagnosis_adm_df = discharge_summary_df.merge(combined_df, on=['SUBJECT_ID', 'HADM_ID'], how='inner')\n",
    "notes_diagnosis_adm_df.head()"
   ]
  },
  {
   "cell_type": "code",
   "execution_count": 101,
   "id": "828fa282-0433-4c91-8d61-20cad0ebedfa",
   "metadata": {},
   "outputs": [],
   "source": [
    "### Check how many patients got readmitted within given timespan"
   ]
  },
  {
   "cell_type": "code",
   "execution_count": 102,
   "id": "a28099f1",
   "metadata": {
    "colab": {
     "base_uri": "https://localhost:8080/",
     "height": 827
    },
    "id": "a28099f1",
    "outputId": "f6a7f85a-e6a9-451b-ef6e-98a1a1287c63"
   },
   "outputs": [
    {
     "data": {
      "text/plain": [
       "ROW_ID                              4220\n",
       "SUBJECT_ID                          4220\n",
       "HADM_ID                             4220\n",
       "CATEGORY                            4220\n",
       "DESCRIPTION                         4220\n",
       "TEXT                                4220\n",
       "ADMITTIME                           4220\n",
       "DISCHTIME                           4220\n",
       "ADMISSION_TYPE                      4220\n",
       "LEN_OF_STAY                         4220\n",
       "Previous_DISCHTIME                  4220\n",
       "Readmission                         4220\n",
       "GENDER                              4220\n",
       "DOB                                 4220\n",
       "DOD                                 2740\n",
       "EXPIRE_FLAG                         4220\n",
       "AGE                                 4220\n",
       "ICD9_CODE                           4220\n",
       "PROC_ICD9_CODE                      4220\n",
       "DRG_CODE                            4220\n",
       "CPT_CD                              4220\n",
       "Past_6_Months_Hospital_Admission    4220\n",
       "Past_6_Months_ED_Admission          4220\n",
       "ICU_LOS                             4220\n",
       "dtype: int64"
      ]
     },
     "execution_count": 102,
     "metadata": {},
     "output_type": "execute_result"
    }
   ],
   "source": [
    "# Filter the DataFrame to only include rows where Readmission is True\n",
    "notes_diagnosis_adm_df_true_temp_df = notes_diagnosis_adm_df[notes_diagnosis_adm_df['Readmission'] == True]\n",
    "notes_diagnosis_adm_df_true_temp_df.count()"
   ]
  },
  {
   "cell_type": "markdown",
   "id": "90571b9d-3384-441b-9ec6-ab7a4ffa7537",
   "metadata": {},
   "source": [
    "#### Cleaning the Clinical notes\n",
    "###### - Convert the notes to lower case\n",
    "###### - Removing the unnecessary extra characters\n",
    "###### - Removing the stopwords "
   ]
  },
  {
   "cell_type": "code",
   "execution_count": 103,
   "id": "Q70e4V5LT-K7",
   "metadata": {
    "colab": {
     "base_uri": "https://localhost:8080/"
    },
    "id": "Q70e4V5LT-K7",
    "outputId": "f1c8d2b9-67fd-426b-a8c6-b679457d49cd"
   },
   "outputs": [
    {
     "name": "stderr",
     "output_type": "stream",
     "text": [
      "[nltk_data] Downloading package punkt_tab to\n",
      "[nltk_data]     C:\\Users\\SnehalChoudhari-\n",
      "[nltk_data]     I\\AppData\\Roaming\\nltk_data...\n",
      "[nltk_data]   Package punkt_tab is already up-to-date!\n"
     ]
    },
    {
     "data": {
      "text/plain": [
       "True"
      ]
     },
     "execution_count": 103,
     "metadata": {},
     "output_type": "execute_result"
    }
   ],
   "source": [
    "import nltk\n",
    "nltk.download('punkt_tab')"
   ]
  },
  {
   "cell_type": "code",
   "execution_count": 104,
   "id": "77367497",
   "metadata": {
    "colab": {
     "base_uri": "https://localhost:8080/"
    },
    "id": "77367497",
    "outputId": "ab65dc25-9b5b-4ad4-f4b2-7e0f07871032"
   },
   "outputs": [
    {
     "name": "stderr",
     "output_type": "stream",
     "text": [
      "[nltk_data] Downloading package stopwords to\n",
      "[nltk_data]     C:\\Users\\SnehalChoudhari-\n",
      "[nltk_data]     I\\AppData\\Roaming\\nltk_data...\n",
      "[nltk_data]   Package stopwords is already up-to-date!\n",
      "[nltk_data] Downloading package punkt to\n",
      "[nltk_data]     C:\\Users\\SnehalChoudhari-\n",
      "[nltk_data]     I\\AppData\\Roaming\\nltk_data...\n",
      "[nltk_data]   Package punkt is already up-to-date!\n",
      "[nltk_data] Downloading package wordnet to\n",
      "[nltk_data]     C:\\Users\\SnehalChoudhari-\n",
      "[nltk_data]     I\\AppData\\Roaming\\nltk_data...\n",
      "[nltk_data]   Package wordnet is already up-to-date!\n"
     ]
    }
   ],
   "source": [
    "import re\n",
    "import nltk\n",
    "from nltk.corpus import stopwords\n",
    "from nltk.stem import WordNetLemmatizer\n",
    "\n",
    "# Download stopwords and punkt tokenizer\n",
    "nltk.download('stopwords')\n",
    "nltk.download('punkt')\n",
    "nltk.download('wordnet')\n",
    "\n",
    "stop_words = set(stopwords.words('english'))\n",
    "lemmatizer = WordNetLemmatizer()\n",
    "\n",
    "def clean_text(text):\n",
    " # Remove PHI placeholders like [**data**]\n",
    "    text = re.sub(r'\\[\\*\\*.*?\\*\\*\\]', '', text)\n",
    "    # Remove dosage/frequency patterns (like mg, ml, q.d., b.i.d., etc.)\n",
    "    text = re.sub(r'\\b(mg|ml|cc|b.i.d.|q.d.|q.4-6h|p.o.|t.i.d.|u.d.)\\b', '', text)\n",
    "    # Remove numbers (e.g., dates, job numbers)\n",
    "    text = re.sub(r'\\d+', '', text)\n",
    "    # Lowercase\n",
    "    text = text.lower()\n",
    "    # Remove punctuation and special characters\n",
    "    text = re.sub(r'[^\\w\\s]', '', text)\n",
    "    # Tokenize\n",
    "    tokens = nltk.word_tokenize(text)\n",
    "    # Remove stopwords and lemmatize\n",
    "    tokens = [lemmatizer.lemmatize(word) for word in tokens if word not in stop_words]\n",
    "    # Remove extra whitespaces\n",
    "    return ' '.join(tokens)\n",
    "\n",
    "# Apply the function to your 'TEXT' column\n",
    "notes_diagnosis_adm_df['cleaned_text'] = notes_diagnosis_adm_df['TEXT'].apply(clean_text)\n"
   ]
  },
  {
   "cell_type": "code",
   "execution_count": 105,
   "id": "01481a9b",
   "metadata": {
    "colab": {
     "base_uri": "https://localhost:8080/",
     "height": 204
    },
    "id": "01481a9b",
    "outputId": "cf749c30-de62-4ef1-8d1d-af735a5cd4d6"
   },
   "outputs": [
    {
     "data": {
      "text/html": [
       "<div>\n",
       "<style scoped>\n",
       "    .dataframe tbody tr th:only-of-type {\n",
       "        vertical-align: middle;\n",
       "    }\n",
       "\n",
       "    .dataframe tbody tr th {\n",
       "        vertical-align: top;\n",
       "    }\n",
       "\n",
       "    .dataframe thead th {\n",
       "        text-align: right;\n",
       "    }\n",
       "</style>\n",
       "<table border=\"1\" class=\"dataframe\">\n",
       "  <thead>\n",
       "    <tr style=\"text-align: right;\">\n",
       "      <th></th>\n",
       "      <th>TEXT</th>\n",
       "      <th>cleaned_text</th>\n",
       "    </tr>\n",
       "  </thead>\n",
       "  <tbody>\n",
       "    <tr>\n",
       "      <th>0</th>\n",
       "      <td>Admission Date:  [**2101-10-20**]     Discharg...</td>\n",
       "      <td>admission date discharge date date birth sex s...</td>\n",
       "    </tr>\n",
       "    <tr>\n",
       "      <th>1</th>\n",
       "      <td>Admission Date:  [**2191-3-16**]     Discharge...</td>\n",
       "      <td>admission date discharge date date birth sex f...</td>\n",
       "    </tr>\n",
       "    <tr>\n",
       "      <th>2</th>\n",
       "      <td>Admission Date:  [**2149-11-9**]       Dischar...</td>\n",
       "      <td>admission date discharge date date birth sex s...</td>\n",
       "    </tr>\n",
       "    <tr>\n",
       "      <th>3</th>\n",
       "      <td>Name:  [**Known lastname 10050**], [**Known fi...</td>\n",
       "      <td>name unit admission date discharge date date b...</td>\n",
       "    </tr>\n",
       "    <tr>\n",
       "      <th>4</th>\n",
       "      <td>Admission Date:  [**2178-4-16**]              ...</td>\n",
       "      <td>admission date discharge date date birth sex f...</td>\n",
       "    </tr>\n",
       "  </tbody>\n",
       "</table>\n",
       "</div>"
      ],
      "text/plain": [
       "                                                TEXT  \\\n",
       "0  Admission Date:  [**2101-10-20**]     Discharg...   \n",
       "1  Admission Date:  [**2191-3-16**]     Discharge...   \n",
       "2  Admission Date:  [**2149-11-9**]       Dischar...   \n",
       "3  Name:  [**Known lastname 10050**], [**Known fi...   \n",
       "4  Admission Date:  [**2178-4-16**]              ...   \n",
       "\n",
       "                                        cleaned_text  \n",
       "0  admission date discharge date date birth sex s...  \n",
       "1  admission date discharge date date birth sex f...  \n",
       "2  admission date discharge date date birth sex s...  \n",
       "3  name unit admission date discharge date date b...  \n",
       "4  admission date discharge date date birth sex f...  "
      ]
     },
     "execution_count": 105,
     "metadata": {},
     "output_type": "execute_result"
    }
   ],
   "source": [
    "notes_diagnosis_adm_df[['TEXT', 'cleaned_text']].head()"
   ]
  },
  {
   "cell_type": "code",
   "execution_count": 106,
   "id": "11ec1bd5",
   "metadata": {
    "id": "11ec1bd5"
   },
   "outputs": [],
   "source": [
    "# Convert 'AGE' column to absolute values and then to integers\n",
    "if 'AGE' in notes_diagnosis_adm_df.columns:\n",
    "    notes_diagnosis_adm_df['AGE'] = notes_diagnosis_adm_df['AGE'].abs().astype(int)\n"
   ]
  },
  {
   "cell_type": "code",
   "execution_count": 107,
   "id": "3c4d6552-d21a-4ae2-a9d5-812730d9c5b5",
   "metadata": {},
   "outputs": [],
   "source": [
    "#### Extract the patient sentiments from the clinical notes using the most frequently occured words in the clinical notes"
   ]
  },
  {
   "cell_type": "code",
   "execution_count": 108,
   "id": "8355a1d4",
   "metadata": {
    "colab": {
     "base_uri": "https://localhost:8080/"
    },
    "id": "8355a1d4",
    "outputId": "b961efc8-fb75-4533-de78-615958c18dc0"
   },
   "outputs": [
    {
     "name": "stderr",
     "output_type": "stream",
     "text": [
      "[nltk_data] Downloading package vader_lexicon to\n",
      "[nltk_data]     C:\\Users\\SnehalChoudhari-\n",
      "[nltk_data]     I\\AppData\\Roaming\\nltk_data...\n",
      "[nltk_data]   Package vader_lexicon is already up-to-date!\n"
     ]
    },
    {
     "name": "stdout",
     "output_type": "stream",
     "text": [
      "patients_sentiment\n",
      "neutral     35598\n",
      "negative     3338\n",
      "positive      661\n",
      "Name: count, dtype: int64\n",
      "                                        cleaned_text    patient_feedback  \\\n",
      "0  admission date discharge date date birth sex s...  patient complained   \n",
      "1  admission date discharge date date birth sex f...                None   \n",
      "2  admission date discharge date date birth sex s...                None   \n",
      "3  name unit admission date discharge date date b...                None   \n",
      "4  admission date discharge date date birth sex f...                None   \n",
      "\n",
      "  patients_sentiment  \n",
      "0           negative  \n",
      "1            neutral  \n",
      "2            neutral  \n",
      "3            neutral  \n",
      "4            neutral  \n"
     ]
    }
   ],
   "source": [
    "import re\n",
    "from nltk.sentiment import SentimentIntensityAnalyzer\n",
    "\n",
    "# Function to extract patient feedback based on common phrases\n",
    "def extract_patient_feedback(text):\n",
    "    # Define common phrases or patterns that indicate patient feedback\n",
    "    feedback_patterns = ['patient reported', 'patient states', 'patient said', 'patient feels', 'patient expressed',\n",
    "                         'patient complained', 'patient noted', 'patient mentioned', 'patient described',\n",
    "                         'patient indicated', 'patient responded', 'was concerned', 'is concerned', 'communicated',\n",
    "                         'expressed concern', 'patient shared', 'is upset', 'patient requested', 'is worried',\n",
    "                         'experiencing', 'is satisfied', 'is dissatisfied', 'happy','unhappy', 'frustrated',\n",
    "                         'patient had pain', 'patient was feeling better', 'condition improved', 'feeling worse',\n",
    "                         'patient reports', 'complains about', 'patient complains' ,'patient denies', 'patient mentions',\n",
    "                         'patient mentioned', 'came back', 'came with','patient is concerned','patient says',\n",
    "                         'patient believes']\n",
    "\n",
    "    # Combine the patterns into a single regex pattern\n",
    "    pattern = '|'.join(feedback_patterns)\n",
    "\n",
    "    # Search for feedback phrases and extract the relevant portions\n",
    "    feedback_matches = re.findall(rf'({pattern}.*?[\\.\\n])', text, re.IGNORECASE)\n",
    "\n",
    "    # Join extracted feedback into a single string\n",
    "    feedback_text = ' '.join(feedback_matches).strip()\n",
    "\n",
    "    return feedback_text if feedback_text else None\n",
    "\n",
    "# Apply the extraction function to the 'cleaned_text' column\n",
    "notes_diagnosis_adm_df['patient_feedback'] = notes_diagnosis_adm_df['cleaned_text'].apply(extract_patient_feedback)\n",
    "\n",
    "# Download the VADER lexicon\n",
    "nltk.download('vader_lexicon')\n",
    "\n",
    "# Initialize VADER sentiment analyzer\n",
    "sid = SentimentIntensityAnalyzer()\n",
    "\n",
    "# Function to get sentiment scores\n",
    "def get_sentiment_scores(text):\n",
    "    if text:  # Ensure there is text to analyze\n",
    "        sentiment = sid.polarity_scores(text)\n",
    "        return sentiment\n",
    "    return {'neg': 0, 'neu': 1, 'pos': 0, 'compound': 0}\n",
    "\n",
    "# Apply sentiment analysis to the extracted patient feedback\n",
    "notes_diagnosis_adm_df['sentiment_scores'] = notes_diagnosis_adm_df['patient_feedback'].apply(get_sentiment_scores)\n",
    "\n",
    "# Extract compound score and categorize sentiment\n",
    "notes_diagnosis_adm_df['compound'] = notes_diagnosis_adm_df['sentiment_scores'].apply(lambda score_dict: score_dict['compound'])\n",
    "\n",
    "def categorize_sentiment(compound):\n",
    "    if compound >= 0.05:\n",
    "        return 'positive'\n",
    "    elif compound <= -0.05:\n",
    "        return 'negative'\n",
    "    else:\n",
    "        return 'neutral'\n",
    "\n",
    "# Apply categorization to the compound score\n",
    "notes_diagnosis_adm_df['patients_sentiment'] = notes_diagnosis_adm_df['compound'].apply(categorize_sentiment)\n",
    "\n",
    "# Optionally, filter rows with no feedback if needed\n",
    "# data = data.dropna(subset=['patient_feedback'])\n",
    "\n",
    "# Get the count of each sentiment type\n",
    "sentiment_counts = notes_diagnosis_adm_df['patients_sentiment'].value_counts()\n",
    "\n",
    "# Display sentiment counts and a preview of processed data\n",
    "print(sentiment_counts)\n",
    "print(notes_diagnosis_adm_df[['cleaned_text', 'patient_feedback', 'patients_sentiment']].head())\n"
   ]
  },
  {
   "cell_type": "code",
   "execution_count": 109,
   "id": "60cbbaec",
   "metadata": {
    "colab": {
     "base_uri": "https://localhost:8080/"
    },
    "id": "60cbbaec",
    "outputId": "f0ef3488-679f-47b4-c38e-26640103cf61"
   },
   "outputs": [
    {
     "name": "stdout",
     "output_type": "stream",
     "text": [
      "patients_sentiment\n",
      "neutral     35598\n",
      "negative     3338\n",
      "positive      661\n",
      "Name: count, dtype: int64\n"
     ]
    }
   ],
   "source": [
    "print(notes_diagnosis_adm_df['patients_sentiment'].value_counts())"
   ]
  },
  {
   "cell_type": "code",
   "execution_count": 110,
   "id": "242d3d2e-0b5e-449b-9a14-e2d111aa009c",
   "metadata": {},
   "outputs": [
    {
     "name": "stdout",
     "output_type": "stream",
     "text": [
      "Records saved to 'unseen_data.csv' and removed from the original dataframe.\n"
     ]
    }
   ],
   "source": [
    "# List of subject_IDs to filter\n",
    "subject_ids_to_save = [4, 11, 23, 162, 163, 36, 68, 109, 130, 157]\n",
    " \n",
    "# Filter records with specified subject_IDs and save them to a CSV file\n",
    "unseen_data = notes_diagnosis_adm_df[notes_diagnosis_adm_df['SUBJECT_ID'].isin(subject_ids_to_save)]\n",
    "unseen_data.to_csv(\"unseen_data.csv\", index=False)\n",
    "unseen_data.head()\n",
    "\n",
    "# Remove these records from the original dataframe\n",
    "notes_diagnosis_adm_df = notes_diagnosis_adm_df[~notes_diagnosis_adm_df['SUBJECT_ID'].isin(subject_ids_to_save)]\n",
    " \n",
    "# Print confirmation\n",
    "print(\"Records saved to 'unseen_data.csv' and removed from the original dataframe.\")"
   ]
  },
  {
   "cell_type": "code",
   "execution_count": 111,
   "id": "d8cab4bc",
   "metadata": {
    "colab": {
     "base_uri": "https://localhost:8080/"
    },
    "id": "d8cab4bc",
    "outputId": "097cd8bc-9418-4cc8-dcf6-d22703c065cd"
   },
   "outputs": [
    {
     "name": "stderr",
     "output_type": "stream",
     "text": [
      "C:\\Users\\SnehalChoudhari-I\\AppData\\Local\\Temp\\ipykernel_45280\\2180531034.py:13: FutureWarning: A value is trying to be set on a copy of a DataFrame or Series through chained assignment using an inplace method.\n",
      "The behavior will change in pandas 3.0. This inplace method will never work because the intermediate object on which we are setting values always behaves as a copy.\n",
      "\n",
      "For example, when doing 'df[col].method(value, inplace=True)', try using 'df.method({col: value}, inplace=True)' or df[col] = df[col].method(value) instead, to perform the operation inplace on the original object.\n",
      "\n",
      "\n",
      "  notes_diagnosis_adm_df['Previous_DISCHTIME'].fillna(0, inplace=True)\n",
      "C:\\Users\\SnehalChoudhari-I\\AppData\\Local\\Temp\\ipykernel_45280\\2180531034.py:13: FutureWarning: Setting an item of incompatible dtype is deprecated and will raise an error in a future version of pandas. Value '0' has dtype incompatible with datetime64[ns], please explicitly cast to a compatible dtype first.\n",
      "  notes_diagnosis_adm_df['Previous_DISCHTIME'].fillna(0, inplace=True)\n",
      "C:\\Users\\SnehalChoudhari-I\\AppData\\Local\\Temp\\ipykernel_45280\\2180531034.py:14: FutureWarning: A value is trying to be set on a copy of a DataFrame or Series through chained assignment using an inplace method.\n",
      "The behavior will change in pandas 3.0. This inplace method will never work because the intermediate object on which we are setting values always behaves as a copy.\n",
      "\n",
      "For example, when doing 'df[col].method(value, inplace=True)', try using 'df.method({col: value}, inplace=True)' or df[col] = df[col].method(value) instead, to perform the operation inplace on the original object.\n",
      "\n",
      "\n",
      "  notes_diagnosis_adm_df['DOD'].fillna(0, inplace=True)\n"
     ]
    }
   ],
   "source": [
    "import pandas as pd\n",
    "import numpy as np\n",
    "from sklearn.model_selection import train_test_split\n",
    "from sklearn.linear_model import LogisticRegression\n",
    "from sklearn.metrics import accuracy_score, confusion_matrix, classification_report\n",
    "from sklearn.preprocessing import StandardScaler, MultiLabelBinarizer, OneHotEncoder\n",
    "from sklearn.feature_extraction.text import TfidfVectorizer\n",
    "from scipy.sparse import hstack\n",
    "\n",
    "# Step 1: Data Preparation\n",
    "\n",
    "# Fill missing values in required columns\n",
    "notes_diagnosis_adm_df['Previous_DISCHTIME'].fillna(0, inplace=True)\n",
    "notes_diagnosis_adm_df['DOD'].fillna(0, inplace=True)\n",
    "\n",
    "# Convert 'Readmission' to binary values if not already (assuming 1 for true and 0 for false)\n",
    "notes_diagnosis_adm_df['Readmission'] = notes_diagnosis_adm_df['Readmission'].astype(int)\n",
    "\n",
    "# Convert ICD9_CODE, PROC_ICD9_CODE, DRG_CODE, and CPT_CD from pipe-separated strings to lists of codes\n",
    "notes_diagnosis_adm_df['ICD9_CODE'] = notes_diagnosis_adm_df['ICD9_CODE'].apply(lambda x: x.split('|'))\n",
    "notes_diagnosis_adm_df['PROC_ICD9_CODE'] = notes_diagnosis_adm_df['PROC_ICD9_CODE'].apply(lambda x: x.split('|'))\n",
    "notes_diagnosis_adm_df['DRG_CODE'] = notes_diagnosis_adm_df['DRG_CODE'].apply(lambda x: x.split('|'))\n",
    "notes_diagnosis_adm_df['CPT_CD'] = notes_diagnosis_adm_df['CPT_CD'].apply(lambda x: x.split('|'))\n",
    "\n",
    "# Step 2: Encode categorical variables\n",
    "\n",
    "# Use MultiLabelBinarizer to one-hot encode ICD9_CODE, PROC_ICD9_CODE, DRG_CODE, and CPT_CD\n",
    "mlb_icd9 = MultiLabelBinarizer()\n",
    "mlb_proc_icd9 = MultiLabelBinarizer()\n",
    "mlb_drug_code = MultiLabelBinarizer()\n",
    "mlb_cpt_cd = MultiLabelBinarizer()\n",
    "\n",
    "icd9_encoded = mlb_icd9.fit_transform(notes_diagnosis_adm_df['ICD9_CODE'])\n",
    "proc_icd9_encoded = mlb_proc_icd9.fit_transform(notes_diagnosis_adm_df['PROC_ICD9_CODE'])\n",
    "drug_code_encoded = mlb_drug_code.fit_transform(notes_diagnosis_adm_df['DRG_CODE'])\n",
    "cpt_cd_encoded = mlb_cpt_cd.fit_transform(notes_diagnosis_adm_df['CPT_CD'])\n",
    "\n",
    "# Convert encoded arrays to DataFrames and align indexes\n",
    "icd9_df = pd.DataFrame(icd9_encoded, columns=mlb_icd9.classes_, index=notes_diagnosis_adm_df.index)\n",
    "proc_icd9_df = pd.DataFrame(proc_icd9_encoded, columns=mlb_proc_icd9.classes_, index=notes_diagnosis_adm_df.index)\n",
    "drug_cd_df = pd.DataFrame(drug_code_encoded, columns=mlb_drug_code.classes_, index=notes_diagnosis_adm_df.index)\n",
    "cpt_cd_df = pd.DataFrame(cpt_cd_encoded, columns=mlb_cpt_cd.classes_, index=notes_diagnosis_adm_df.index)\n",
    "\n",
    "# Now you can merge these DataFrames back into the original or prepare for further processing\n"
   ]
  },
  {
   "cell_type": "markdown",
   "id": "82225bd1",
   "metadata": {
    "id": "82225bd1"
   },
   "source": [
    "# Adding the columns 'Past_6_Months_Hospital_Admission', 'Past_6_Months_ED_Admission INTO 'X_combined' to the dataframe"
   ]
  },
  {
   "cell_type": "code",
   "execution_count": 112,
   "id": "b958555b",
   "metadata": {
    "id": "b958555b"
   },
   "outputs": [],
   "source": [
    "encoder_sentiment = OneHotEncoder(drop='first')\n",
    "X_sentiment = encoder_sentiment.fit_transform(notes_diagnosis_adm_df[['patients_sentiment']])\n",
    "\n",
    "# Step 3: Text Data Processing with TF-IDF\n",
    "tfidf_vectorizer = TfidfVectorizer(max_features=10000)\n",
    "X_text = tfidf_vectorizer.fit_transform(notes_diagnosis_adm_df['cleaned_text'])\n",
    "\n",
    "# Step 4: Standardize Numerical Features, including the 6-month admission columns\n",
    "scaler = StandardScaler()\n",
    "X_numerical = scaler.fit_transform(notes_diagnosis_adm_df[['Past_6_Months_Hospital_Admission']].fillna(0))\n",
    "\n",
    "# Step 5: Combine All Features\n",
    "X_combined = hstack([X_text, X_sentiment, X_numerical, icd9_df, proc_icd9_df, drug_cd_df])"
   ]
  },
  {
   "cell_type": "code",
   "execution_count": 113,
   "id": "f4614ebb",
   "metadata": {
    "colab": {
     "base_uri": "https://localhost:8080/",
     "height": 204
    },
    "id": "f4614ebb",
    "outputId": "be42188d-9cda-459c-aea2-b97cc68c5c58"
   },
   "outputs": [
    {
     "data": {
      "text/html": [
       "<div>\n",
       "<style scoped>\n",
       "    .dataframe tbody tr th:only-of-type {\n",
       "        vertical-align: middle;\n",
       "    }\n",
       "\n",
       "    .dataframe tbody tr th {\n",
       "        vertical-align: top;\n",
       "    }\n",
       "\n",
       "    .dataframe thead th {\n",
       "        text-align: right;\n",
       "    }\n",
       "</style>\n",
       "<table border=\"1\" class=\"dataframe\">\n",
       "  <thead>\n",
       "    <tr style=\"text-align: right;\">\n",
       "      <th></th>\n",
       "      <th>LEN_OF_STAY</th>\n",
       "      <th>Past_6_Months_Hospital_Admission</th>\n",
       "      <th>Past_6_Months_ED_Admission</th>\n",
       "    </tr>\n",
       "  </thead>\n",
       "  <tbody>\n",
       "    <tr>\n",
       "      <th>0</th>\n",
       "      <td>10</td>\n",
       "      <td>0</td>\n",
       "      <td>0</td>\n",
       "    </tr>\n",
       "    <tr>\n",
       "      <th>2</th>\n",
       "      <td>4</td>\n",
       "      <td>0</td>\n",
       "      <td>0</td>\n",
       "    </tr>\n",
       "    <tr>\n",
       "      <th>3</th>\n",
       "      <td>4</td>\n",
       "      <td>0</td>\n",
       "      <td>0</td>\n",
       "    </tr>\n",
       "    <tr>\n",
       "      <th>5</th>\n",
       "      <td>6</td>\n",
       "      <td>0</td>\n",
       "      <td>0</td>\n",
       "    </tr>\n",
       "    <tr>\n",
       "      <th>6</th>\n",
       "      <td>6</td>\n",
       "      <td>0</td>\n",
       "      <td>0</td>\n",
       "    </tr>\n",
       "  </tbody>\n",
       "</table>\n",
       "</div>"
      ],
      "text/plain": [
       "   LEN_OF_STAY  Past_6_Months_Hospital_Admission  Past_6_Months_ED_Admission\n",
       "0           10                                 0                           0\n",
       "2            4                                 0                           0\n",
       "3            4                                 0                           0\n",
       "5            6                                 0                           0\n",
       "6            6                                 0                           0"
      ]
     },
     "execution_count": 113,
     "metadata": {},
     "output_type": "execute_result"
    }
   ],
   "source": [
    "notes_diagnosis_adm_df[['LEN_OF_STAY','Past_6_Months_Hospital_Admission', 'Past_6_Months_ED_Admission']].head()"
   ]
  },
  {
   "cell_type": "code",
   "execution_count": 114,
   "id": "40bde683",
   "metadata": {
    "colab": {
     "base_uri": "https://localhost:8080/"
    },
    "id": "40bde683",
    "outputId": "ee7effd9-b95e-4e3a-ff52-f535c4b182bf"
   },
   "outputs": [
    {
     "data": {
      "text/plain": [
       "<39549x19144 sparse matrix of type '<class 'numpy.float64'>'\n",
       "\twith 20217638 stored elements in COOrdinate format>"
      ]
     },
     "execution_count": 114,
     "metadata": {},
     "output_type": "execute_result"
    }
   ],
   "source": [
    "X_combined"
   ]
  },
  {
   "cell_type": "code",
   "execution_count": 115,
   "id": "81c46f04",
   "metadata": {
    "colab": {
     "base_uri": "https://localhost:8080/",
     "height": 982
    },
    "id": "81c46f04",
    "outputId": "0c10962e-1c65-4b05-f300-34dd7da92e19"
   },
   "outputs": [
    {
     "data": {
      "text/plain": [
       "ROW_ID                              39549\n",
       "SUBJECT_ID                          39549\n",
       "HADM_ID                             39549\n",
       "CATEGORY                            39549\n",
       "DESCRIPTION                         39549\n",
       "TEXT                                39549\n",
       "ADMITTIME                           39549\n",
       "DISCHTIME                           39549\n",
       "ADMISSION_TYPE                      39549\n",
       "LEN_OF_STAY                         39549\n",
       "Previous_DISCHTIME                  39549\n",
       "Readmission                         39549\n",
       "GENDER                              39549\n",
       "DOB                                 39549\n",
       "DOD                                 39549\n",
       "EXPIRE_FLAG                         39549\n",
       "AGE                                 39549\n",
       "ICD9_CODE                           39549\n",
       "PROC_ICD9_CODE                      39549\n",
       "DRG_CODE                            39549\n",
       "CPT_CD                              39549\n",
       "Past_6_Months_Hospital_Admission    39549\n",
       "Past_6_Months_ED_Admission          39549\n",
       "ICU_LOS                             39549\n",
       "cleaned_text                        39549\n",
       "patient_feedback                    12031\n",
       "sentiment_scores                    39549\n",
       "compound                            39549\n",
       "patients_sentiment                  39549\n",
       "dtype: int64"
      ]
     },
     "execution_count": 115,
     "metadata": {},
     "output_type": "execute_result"
    }
   ],
   "source": [
    "notes_diagnosis_adm_df.count()"
   ]
  },
  {
   "cell_type": "markdown",
   "id": "18f71cf8",
   "metadata": {
    "id": "18f71cf8"
   },
   "source": [
    "## Visualizations"
   ]
  },
  {
   "cell_type": "markdown",
   "id": "e2b1b864",
   "metadata": {
    "id": "e2b1b864"
   },
   "source": [
    "### Readmission count for 60 days"
   ]
  },
  {
   "cell_type": "code",
   "execution_count": 116,
   "id": "f12d4beb",
   "metadata": {
    "colab": {
     "base_uri": "https://localhost:8080/",
     "height": 555
    },
    "id": "f12d4beb",
    "outputId": "237dbc90-716a-41cb-cd85-d3e9fcaadcee"
   },
   "outputs": [
    {
     "name": "stdout",
     "output_type": "stream",
     "text": [
      "Readmission Count (within 30 days): 4188\n",
      "No Readmission Count: 35361\n"
     ]
    },
    {
     "data": {
      "image/png": "[encoded data removed]",
      "text/plain": [
       "<Figure size 600x600 with 1 Axes>"
      ]
     },
     "metadata": {},
     "output_type": "display_data"
    }
   ],
   "source": [
    "import matplotlib.pyplot as plt\n",
    "\n",
    "# Calculate readmission counts for 30 days\n",
    "readmission_counts = notes_diagnosis_adm_df['Readmission'].value_counts()\n",
    "readmission_30_days = readmission_counts[1]  # Assuming 1 indicates readmission\n",
    "no_readmission = readmission_counts[0]      # Assuming 0 indicates no readmission\n",
    "\n",
    "# Display the counts\n",
    "print(f\"Readmission Count (within 30 days): {readmission_30_days}\")\n",
    "print(f\"No Readmission Count: {no_readmission}\")\n",
    "\n",
    "# Pie chart for readmission\n",
    "plt.figure(figsize=(6, 6))\n",
    "plt.pie(readmission_counts,\n",
    "        labels=[f'No Readmission ({no_readmission})', f'Readmission ({readmission_30_days})'],\n",
    "        autopct='%1.1f%%',\n",
    "        startangle=90,\n",
    "        colors=['skyblue', 'orange'])\n",
    "plt.title(f'Proportion of Readmissions (30 Days)')\n",
    "plt.show()\n"
   ]
  },
  {
   "cell_type": "markdown",
   "id": "b6ae8eea",
   "metadata": {
    "id": "b6ae8eea"
   },
   "source": [
    "### Dropping Unnecessary Features to reduce the redundancy"
   ]
  },
  {
   "cell_type": "code",
   "execution_count": 117,
   "id": "baf5d105",
   "metadata": {
    "colab": {
     "base_uri": "https://localhost:8080/"
    },
    "id": "baf5d105",
    "outputId": "788bf3fa-66c5-4d62-a771-3522cdb78e64"
   },
   "outputs": [
    {
     "name": "stdout",
     "output_type": "stream",
     "text": [
      "Data Types in the Dataset:\n",
      "ROW_ID                                       int64\n",
      "SUBJECT_ID                                   int64\n",
      "HADM_ID                                    float64\n",
      "CATEGORY                                    object\n",
      "DESCRIPTION                                 object\n",
      "TEXT                                        object\n",
      "ADMITTIME                           datetime64[ns]\n",
      "DISCHTIME                           datetime64[ns]\n",
      "ADMISSION_TYPE                              object\n",
      "LEN_OF_STAY                                  int64\n",
      "Previous_DISCHTIME                          object\n",
      "Readmission                                  int32\n",
      "GENDER                                      object\n",
      "DOB                                 datetime64[ns]\n",
      "DOD                                         object\n",
      "EXPIRE_FLAG                                  int64\n",
      "AGE                                          int32\n",
      "ICD9_CODE                                   object\n",
      "PROC_ICD9_CODE                              object\n",
      "DRG_CODE                                    object\n",
      "CPT_CD                                      object\n",
      "Past_6_Months_Hospital_Admission             int64\n",
      "Past_6_Months_ED_Admission                   int64\n",
      "ICU_LOS                                      int64\n",
      "cleaned_text                                object\n",
      "patient_feedback                            object\n",
      "sentiment_scores                            object\n",
      "compound                                   float64\n",
      "patients_sentiment                          object\n",
      "dtype: object\n",
      "\n",
      "Continuous Features:\n",
      "['ROW_ID', 'SUBJECT_ID', 'HADM_ID', 'LEN_OF_STAY', 'EXPIRE_FLAG', 'Past_6_Months_Hospital_Admission', 'Past_6_Months_ED_Admission', 'ICU_LOS', 'compound']\n",
      "\n",
      "Categorical Features:\n",
      "['CATEGORY', 'DESCRIPTION', 'TEXT', 'ADMISSION_TYPE', 'Previous_DISCHTIME', 'GENDER', 'DOD', 'ICD9_CODE', 'PROC_ICD9_CODE', 'DRG_CODE', 'CPT_CD', 'cleaned_text', 'patient_feedback', 'sentiment_scores', 'patients_sentiment']\n"
     ]
    }
   ],
   "source": [
    "# Summary of data types\n",
    "print(\"Data Types in the Dataset:\")\n",
    "print(notes_diagnosis_adm_df.dtypes)\n",
    "\n",
    "# Identify continuous features\n",
    "continuous_features = notes_diagnosis_adm_df.select_dtypes(include=['float64', 'int64']).columns.tolist()\n",
    "print(\"\\nContinuous Features:\")\n",
    "print(continuous_features)\n",
    "\n",
    "# Identify categorical features\n",
    "categorical_features = notes_diagnosis_adm_df.select_dtypes(include=['object', 'bool', 'category']).columns.tolist()\n",
    "print(\"\\nCategorical Features:\")\n",
    "print(categorical_features)\n"
   ]
  },
  {
   "cell_type": "markdown",
   "id": "58c145df",
   "metadata": {
    "id": "58c145df"
   },
   "source": [
    "#### Removing Past_6_Months_ED_Admission as its is a subset of Past_6_Months_Hospital_Admission to reduce redundancy"
   ]
  },
  {
   "cell_type": "code",
   "execution_count": 118,
   "id": "c089497e",
   "metadata": {
    "colab": {
     "base_uri": "https://localhost:8080/"
    },
    "id": "c089497e",
    "outputId": "766f6566-64f8-4f5f-e4c5-85b49459072e"
   },
   "outputs": [
    {
     "name": "stdout",
     "output_type": "stream",
     "text": [
      "Past_6_Months_ED_Admission is a subset of Past_6_Months_Hospital_Admission.\n"
     ]
    }
   ],
   "source": [
    "# Check if Past_6_Months_ED_Admission is a subset of Past_6_Months_Hospital_Admission\n",
    "is_subset = (notes_diagnosis_adm_df['Past_6_Months_ED_Admission'] <= notes_diagnosis_adm_df['Past_6_Months_Hospital_Admission']).all()\n",
    "\n",
    "# Output the result\n",
    "if is_subset:\n",
    "    print(\"Past_6_Months_ED_Admission is a subset of Past_6_Months_Hospital_Admission.\")\n",
    "else:\n",
    "    print(\"Past_6_Months_ED_Admission is NOT a subset of Past_6_Months_Hospital_Admission.\")\n"
   ]
  },
  {
   "cell_type": "code",
   "execution_count": 119,
   "id": "5221bcf0",
   "metadata": {
    "colab": {
     "base_uri": "https://localhost:8080/"
    },
    "id": "5221bcf0",
    "outputId": "92595e9c-962b-40e5-d264-3fafc2ebc466"
   },
   "outputs": [
    {
     "name": "stdout",
     "output_type": "stream",
     "text": [
      "Correlation matrix:\n",
      "                                  Past_6_Months_Hospital_Admission  \\\n",
      "Past_6_Months_Hospital_Admission                          1.000000   \n",
      "Past_6_Months_ED_Admission                                0.969116   \n",
      "\n",
      "                                  Past_6_Months_ED_Admission  \n",
      "Past_6_Months_Hospital_Admission                    0.969116  \n",
      "Past_6_Months_ED_Admission                          1.000000  \n"
     ]
    }
   ],
   "source": [
    "# Compute correlation\n",
    "correlation = notes_diagnosis_adm_df[['Past_6_Months_Hospital_Admission', 'Past_6_Months_ED_Admission']].corr()\n",
    "\n",
    "# Display correlation matrix\n",
    "print(\"Correlation matrix:\")\n",
    "print(correlation)"
   ]
  },
  {
   "cell_type": "code",
   "execution_count": 120,
   "id": "e14ab393",
   "metadata": {
    "colab": {
     "base_uri": "https://localhost:8080/",
     "height": 621
    },
    "id": "e14ab393",
    "outputId": "7c5da119-4a6c-42d8-e523-31faf679ce07"
   },
   "outputs": [
    {
     "data": {
      "image/png": "[encoded data removed]",
      "text/plain": [
       "<Figure size 600x400 with 2 Axes>"
      ]
     },
     "metadata": {},
     "output_type": "display_data"
    }
   ],
   "source": [
    "import seaborn as sns\n",
    "import matplotlib.pyplot as plt\n",
    "\n",
    "# Plot heatmap\n",
    "plt.figure(figsize=(6, 4))\n",
    "sns.heatmap(correlation, annot=True, cmap='coolwarm', fmt='.2f', cbar=True)\n",
    "plt.title('Correlation Heatmap')\n",
    "plt.show()\n"
   ]
  },
  {
   "cell_type": "markdown",
   "id": "df2509d8",
   "metadata": {
    "id": "df2509d8"
   },
   "source": [
    "#### Removing Previous_DISCHTIME as it is a date and we are not using for any visualizations"
   ]
  },
  {
   "cell_type": "code",
   "execution_count": 121,
   "id": "155a3945",
   "metadata": {
    "colab": {
     "base_uri": "https://localhost:8080/"
    },
    "id": "155a3945",
    "outputId": "2340c955-dfdf-4b29-b353-9ec2e106e543"
   },
   "outputs": [
    {
     "name": "stdout",
     "output_type": "stream",
     "text": [
      "0                       0\n",
      "2                       0\n",
      "3                       0\n",
      "5                       0\n",
      "6                       0\n",
      "7                       0\n",
      "8                       0\n",
      "9                       0\n",
      "10                      0\n",
      "11    2134-09-24 16:15:00\n",
      "13                      0\n",
      "14                      0\n",
      "15                      0\n",
      "16                      0\n",
      "17    2186-07-20 16:00:00\n",
      "20                      0\n",
      "21                      0\n",
      "22                      0\n",
      "23                      0\n",
      "24                      0\n",
      "Name: Previous_DISCHTIME, dtype: object\n"
     ]
    }
   ],
   "source": [
    "# Display the first few rows of the Previous_DISCHTIME column\n",
    "print(notes_diagnosis_adm_df['Previous_DISCHTIME'].head(20))\n"
   ]
  },
  {
   "cell_type": "markdown",
   "id": "613fbbb9",
   "metadata": {
    "id": "613fbbb9"
   },
   "source": [
    "#### Removing the columns that are not required for the further modelling part"
   ]
  },
  {
   "cell_type": "code",
   "execution_count": 122,
   "id": "324e8f63",
   "metadata": {
    "id": "324e8f63"
   },
   "outputs": [],
   "source": [
    "# Dropping the specified columns\n",
    "columns_to_drop = [\n",
    "    'Past_6_Months_ED_Admission',\n",
    "    'CPT_CD',\n",
    "    'sentiment_scores',\n",
    "    'TEXT',\n",
    "    'DOD',\n",
    "    'Previous_DISCHTIME',\n",
    "    'DESCRIPTION'\n",
    "]\n",
    "\n",
    "notes_diagnosis_adm_df = notes_diagnosis_adm_df.drop(columns=columns_to_drop, axis=1)\n"
   ]
  },
  {
   "cell_type": "code",
   "execution_count": 123,
   "id": "218f4523",
   "metadata": {
    "colab": {
     "base_uri": "https://localhost:8080/",
     "height": 559
    },
    "id": "218f4523",
    "outputId": "ab5e7306-babe-41f0-d642-db3a2de62706"
   },
   "outputs": [
    {
     "data": {
      "text/html": [
       "<div>\n",
       "<style scoped>\n",
       "    .dataframe tbody tr th:only-of-type {\n",
       "        vertical-align: middle;\n",
       "    }\n",
       "\n",
       "    .dataframe tbody tr th {\n",
       "        vertical-align: top;\n",
       "    }\n",
       "\n",
       "    .dataframe thead th {\n",
       "        text-align: right;\n",
       "    }\n",
       "</style>\n",
       "<table border=\"1\" class=\"dataframe\">\n",
       "  <thead>\n",
       "    <tr style=\"text-align: right;\">\n",
       "      <th></th>\n",
       "      <th>ROW_ID</th>\n",
       "      <th>SUBJECT_ID</th>\n",
       "      <th>HADM_ID</th>\n",
       "      <th>CATEGORY</th>\n",
       "      <th>ADMITTIME</th>\n",
       "      <th>DISCHTIME</th>\n",
       "      <th>ADMISSION_TYPE</th>\n",
       "      <th>LEN_OF_STAY</th>\n",
       "      <th>Readmission</th>\n",
       "      <th>GENDER</th>\n",
       "      <th>...</th>\n",
       "      <th>AGE</th>\n",
       "      <th>ICD9_CODE</th>\n",
       "      <th>PROC_ICD9_CODE</th>\n",
       "      <th>DRG_CODE</th>\n",
       "      <th>Past_6_Months_Hospital_Admission</th>\n",
       "      <th>ICU_LOS</th>\n",
       "      <th>cleaned_text</th>\n",
       "      <th>patient_feedback</th>\n",
       "      <th>compound</th>\n",
       "      <th>patients_sentiment</th>\n",
       "    </tr>\n",
       "  </thead>\n",
       "  <tbody>\n",
       "    <tr>\n",
       "      <th>0</th>\n",
       "      <td>44005</td>\n",
       "      <td>3</td>\n",
       "      <td>145834.0</td>\n",
       "      <td>Discharge summary</td>\n",
       "      <td>2101-10-20 19:08:00</td>\n",
       "      <td>2101-10-31 13:58:00</td>\n",
       "      <td>EMERGENCY</td>\n",
       "      <td>10</td>\n",
       "      <td>0</td>\n",
       "      <td>M</td>\n",
       "      <td>...</td>\n",
       "      <td>76</td>\n",
       "      <td>[0389, 78559, 5849, 4275, 41071, 4280, 6826, 4...</td>\n",
       "      <td>[9604, 9962, 8964, 9672, 3893, 966]</td>\n",
       "      <td>[416]</td>\n",
       "      <td>0</td>\n",
       "      <td>6</td>\n",
       "      <td>admission date discharge date date birth sex s...</td>\n",
       "      <td>patient complained</td>\n",
       "      <td>-0.4019</td>\n",
       "      <td>negative</td>\n",
       "    </tr>\n",
       "    <tr>\n",
       "      <th>2</th>\n",
       "      <td>20070</td>\n",
       "      <td>9</td>\n",
       "      <td>150750.0</td>\n",
       "      <td>Discharge summary</td>\n",
       "      <td>2149-11-09 13:06:00</td>\n",
       "      <td>2149-11-14 10:15:00</td>\n",
       "      <td>EMERGENCY</td>\n",
       "      <td>4</td>\n",
       "      <td>0</td>\n",
       "      <td>M</td>\n",
       "      <td>...</td>\n",
       "      <td>41</td>\n",
       "      <td>[431, 5070, 4280, 5849, 2765, 4019]</td>\n",
       "      <td>[9672, 9604]</td>\n",
       "      <td>[14]</td>\n",
       "      <td>0</td>\n",
       "      <td>5</td>\n",
       "      <td>admission date discharge date date birth sex s...</td>\n",
       "      <td>None</td>\n",
       "      <td>0.0000</td>\n",
       "      <td>neutral</td>\n",
       "    </tr>\n",
       "    <tr>\n",
       "      <th>3</th>\n",
       "      <td>57115</td>\n",
       "      <td>9</td>\n",
       "      <td>150750.0</td>\n",
       "      <td>Discharge summary</td>\n",
       "      <td>2149-11-09 13:06:00</td>\n",
       "      <td>2149-11-14 10:15:00</td>\n",
       "      <td>EMERGENCY</td>\n",
       "      <td>4</td>\n",
       "      <td>0</td>\n",
       "      <td>M</td>\n",
       "      <td>...</td>\n",
       "      <td>41</td>\n",
       "      <td>[431, 5070, 4280, 5849, 2765, 4019]</td>\n",
       "      <td>[9672, 9604]</td>\n",
       "      <td>[14]</td>\n",
       "      <td>0</td>\n",
       "      <td>5</td>\n",
       "      <td>name unit admission date discharge date date b...</td>\n",
       "      <td>None</td>\n",
       "      <td>0.0000</td>\n",
       "      <td>neutral</td>\n",
       "    </tr>\n",
       "    <tr>\n",
       "      <th>5</th>\n",
       "      <td>20168</td>\n",
       "      <td>13</td>\n",
       "      <td>143045.0</td>\n",
       "      <td>Discharge summary</td>\n",
       "      <td>2167-01-08 18:43:00</td>\n",
       "      <td>2167-01-15 15:15:00</td>\n",
       "      <td>EMERGENCY</td>\n",
       "      <td>6</td>\n",
       "      <td>0</td>\n",
       "      <td>F</td>\n",
       "      <td>...</td>\n",
       "      <td>39</td>\n",
       "      <td>[41401, 4111, 25000, 4019, 2720]</td>\n",
       "      <td>[3612, 3615, 3961, 3761, 8872]</td>\n",
       "      <td>[109]</td>\n",
       "      <td>0</td>\n",
       "      <td>3</td>\n",
       "      <td>admission date discharge date date birth sex f...</td>\n",
       "      <td>None</td>\n",
       "      <td>0.0000</td>\n",
       "      <td>neutral</td>\n",
       "    </tr>\n",
       "    <tr>\n",
       "      <th>6</th>\n",
       "      <td>57099</td>\n",
       "      <td>13</td>\n",
       "      <td>143045.0</td>\n",
       "      <td>Discharge summary</td>\n",
       "      <td>2167-01-08 18:43:00</td>\n",
       "      <td>2167-01-15 15:15:00</td>\n",
       "      <td>EMERGENCY</td>\n",
       "      <td>6</td>\n",
       "      <td>0</td>\n",
       "      <td>F</td>\n",
       "      <td>...</td>\n",
       "      <td>39</td>\n",
       "      <td>[41401, 4111, 25000, 4019, 2720]</td>\n",
       "      <td>[3612, 3615, 3961, 3761, 8872]</td>\n",
       "      <td>[109]</td>\n",
       "      <td>0</td>\n",
       "      <td>3</td>\n",
       "      <td>name c unit admission date discharge date date...</td>\n",
       "      <td>None</td>\n",
       "      <td>0.0000</td>\n",
       "      <td>neutral</td>\n",
       "    </tr>\n",
       "  </tbody>\n",
       "</table>\n",
       "<p>5 rows × 22 columns</p>\n",
       "</div>"
      ],
      "text/plain": [
       "   ROW_ID  SUBJECT_ID   HADM_ID           CATEGORY           ADMITTIME  \\\n",
       "0   44005           3  145834.0  Discharge summary 2101-10-20 19:08:00   \n",
       "2   20070           9  150750.0  Discharge summary 2149-11-09 13:06:00   \n",
       "3   57115           9  150750.0  Discharge summary 2149-11-09 13:06:00   \n",
       "5   20168          13  143045.0  Discharge summary 2167-01-08 18:43:00   \n",
       "6   57099          13  143045.0  Discharge summary 2167-01-08 18:43:00   \n",
       "\n",
       "            DISCHTIME ADMISSION_TYPE  LEN_OF_STAY  Readmission GENDER  ...  \\\n",
       "0 2101-10-31 13:58:00      EMERGENCY           10            0      M  ...   \n",
       "2 2149-11-14 10:15:00      EMERGENCY            4            0      M  ...   \n",
       "3 2149-11-14 10:15:00      EMERGENCY            4            0      M  ...   \n",
       "5 2167-01-15 15:15:00      EMERGENCY            6            0      F  ...   \n",
       "6 2167-01-15 15:15:00      EMERGENCY            6            0      F  ...   \n",
       "\n",
       "  AGE                                          ICD9_CODE  \\\n",
       "0  76  [0389, 78559, 5849, 4275, 41071, 4280, 6826, 4...   \n",
       "2  41                [431, 5070, 4280, 5849, 2765, 4019]   \n",
       "3  41                [431, 5070, 4280, 5849, 2765, 4019]   \n",
       "5  39                   [41401, 4111, 25000, 4019, 2720]   \n",
       "6  39                   [41401, 4111, 25000, 4019, 2720]   \n",
       "\n",
       "                        PROC_ICD9_CODE DRG_CODE  \\\n",
       "0  [9604, 9962, 8964, 9672, 3893, 966]    [416]   \n",
       "2                         [9672, 9604]     [14]   \n",
       "3                         [9672, 9604]     [14]   \n",
       "5       [3612, 3615, 3961, 3761, 8872]    [109]   \n",
       "6       [3612, 3615, 3961, 3761, 8872]    [109]   \n",
       "\n",
       "  Past_6_Months_Hospital_Admission ICU_LOS  \\\n",
       "0                                0       6   \n",
       "2                                0       5   \n",
       "3                                0       5   \n",
       "5                                0       3   \n",
       "6                                0       3   \n",
       "\n",
       "                                        cleaned_text    patient_feedback  \\\n",
       "0  admission date discharge date date birth sex s...  patient complained   \n",
       "2  admission date discharge date date birth sex s...                None   \n",
       "3  name unit admission date discharge date date b...                None   \n",
       "5  admission date discharge date date birth sex f...                None   \n",
       "6  name c unit admission date discharge date date...                None   \n",
       "\n",
       "  compound patients_sentiment  \n",
       "0  -0.4019           negative  \n",
       "2   0.0000            neutral  \n",
       "3   0.0000            neutral  \n",
       "5   0.0000            neutral  \n",
       "6   0.0000            neutral  \n",
       "\n",
       "[5 rows x 22 columns]"
      ]
     },
     "execution_count": 123,
     "metadata": {},
     "output_type": "execute_result"
    }
   ],
   "source": [
    "notes_diagnosis_adm_df.head()"
   ]
  },
  {
   "cell_type": "code",
   "execution_count": 124,
   "id": "9ae20a6a",
   "metadata": {
    "colab": {
     "base_uri": "https://localhost:8080/"
    },
    "id": "9ae20a6a",
    "outputId": "2093744f-2fac-4e97-f86b-06af552a4cc1"
   },
   "outputs": [
    {
     "name": "stdout",
     "output_type": "stream",
     "text": [
      "Data Types in the Dataset:\n",
      "ROW_ID                                       int64\n",
      "SUBJECT_ID                                   int64\n",
      "HADM_ID                                    float64\n",
      "CATEGORY                                    object\n",
      "ADMITTIME                           datetime64[ns]\n",
      "DISCHTIME                           datetime64[ns]\n",
      "ADMISSION_TYPE                              object\n",
      "LEN_OF_STAY                                  int64\n",
      "Readmission                                  int32\n",
      "GENDER                                      object\n",
      "DOB                                 datetime64[ns]\n",
      "EXPIRE_FLAG                                  int64\n",
      "AGE                                          int32\n",
      "ICD9_CODE                                   object\n",
      "PROC_ICD9_CODE                              object\n",
      "DRG_CODE                                    object\n",
      "Past_6_Months_Hospital_Admission             int64\n",
      "ICU_LOS                                      int64\n",
      "cleaned_text                                object\n",
      "patient_feedback                            object\n",
      "compound                                   float64\n",
      "patients_sentiment                          object\n",
      "dtype: object\n",
      "\n",
      "Continuous Features:\n",
      "['ROW_ID', 'SUBJECT_ID', 'HADM_ID', 'LEN_OF_STAY', 'EXPIRE_FLAG', 'Past_6_Months_Hospital_Admission', 'ICU_LOS', 'compound']\n",
      "\n",
      "Categorical Features:\n",
      "['CATEGORY', 'ADMISSION_TYPE', 'GENDER', 'ICD9_CODE', 'PROC_ICD9_CODE', 'DRG_CODE', 'cleaned_text', 'patient_feedback', 'patients_sentiment']\n"
     ]
    }
   ],
   "source": [
    "# Summary of data types\n",
    "print(\"Data Types in the Dataset:\")\n",
    "print(notes_diagnosis_adm_df.dtypes)\n",
    "\n",
    "# Identify continuous features\n",
    "continuous_features = notes_diagnosis_adm_df.select_dtypes(include=['float64', 'int64']).columns.tolist()\n",
    "print(\"\\nContinuous Features:\")\n",
    "print(continuous_features)\n",
    "\n",
    "# Identify categorical features\n",
    "categorical_features = notes_diagnosis_adm_df.select_dtypes(include=['object', 'bool', 'category']).columns.tolist()\n",
    "print(\"\\nCategorical Features:\")\n",
    "print(categorical_features)\n"
   ]
  },
  {
   "cell_type": "markdown",
   "id": "35a2b435",
   "metadata": {
    "id": "35a2b435"
   },
   "source": [
    "### Correlation Matrix for Continuous Features"
   ]
  },
  {
   "cell_type": "code",
   "execution_count": 125,
   "id": "de37d4c9",
   "metadata": {
    "colab": {
     "base_uri": "https://localhost:8080/",
     "height": 713
    },
    "id": "de37d4c9",
    "outputId": "25eee1da-d877-4a02-e0fb-de2c307eea5e"
   },
   "outputs": [
    {
     "data": {
      "image/png": "[encoded data removed]",
      "text/plain": [
       "<Figure size 800x600 with 2 Axes>"
      ]
     },
     "metadata": {},
     "output_type": "display_data"
    }
   ],
   "source": [
    "import seaborn as sns\n",
    "import matplotlib.pyplot as plt\n",
    "\n",
    "# Filter only continuous features\n",
    "correlation_data = notes_diagnosis_adm_df[continuous_features]\n",
    "\n",
    "# Compute the correlation matrix\n",
    "correlation_matrix = correlation_data.corr()\n",
    "\n",
    "# Plot the heatmap\n",
    "plt.figure(figsize=(8, 6))\n",
    "sns.heatmap(correlation_matrix, annot=True, fmt=\".2f\", cmap='coolwarm', cbar=True, square=True)\n",
    "plt.title('Correlation Matrix for Continuous Features')\n",
    "plt.xticks(rotation=45, ha='right')\n",
    "plt.yticks(rotation=0)\n",
    "plt.show()\n"
   ]
  },
  {
   "cell_type": "markdown",
   "id": "6797a39e",
   "metadata": {
    "id": "6797a39e"
   },
   "source": [
    "### CHI-SQUARE TEST for the categorical variables with the target variable Readmission"
   ]
  },
  {
   "cell_type": "code",
   "execution_count": 126,
   "id": "7349975c",
   "metadata": {
    "colab": {
     "base_uri": "https://localhost:8080/"
    },
    "id": "7349975c",
    "outputId": "361513a0-4dd6-409f-bc3d-b780907eb3bf"
   },
   "outputs": [
    {
     "name": "stdout",
     "output_type": "stream",
     "text": [
      "CATEGORY              object\n",
      "ADMISSION_TYPE        object\n",
      "GENDER                object\n",
      "ICD9_CODE             object\n",
      "PROC_ICD9_CODE        object\n",
      "DRG_CODE              object\n",
      "cleaned_text          object\n",
      "patient_feedback      object\n",
      "patients_sentiment    object\n",
      "dtype: object\n"
     ]
    }
   ],
   "source": [
    "# Check data types of categorical features\n",
    "print(notes_diagnosis_adm_df[categorical_features].dtypes)\n"
   ]
  },
  {
   "cell_type": "code",
   "execution_count": 127,
   "id": "12f8bc68",
   "metadata": {
    "id": "12f8bc68"
   },
   "outputs": [],
   "source": [
    "# Convert all categorical features to string\n",
    "for feature in categorical_features:\n",
    "    notes_diagnosis_adm_df[feature] = notes_diagnosis_adm_df[feature].astype(str)\n"
   ]
  },
  {
   "cell_type": "code",
   "execution_count": 128,
   "id": "7ea150ef",
   "metadata": {
    "colab": {
     "base_uri": "https://localhost:8080/"
    },
    "id": "7ea150ef",
    "outputId": "35325dbb-e728-4c0e-ca9c-2d14deaeb088"
   },
   "outputs": [
    {
     "name": "stdout",
     "output_type": "stream",
     "text": [
      "Chi-Square Test Results:\n",
      "                            Chi2        p-value\n",
      "PROC_ICD9_CODE      28066.166502  1.575301e-196\n",
      "DRG_CODE             9157.044554  1.556751e-192\n",
      "ICD9_CODE           39549.000000  3.103228e-179\n",
      "cleaned_text        39538.438155   2.444427e-41\n",
      "patient_feedback     1047.957694   3.518553e-05\n",
      "ADMISSION_TYPE          4.735991   2.953783e-02\n",
      "patients_sentiment      3.187475   2.031649e-01\n",
      "GENDER                  0.019110   8.900510e-01\n",
      "CATEGORY                0.000000   1.000000e+00\n",
      "\n",
      "Significant Features:\n",
      "                          Chi2        p-value\n",
      "PROC_ICD9_CODE    28066.166502  1.575301e-196\n",
      "DRG_CODE           9157.044554  1.556751e-192\n",
      "ICD9_CODE         39549.000000  3.103228e-179\n",
      "cleaned_text      39538.438155   2.444427e-41\n",
      "patient_feedback   1047.957694   3.518553e-05\n",
      "ADMISSION_TYPE        4.735991   2.953783e-02\n"
     ]
    }
   ],
   "source": [
    "from scipy.stats import chi2_contingency\n",
    "\n",
    "# Function to perform chi-square test\n",
    "def chi_square_test(data, target, features):\n",
    "    results = {}\n",
    "    for feature in features:\n",
    "        if feature != target:  # Exclude target itself\n",
    "            contingency_table = pd.crosstab(data[feature], data[target])\n",
    "            chi2, p, dof, expected = chi2_contingency(contingency_table)\n",
    "            results[feature] = {'Chi2': chi2, 'p-value': p}\n",
    "    return pd.DataFrame(results).T\n",
    "\n",
    "# Perform chi-square test\n",
    "target_variable = 'Readmission'  # Replace with your target variable\n",
    "chi_square_results = chi_square_test(notes_diagnosis_adm_df, target_variable, categorical_features)\n",
    "\n",
    "# Display the results\n",
    "chi_square_results.sort_values(by='p-value', inplace=True)\n",
    "print(\"Chi-Square Test Results:\")\n",
    "print(chi_square_results)\n",
    "\n",
    "# Filter significant results\n",
    "significant_features = chi_square_results[chi_square_results['p-value'] < 0.05]\n",
    "print(\"\\nSignificant Features:\")\n",
    "print(significant_features)\n"
   ]
  },
  {
   "cell_type": "code",
   "execution_count": 129,
   "id": "2c2f9365",
   "metadata": {
    "colab": {
     "base_uri": "https://localhost:8080/"
    },
    "id": "2c2f9365",
    "outputId": "239b00c6-202f-40ff-aaa4-fbd29f765068"
   },
   "outputs": [
    {
     "name": "stdout",
     "output_type": "stream",
     "text": [
      "Chi-Square Test Results:\n",
      "╒════════════════════╤═══════════════╤══════════════╕\n",
      "│ Feature            │          Chi2 │      p-value │\n",
      "╞════════════════════╪═══════════════╪══════════════╡\n",
      "│ PROC_ICD9_CODE     │ 28066.2       │ 1.5753e-196  │\n",
      "├────────────────────┼───────────────┼──────────────┤\n",
      "│ DRG_CODE           │  9157.04      │ 1.55675e-192 │\n",
      "├────────────────────┼───────────────┼──────────────┤\n",
      "│ ICD9_CODE          │ 39549         │ 3.10323e-179 │\n",
      "├────────────────────┼───────────────┼──────────────┤\n",
      "│ cleaned_text       │ 39538.4       │ 2.44443e-41  │\n",
      "├────────────────────┼───────────────┼──────────────┤\n",
      "│ patient_feedback   │  1047.96      │ 3.51855e-05  │\n",
      "├────────────────────┼───────────────┼──────────────┤\n",
      "│ ADMISSION_TYPE     │     4.73599   │ 0.0295378    │\n",
      "├────────────────────┼───────────────┼──────────────┤\n",
      "│ patients_sentiment │     3.18747   │ 0.203165     │\n",
      "├────────────────────┼───────────────┼──────────────┤\n",
      "│ GENDER             │     0.0191102 │ 0.890051     │\n",
      "├────────────────────┼───────────────┼──────────────┤\n",
      "│ CATEGORY           │     0         │ 1            │\n",
      "╘════════════════════╧═══════════════╧══════════════╛\n",
      "\n",
      "Significant Features (p-value < 0.05):\n",
      "╒══════════════════╤═════════════╤══════════════╕\n",
      "│ Feature          │        Chi2 │      p-value │\n",
      "╞══════════════════╪═════════════╪══════════════╡\n",
      "│ PROC_ICD9_CODE   │ 28066.2     │ 1.5753e-196  │\n",
      "├──────────────────┼─────────────┼──────────────┤\n",
      "│ DRG_CODE         │  9157.04    │ 1.55675e-192 │\n",
      "├──────────────────┼─────────────┼──────────────┤\n",
      "│ ICD9_CODE        │ 39549       │ 3.10323e-179 │\n",
      "├──────────────────┼─────────────┼──────────────┤\n",
      "│ cleaned_text     │ 39538.4     │ 2.44443e-41  │\n",
      "├──────────────────┼─────────────┼──────────────┤\n",
      "│ patient_feedback │  1047.96    │ 3.51855e-05  │\n",
      "├──────────────────┼─────────────┼──────────────┤\n",
      "│ ADMISSION_TYPE   │     4.73599 │ 0.0295378    │\n",
      "╘══════════════════╧═════════════╧══════════════╛\n"
     ]
    }
   ],
   "source": [
    "from tabulate import tabulate\n",
    "\n",
    "# Display the Chi-Square Test results in tabulated format\n",
    "print(\"Chi-Square Test Results:\")\n",
    "chi_square_table = tabulate(chi_square_results.reset_index(),\n",
    "                            headers=[\"Feature\", \"Chi2\", \"p-value\"],\n",
    "                            tablefmt=\"fancy_grid\",\n",
    "                            showindex=False)\n",
    "print(chi_square_table)\n",
    "\n",
    "# Display the significant features in tabulated format\n",
    "print(\"\\nSignificant Features (p-value < 0.05):\")\n",
    "significant_features_table = tabulate(significant_features.reset_index(),\n",
    "                                      headers=[\"Feature\", \"Chi2\", \"p-value\"],\n",
    "                                      tablefmt=\"fancy_grid\",\n",
    "                                      showindex=False)\n",
    "print(significant_features_table)\n"
   ]
  },
  {
   "cell_type": "code",
   "execution_count": 130,
   "id": "9f73e21e-0154-4b09-b733-209c43786830",
   "metadata": {},
   "outputs": [
    {
     "data": {
      "text/html": [
       "<div>\n",
       "<style scoped>\n",
       "    .dataframe tbody tr th:only-of-type {\n",
       "        vertical-align: middle;\n",
       "    }\n",
       "\n",
       "    .dataframe tbody tr th {\n",
       "        vertical-align: top;\n",
       "    }\n",
       "\n",
       "    .dataframe thead th {\n",
       "        text-align: right;\n",
       "    }\n",
       "</style>\n",
       "<table border=\"1\" class=\"dataframe\">\n",
       "  <thead>\n",
       "    <tr style=\"text-align: right;\">\n",
       "      <th></th>\n",
       "      <th>ROW_ID</th>\n",
       "      <th>SUBJECT_ID</th>\n",
       "      <th>HADM_ID</th>\n",
       "      <th>CATEGORY</th>\n",
       "      <th>ADMITTIME</th>\n",
       "      <th>DISCHTIME</th>\n",
       "      <th>ADMISSION_TYPE</th>\n",
       "      <th>LEN_OF_STAY</th>\n",
       "      <th>Readmission</th>\n",
       "      <th>GENDER</th>\n",
       "      <th>...</th>\n",
       "      <th>AGE</th>\n",
       "      <th>ICD9_CODE</th>\n",
       "      <th>PROC_ICD9_CODE</th>\n",
       "      <th>DRG_CODE</th>\n",
       "      <th>Past_6_Months_Hospital_Admission</th>\n",
       "      <th>ICU_LOS</th>\n",
       "      <th>cleaned_text</th>\n",
       "      <th>patient_feedback</th>\n",
       "      <th>compound</th>\n",
       "      <th>patients_sentiment</th>\n",
       "    </tr>\n",
       "  </thead>\n",
       "  <tbody>\n",
       "    <tr>\n",
       "      <th>0</th>\n",
       "      <td>44005</td>\n",
       "      <td>3</td>\n",
       "      <td>145834.0</td>\n",
       "      <td>Discharge summary</td>\n",
       "      <td>2101-10-20 19:08:00</td>\n",
       "      <td>2101-10-31 13:58:00</td>\n",
       "      <td>EMERGENCY</td>\n",
       "      <td>10</td>\n",
       "      <td>0</td>\n",
       "      <td>M</td>\n",
       "      <td>...</td>\n",
       "      <td>76</td>\n",
       "      <td>['0389', '78559', '5849', '4275', '41071', '42...</td>\n",
       "      <td>['9604', '9962', '8964', '9672', '3893', '966']</td>\n",
       "      <td>['416']</td>\n",
       "      <td>0</td>\n",
       "      <td>6</td>\n",
       "      <td>admission date discharge date date birth sex s...</td>\n",
       "      <td>patient complained</td>\n",
       "      <td>-0.4019</td>\n",
       "      <td>negative</td>\n",
       "    </tr>\n",
       "    <tr>\n",
       "      <th>2</th>\n",
       "      <td>20070</td>\n",
       "      <td>9</td>\n",
       "      <td>150750.0</td>\n",
       "      <td>Discharge summary</td>\n",
       "      <td>2149-11-09 13:06:00</td>\n",
       "      <td>2149-11-14 10:15:00</td>\n",
       "      <td>EMERGENCY</td>\n",
       "      <td>4</td>\n",
       "      <td>0</td>\n",
       "      <td>M</td>\n",
       "      <td>...</td>\n",
       "      <td>41</td>\n",
       "      <td>['431', '5070', '4280', '5849', '2765', '4019']</td>\n",
       "      <td>['9672', '9604']</td>\n",
       "      <td>['14']</td>\n",
       "      <td>0</td>\n",
       "      <td>5</td>\n",
       "      <td>admission date discharge date date birth sex s...</td>\n",
       "      <td>None</td>\n",
       "      <td>0.0000</td>\n",
       "      <td>neutral</td>\n",
       "    </tr>\n",
       "    <tr>\n",
       "      <th>3</th>\n",
       "      <td>57115</td>\n",
       "      <td>9</td>\n",
       "      <td>150750.0</td>\n",
       "      <td>Discharge summary</td>\n",
       "      <td>2149-11-09 13:06:00</td>\n",
       "      <td>2149-11-14 10:15:00</td>\n",
       "      <td>EMERGENCY</td>\n",
       "      <td>4</td>\n",
       "      <td>0</td>\n",
       "      <td>M</td>\n",
       "      <td>...</td>\n",
       "      <td>41</td>\n",
       "      <td>['431', '5070', '4280', '5849', '2765', '4019']</td>\n",
       "      <td>['9672', '9604']</td>\n",
       "      <td>['14']</td>\n",
       "      <td>0</td>\n",
       "      <td>5</td>\n",
       "      <td>name unit admission date discharge date date b...</td>\n",
       "      <td>None</td>\n",
       "      <td>0.0000</td>\n",
       "      <td>neutral</td>\n",
       "    </tr>\n",
       "    <tr>\n",
       "      <th>5</th>\n",
       "      <td>20168</td>\n",
       "      <td>13</td>\n",
       "      <td>143045.0</td>\n",
       "      <td>Discharge summary</td>\n",
       "      <td>2167-01-08 18:43:00</td>\n",
       "      <td>2167-01-15 15:15:00</td>\n",
       "      <td>EMERGENCY</td>\n",
       "      <td>6</td>\n",
       "      <td>0</td>\n",
       "      <td>F</td>\n",
       "      <td>...</td>\n",
       "      <td>39</td>\n",
       "      <td>['41401', '4111', '25000', '4019', '2720']</td>\n",
       "      <td>['3612', '3615', '3961', '3761', '8872']</td>\n",
       "      <td>['109']</td>\n",
       "      <td>0</td>\n",
       "      <td>3</td>\n",
       "      <td>admission date discharge date date birth sex f...</td>\n",
       "      <td>None</td>\n",
       "      <td>0.0000</td>\n",
       "      <td>neutral</td>\n",
       "    </tr>\n",
       "    <tr>\n",
       "      <th>6</th>\n",
       "      <td>57099</td>\n",
       "      <td>13</td>\n",
       "      <td>143045.0</td>\n",
       "      <td>Discharge summary</td>\n",
       "      <td>2167-01-08 18:43:00</td>\n",
       "      <td>2167-01-15 15:15:00</td>\n",
       "      <td>EMERGENCY</td>\n",
       "      <td>6</td>\n",
       "      <td>0</td>\n",
       "      <td>F</td>\n",
       "      <td>...</td>\n",
       "      <td>39</td>\n",
       "      <td>['41401', '4111', '25000', '4019', '2720']</td>\n",
       "      <td>['3612', '3615', '3961', '3761', '8872']</td>\n",
       "      <td>['109']</td>\n",
       "      <td>0</td>\n",
       "      <td>3</td>\n",
       "      <td>name c unit admission date discharge date date...</td>\n",
       "      <td>None</td>\n",
       "      <td>0.0000</td>\n",
       "      <td>neutral</td>\n",
       "    </tr>\n",
       "  </tbody>\n",
       "</table>\n",
       "<p>5 rows × 22 columns</p>\n",
       "</div>"
      ],
      "text/plain": [
       "   ROW_ID  SUBJECT_ID   HADM_ID           CATEGORY           ADMITTIME  \\\n",
       "0   44005           3  145834.0  Discharge summary 2101-10-20 19:08:00   \n",
       "2   20070           9  150750.0  Discharge summary 2149-11-09 13:06:00   \n",
       "3   57115           9  150750.0  Discharge summary 2149-11-09 13:06:00   \n",
       "5   20168          13  143045.0  Discharge summary 2167-01-08 18:43:00   \n",
       "6   57099          13  143045.0  Discharge summary 2167-01-08 18:43:00   \n",
       "\n",
       "            DISCHTIME ADMISSION_TYPE  LEN_OF_STAY  Readmission GENDER  ...  \\\n",
       "0 2101-10-31 13:58:00      EMERGENCY           10            0      M  ...   \n",
       "2 2149-11-14 10:15:00      EMERGENCY            4            0      M  ...   \n",
       "3 2149-11-14 10:15:00      EMERGENCY            4            0      M  ...   \n",
       "5 2167-01-15 15:15:00      EMERGENCY            6            0      F  ...   \n",
       "6 2167-01-15 15:15:00      EMERGENCY            6            0      F  ...   \n",
       "\n",
       "  AGE                                          ICD9_CODE  \\\n",
       "0  76  ['0389', '78559', '5849', '4275', '41071', '42...   \n",
       "2  41    ['431', '5070', '4280', '5849', '2765', '4019']   \n",
       "3  41    ['431', '5070', '4280', '5849', '2765', '4019']   \n",
       "5  39         ['41401', '4111', '25000', '4019', '2720']   \n",
       "6  39         ['41401', '4111', '25000', '4019', '2720']   \n",
       "\n",
       "                                    PROC_ICD9_CODE DRG_CODE  \\\n",
       "0  ['9604', '9962', '8964', '9672', '3893', '966']  ['416']   \n",
       "2                                 ['9672', '9604']   ['14']   \n",
       "3                                 ['9672', '9604']   ['14']   \n",
       "5         ['3612', '3615', '3961', '3761', '8872']  ['109']   \n",
       "6         ['3612', '3615', '3961', '3761', '8872']  ['109']   \n",
       "\n",
       "  Past_6_Months_Hospital_Admission ICU_LOS  \\\n",
       "0                                0       6   \n",
       "2                                0       5   \n",
       "3                                0       5   \n",
       "5                                0       3   \n",
       "6                                0       3   \n",
       "\n",
       "                                        cleaned_text    patient_feedback  \\\n",
       "0  admission date discharge date date birth sex s...  patient complained   \n",
       "2  admission date discharge date date birth sex s...                None   \n",
       "3  name unit admission date discharge date date b...                None   \n",
       "5  admission date discharge date date birth sex f...                None   \n",
       "6  name c unit admission date discharge date date...                None   \n",
       "\n",
       "  compound patients_sentiment  \n",
       "0  -0.4019           negative  \n",
       "2   0.0000            neutral  \n",
       "3   0.0000            neutral  \n",
       "5   0.0000            neutral  \n",
       "6   0.0000            neutral  \n",
       "\n",
       "[5 rows x 22 columns]"
      ]
     },
     "execution_count": 130,
     "metadata": {},
     "output_type": "execute_result"
    }
   ],
   "source": [
    "notes_diagnosis_adm_df.head()"
   ]
  },
  {
   "cell_type": "code",
   "execution_count": 137,
   "id": "3d04bb5e-5970-4960-9280-72cc11e1e7e3",
   "metadata": {},
   "outputs": [],
   "source": [
    "notes_diagnosis_adm_df.head(500).to_csv('seen_data.csv')"
   ]
  },
  {
   "cell_type": "code",
   "execution_count": 131,
   "id": "95ab93e3",
   "metadata": {
    "id": "95ab93e3"
   },
   "outputs": [],
   "source": [
    "# Step 6: Define Target Variable and Split Data\n",
    "y = notes_diagnosis_adm_df['Readmission']\n",
    "\n",
    "# Split the data into training and testing sets (80% train, 20% test)\n",
    "X_train, X_test, y_train, y_test = train_test_split(X_combined, y, test_size=0.2, random_state=42)"
   ]
  },
  {
   "cell_type": "code",
   "execution_count": 132,
   "id": "2b3de2a1",
   "metadata": {
    "colab": {
     "base_uri": "https://localhost:8080/"
    },
    "id": "2b3de2a1",
    "outputId": "a9bd61f6-b078-47ca-d430-38615ede0869"
   },
   "outputs": [
    {
     "name": "stdout",
     "output_type": "stream",
     "text": [
      "Training and testing data saved successfully!\n"
     ]
    }
   ],
   "source": [
    "import joblib\n",
    "\n",
    "# Save the training and testing sets\n",
    "joblib.dump(X_train, 'X_train.pkl')\n",
    "joblib.dump(X_test, 'X_test.pkl')\n",
    "joblib.dump(y_train, 'y_train.pkl')\n",
    "joblib.dump(y_test, 'y_test.pkl')\n",
    "\n",
    "print(\"Training and testing data saved successfully!\")\n"
   ]
  },
  {
   "cell_type": "code",
   "execution_count": 133,
   "id": "87d66f96",
   "metadata": {
    "colab": {
     "base_uri": "https://localhost:8080/"
    },
    "id": "87d66f96",
    "outputId": "cfc22678-bce8-403a-c61c-2bc8e46f013e"
   },
   "outputs": [
    {
     "name": "stdout",
     "output_type": "stream",
     "text": [
      "Training and testing data loaded successfully!\n"
     ]
    }
   ],
   "source": [
    "import joblib\n",
    "\n",
    "# Load the training and testing sets\n",
    "X_train = joblib.load('X_train.pkl')\n",
    "X_test = joblib.load('X_test.pkl')\n",
    "y_train = joblib.load('y_train.pkl')\n",
    "y_test = joblib.load('y_test.pkl')\n",
    "\n",
    "print(\"Training and testing data loaded successfully!\")\n"
   ]
  },
  {
   "cell_type": "code",
   "execution_count": 134,
   "id": "bde63c85",
   "metadata": {
    "colab": {
     "base_uri": "https://localhost:8080/"
    },
    "id": "bde63c85",
    "outputId": "aae83397-b62b-4afd-fa39-dea242d74beb"
   },
   "outputs": [
    {
     "name": "stdout",
     "output_type": "stream",
     "text": [
      "X_train shape: (31639, 19144)\n",
      "y_train shape: (31639,)\n",
      "X_test shape: (7910, 19144)\n",
      "y_test shape: (7910,)\n"
     ]
    }
   ],
   "source": [
    "print(f\"X_train shape: {X_train.shape}\")\n",
    "print(f\"y_train shape: {y_train.shape}\")\n",
    "print(f\"X_test shape: {X_test.shape}\")\n",
    "print(f\"y_test shape: {y_test.shape}\")\n"
   ]
  },
  {
   "cell_type": "markdown",
   "id": "Cy6s0xQcFa4R",
   "metadata": {
    "id": "Cy6s0xQcFa4R"
   },
   "source": [
    "# GRU"
   ]
  },
  {
   "cell_type": "code",
   "execution_count": 135,
   "id": "qE2Xj1vG9adz",
   "metadata": {
    "colab": {
     "base_uri": "https://localhost:8080/"
    },
    "id": "qE2Xj1vG9adz",
    "outputId": "4a0504d7-0c59-4c4f-bf87-400a97301d1a"
   },
   "outputs": [
    {
     "name": "stderr",
     "output_type": "stream",
     "text": [
      "C:\\Users\\SnehalChoudhari-I\\anaconda3_new\\Lib\\site-packages\\keras\\src\\layers\\rnn\\rnn.py:204: UserWarning: Do not pass an `input_shape`/`input_dim` argument to a layer. When using Sequential models, prefer using an `Input(shape)` object as the first layer in the model instead.\n",
      "  super().__init__(**kwargs)\n"
     ]
    },
    {
     "name": "stdout",
     "output_type": "stream",
     "text": [
      "Epoch 1/100\n",
      "\u001b[1m791/791\u001b[0m \u001b[32m━━━━━━━━━━━━━━━━━━━━\u001b[0m\u001b[37m\u001b[0m \u001b[1m21s\u001b[0m 23ms/step - accuracy: 0.9094 - loss: 0.2630 - val_accuracy: 0.9526 - val_loss: 0.0982 - learning_rate: 0.0010\n",
      "Epoch 2/100\n",
      "\u001b[1m791/791\u001b[0m \u001b[32m━━━━━━━━━━━━━━━━━━━━\u001b[0m\u001b[37m\u001b[0m \u001b[1m17s\u001b[0m 22ms/step - accuracy: 0.9710 - loss: 0.0793 - val_accuracy: 0.9524 - val_loss: 0.1002 - learning_rate: 0.0010\n",
      "Epoch 3/100\n",
      "\u001b[1m791/791\u001b[0m \u001b[32m━━━━━━━━━━━━━━━━━━━━\u001b[0m\u001b[37m\u001b[0m \u001b[1m17s\u001b[0m 21ms/step - accuracy: 0.9788 - loss: 0.0538 - val_accuracy: 0.9559 - val_loss: 0.1199 - learning_rate: 0.0010\n",
      "Epoch 4/100\n",
      "\u001b[1m791/791\u001b[0m \u001b[32m━━━━━━━━━━━━━━━━━━━━\u001b[0m\u001b[37m\u001b[0m \u001b[1m17s\u001b[0m 22ms/step - accuracy: 0.9875 - loss: 0.0310 - val_accuracy: 0.9554 - val_loss: 0.1439 - learning_rate: 0.0010\n",
      "Epoch 5/100\n",
      "\u001b[1m791/791\u001b[0m \u001b[32m━━━━━━━━━━━━━━━━━━━━\u001b[0m\u001b[37m\u001b[0m \u001b[1m17s\u001b[0m 22ms/step - accuracy: 0.9958 - loss: 0.0168 - val_accuracy: 0.9561 - val_loss: 0.1689 - learning_rate: 5.0000e-04\n",
      "Epoch 6/100\n",
      "\u001b[1m791/791\u001b[0m \u001b[32m━━━━━━━━━━━━━━━━━━━━\u001b[0m\u001b[37m\u001b[0m \u001b[1m17s\u001b[0m 22ms/step - accuracy: 0.9972 - loss: 0.0123 - val_accuracy: 0.9548 - val_loss: 0.1866 - learning_rate: 5.0000e-04\n"
     ]
    },
    {
     "name": "stderr",
     "output_type": "stream",
     "text": [
      "WARNING:absl:You are saving your model as an HDF5 file via `model.save()` or `keras.saving.save_model(model)`. This file format is considered legacy. We recommend using instead the native Keras format, e.g. `model.save('my_model.keras')` or `keras.saving.save_model(model, 'my_model.keras')`. \n"
     ]
    },
    {
     "name": "stdout",
     "output_type": "stream",
     "text": [
      "\u001b[1m989/989\u001b[0m \u001b[32m━━━━━━━━━━━━━━━━━━━━\u001b[0m\u001b[37m\u001b[0m \u001b[1m4s\u001b[0m 3ms/step\n",
      "\u001b[1m248/248\u001b[0m \u001b[32m━━━━━━━━━━━━━━━━━━━━\u001b[0m\u001b[37m\u001b[0m \u001b[1m1s\u001b[0m 4ms/step\n",
      "GRU Training Classification Report:\n",
      "               precision    recall  f1-score   support\n",
      "\n",
      "           0       1.00      0.97      0.98     28276\n",
      "           1       0.77      0.96      0.86      3363\n",
      "\n",
      "    accuracy                           0.97     31639\n",
      "   macro avg       0.88      0.96      0.92     31639\n",
      "weighted avg       0.97      0.97      0.97     31639\n",
      "\n",
      "GRU Testing Classification Report:\n",
      "               precision    recall  f1-score   support\n",
      "\n",
      "           0       0.99      0.96      0.97      7085\n",
      "           1       0.73      0.91      0.81       825\n",
      "\n",
      "    accuracy                           0.95      7910\n",
      "   macro avg       0.86      0.93      0.89      7910\n",
      "weighted avg       0.96      0.95      0.96      7910\n",
      "\n"
     ]
    }
   ],
   "source": [
    "import numpy as np\n",
    "import tensorflow as tf\n",
    "from tensorflow.keras.models import Sequential\n",
    "from tensorflow.keras.layers import Dense, Dropout, BatchNormalization, GRU\n",
    "from tensorflow.keras.callbacks import EarlyStopping, ReduceLROnPlateau\n",
    "from tensorflow.keras.optimizers import Adam\n",
    "from sklearn.metrics import classification_report\n",
    "from sklearn.model_selection import train_test_split\n",
    "\n",
    "# Ensure data is in dense format (if sparse, convert to dense)\n",
    "X_train_dense = X_train.toarray() if hasattr(X_train, 'toarray') else X_train\n",
    "X_test_dense = X_test.toarray() if hasattr(X_test, 'toarray') else X_test\n",
    "\n",
    "# Reshape data for GRU model (treat each sample as a single timestep)\n",
    "X_train_reshaped = np.expand_dims(X_train_dense, axis=1)\n",
    "X_test_reshaped = np.expand_dims(X_test_dense, axis=1)\n",
    "\n",
    "# Define the GRU model\n",
    "gru_model = Sequential([\n",
    "    GRU(64, activation='relu', input_shape=(X_train_reshaped.shape[1], X_train_reshaped.shape[2])),\n",
    "    Dropout(0.3),\n",
    "    Dense(32, activation='relu'),\n",
    "    Dropout(0.3),\n",
    "    Dense(1, activation='sigmoid')\n",
    "])\n",
    "\n",
    "# Compile the GRU model\n",
    "gru_model.compile(optimizer=Adam(learning_rate=0.001), loss='binary_crossentropy', metrics=['accuracy'])\n",
    "\n",
    "# Early stopping and learning rate reduction\n",
    "early_stopping = EarlyStopping(monitor='val_loss', patience=5, restore_best_weights=True)\n",
    "reduce_lr = ReduceLROnPlateau(monitor='val_loss', factor=0.5, patience=3, min_lr=1e-6)\n",
    "\n",
    "# Train the GRU model\n",
    "gru_model.fit(X_train_reshaped, y_train, epochs=100, batch_size=32, validation_split=0.2, callbacks=[early_stopping, reduce_lr])\n",
    "\n",
    "# Save the GRU model\n",
    "gru_model.save('gru_model_latest.h5')\n",
    "\n",
    "# Evaluate GRU model on the training and test sets\n",
    "y_train_pred_gru = (gru_model.predict(X_train_reshaped) > 0.5).astype(int)\n",
    "y_test_pred_gru = (gru_model.predict(X_test_reshaped) > 0.5).astype(int)\n",
    "\n",
    "print(\"GRU Training Classification Report:\\n\", classification_report(y_train, y_train_pred_gru))\n",
    "print(\"GRU Testing Classification Report:\\n\", classification_report(y_test, y_test_pred_gru))\n"
   ]
  },
  {
   "cell_type": "code",
   "execution_count": null,
   "id": "8cc44e9b-0229-425e-b021-3bf67b880486",
   "metadata": {},
   "outputs": [],
   "source": []
  },
  {
   "cell_type": "code",
   "execution_count": null,
   "id": "7fa646f9-1911-4816-b7f5-af56a1450c7e",
   "metadata": {},
   "outputs": [],
   "source": []
  },
  {
   "cell_type": "code",
   "execution_count": null,
   "id": "9b54ca20-88f2-45c2-a62e-966cd3fc4bd7",
   "metadata": {},
   "outputs": [],
   "source": []
  },
  {
   "cell_type": "code",
   "execution_count": null,
   "id": "75dd060e-e737-439f-a960-191bd1f5d136",
   "metadata": {},
   "outputs": [],
   "source": []
  },
  {
   "cell_type": "code",
   "execution_count": null,
   "id": "d0c30567-fd35-4d54-b4bd-d9880564ba7b",
   "metadata": {},
   "outputs": [],
   "source": []
  }
 ],
 "metadata": {
  "colab": {
   "machine_shape": "hm",
   "provenance": []
  },
  "kernelspec": {
   "display_name": "Python 3 (ipykernel)",
   "language": "python",
   "name": "python3"
  },
  "language_info": {
   "codemirror_mode": {
    "name": "ipython",
    "version": 3
   },
   "file_extension": ".py",
   "mimetype": "text/x-python",
   "name": "python",
   "nbconvert_exporter": "python",
   "pygments_lexer": "ipython3",
   "version": "3.12.7"
  }
 },
 "nbformat": 4,
 "nbformat_minor": 5
}
